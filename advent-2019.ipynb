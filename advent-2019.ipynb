{
 "cells": [
  {
   "cell_type": "code",
   "execution_count": 1,
   "metadata": {},
   "outputs": [],
   "source": [
    "def fuel(mass):\n",
    "    return (mass // 3) - 2"
   ]
  },
  {
   "cell_type": "code",
   "execution_count": 2,
   "metadata": {},
   "outputs": [],
   "source": [
    "# d1 part 1\n",
    "total = 0\n",
    "with open(\"day1-input\") as f:\n",
    "    for line in f:\n",
    "        total += fuel(int(line.strip()))"
   ]
  },
  {
   "cell_type": "code",
   "execution_count": 3,
   "metadata": {},
   "outputs": [
    {
     "data": {
      "text/plain": [
       "3457681"
      ]
     },
     "execution_count": 3,
     "metadata": {},
     "output_type": "execute_result"
    }
   ],
   "source": [
    "total"
   ]
  },
  {
   "cell_type": "code",
   "execution_count": 4,
   "metadata": {},
   "outputs": [],
   "source": [
    "# d1 part 2\n",
    "total = 0\n",
    "with open(\"day1-input\") as f:\n",
    "    for line in f:\n",
    "        fuel_mass = fuel(int(line.strip()))\n",
    "        while fuel_mass > 0:\n",
    "            total += fuel_mass\n",
    "            fuel_mass = fuel(fuel_mass)"
   ]
  },
  {
   "cell_type": "code",
   "execution_count": 5,
   "metadata": {},
   "outputs": [
    {
     "data": {
      "text/plain": [
       "5183653"
      ]
     },
     "execution_count": 5,
     "metadata": {},
     "output_type": "execute_result"
    }
   ],
   "source": [
    "total"
   ]
  },
  {
   "cell_type": "code",
   "execution_count": 6,
   "metadata": {},
   "outputs": [],
   "source": [
    "# d2 part 1\n",
    "class StopError(Exception):\n",
    "    pass\n",
    "def execute(prog, pos):\n",
    "    op = prog[pos]\n",
    "    if op == 99:\n",
    "        raise StopError(pos)\n",
    "    source1 = prog[pos + 1]\n",
    "    source2 = prog[pos + 2] \n",
    "    dest = prog[pos + 3]\n",
    "    val1 = prog[source1]\n",
    "    val2 = prog[source2]\n",
    "    if op == 1:\n",
    "        res = val1 + val2\n",
    "    elif op == 2:\n",
    "        res = val1 * val2\n",
    "    prog[dest] = res\n",
    "    return pos + 4\n"
   ]
  },
  {
   "cell_type": "code",
   "execution_count": 7,
   "metadata": {},
   "outputs": [],
   "source": [
    "class ProgState:\n",
    "    def __init__(self, prog):\n",
    "        self.prog = prog\n",
    "        self.extra = {}\n",
    "        self.rbase = 0\n",
    "        \n",
    "    def __getitem__(self, index):\n",
    "        if isinstance(index, slice):\n",
    "            if index == slice(None, None, None):\n",
    "                return ProgState(self.prog[:])\n",
    "            raise ValueError(index)\n",
    "        if index < 0:\n",
    "            raise ValueError(index)\n",
    "        if index < len(self.prog):\n",
    "            return self.prog[index]\n",
    "        return self.extra.get(index, 0)\n",
    "    \n",
    "    def __setitem__(self, index, value):\n",
    "        if index < 0:\n",
    "            raise ValueError(index)\n",
    "        if index < len(self.prog):\n",
    "            self.prog[index] = value\n",
    "        else:\n",
    "            self.extra[index] = value\n",
    "\n",
    "def readprog(text):\n",
    "    return ProgState([int(v) for v in text.split(',')])\n",
    "def run(prog, loud=True):\n",
    "    pos = 0\n",
    "    try:\n",
    "        while True:\n",
    "            pos = execute(prog, pos)\n",
    "    except StopError as e:\n",
    "        if loud:\n",
    "            print(f\"stopped at {e}\")\n",
    "    return prog"
   ]
  },
  {
   "cell_type": "code",
   "execution_count": 8,
   "metadata": {},
   "outputs": [],
   "source": [
    "test = '1,9,10,3,2,3,11,0,99,30,40,50'\n",
    "p = readprog(test)"
   ]
  },
  {
   "cell_type": "code",
   "execution_count": 9,
   "metadata": {},
   "outputs": [
    {
     "name": "stdout",
     "output_type": "stream",
     "text": [
      "stopped at 8\n"
     ]
    },
    {
     "data": {
      "text/plain": [
       "<__main__.ProgState at 0x7f2e705d3390>"
      ]
     },
     "execution_count": 9,
     "metadata": {},
     "output_type": "execute_result"
    }
   ],
   "source": [
    "run(p)"
   ]
  },
  {
   "cell_type": "code",
   "execution_count": 10,
   "metadata": {},
   "outputs": [],
   "source": [
    "def tweak(prog, noun, verb):\n",
    "    prog[1] = noun\n",
    "    prog[2] = verb\n"
   ]
  },
  {
   "cell_type": "code",
   "execution_count": 11,
   "metadata": {},
   "outputs": [],
   "source": [
    "def load(day):\n",
    "    with open(f'day{day}-input') as f:\n",
    "        return readprog(f.read().strip())"
   ]
  },
  {
   "cell_type": "code",
   "execution_count": 12,
   "metadata": {},
   "outputs": [
    {
     "name": "stdout",
     "output_type": "stream",
     "text": [
      "stopped at 132\n"
     ]
    },
    {
     "data": {
      "text/plain": [
       "<__main__.ProgState at 0x7f2e705cca90>"
      ]
     },
     "execution_count": 12,
     "metadata": {},
     "output_type": "execute_result"
    }
   ],
   "source": [
    "prog = load(2)\n",
    "tweak(prog, 12, 2)\n",
    "run(prog)"
   ]
  },
  {
   "cell_type": "code",
   "execution_count": 13,
   "metadata": {},
   "outputs": [],
   "source": [
    "goal = 19690720"
   ]
  },
  {
   "cell_type": "code",
   "execution_count": 14,
   "metadata": {},
   "outputs": [],
   "source": [
    "def tryvalues(source, noun, verb):\n",
    "    prog = source[:]\n",
    "    tweak(prog, noun, verb)\n",
    "    res = run(prog, loud=False)\n",
    "    return res[0]"
   ]
  },
  {
   "cell_type": "code",
   "execution_count": 15,
   "metadata": {},
   "outputs": [],
   "source": [
    "orig = load(2)"
   ]
  },
  {
   "cell_type": "code",
   "execution_count": 16,
   "metadata": {},
   "outputs": [
    {
     "data": {
      "text/plain": [
       "1690717"
      ]
     },
     "execution_count": 16,
     "metadata": {},
     "output_type": "execute_result"
    }
   ],
   "source": [
    "tryvalues(orig, 0, 0)"
   ]
  },
  {
   "cell_type": "code",
   "execution_count": 17,
   "metadata": {},
   "outputs": [],
   "source": [
    "noun = 0\n",
    "while tryvalues(orig, noun, 0) < goal:\n",
    "    noun += 1"
   ]
  },
  {
   "cell_type": "code",
   "execution_count": 18,
   "metadata": {},
   "outputs": [],
   "source": [
    "noun -= 1"
   ]
  },
  {
   "cell_type": "code",
   "execution_count": 19,
   "metadata": {},
   "outputs": [
    {
     "data": {
      "text/plain": [
       "19690717"
      ]
     },
     "execution_count": 19,
     "metadata": {},
     "output_type": "execute_result"
    }
   ],
   "source": [
    "tryvalues(orig, noun, 0)"
   ]
  },
  {
   "cell_type": "code",
   "execution_count": 20,
   "metadata": {},
   "outputs": [
    {
     "data": {
      "text/plain": [
       "True"
      ]
     },
     "execution_count": 20,
     "metadata": {},
     "output_type": "execute_result"
    }
   ],
   "source": [
    "tryvalues(orig, noun, 3) == goal"
   ]
  },
  {
   "cell_type": "code",
   "execution_count": 21,
   "metadata": {},
   "outputs": [],
   "source": [
    "# day 3 part 1\n",
    "\n",
    "directions = {\n",
    "    'U': (0, 1),\n",
    "    'D': (0, -1),\n",
    "    'L': (-1, 0),\n",
    "    'R': (1, 0)\n",
    "}\n",
    "\n",
    "def add_points(p1, p2):\n",
    "    return (p1[0] + p2[0], p1[1] + p2[1])\n",
    "\n",
    "def points_in_step(start, step):\n",
    "    direction = directions[step[0]]\n",
    "    distance = int(step[1:])\n",
    "    current = start\n",
    "    for i in range(distance):\n",
    "        current = add_points(current, direction)\n",
    "        yield current\n",
    "\n",
    "def all_points(steps):\n",
    "    current = (0, 0)\n",
    "    i = 0\n",
    "    points = {}\n",
    "    for step in steps:\n",
    "        for point in points_in_step(current, step):\n",
    "            i += 1\n",
    "            if point in points:\n",
    "                continue\n",
    "            points[point] = i\n",
    "        current = point\n",
    "    return points"
   ]
  },
  {
   "cell_type": "code",
   "execution_count": 22,
   "metadata": {},
   "outputs": [],
   "source": [
    "p1 = all_points('R8,U5,L5,D3'.split(','))"
   ]
  },
  {
   "cell_type": "code",
   "execution_count": 23,
   "metadata": {},
   "outputs": [],
   "source": [
    "p2 = all_points('U7,R6,D4,L4'.split(','))"
   ]
  },
  {
   "cell_type": "code",
   "execution_count": 24,
   "metadata": {},
   "outputs": [
    {
     "data": {
      "text/plain": [
       "{(3, 3), (6, 5)}"
      ]
     },
     "execution_count": 24,
     "metadata": {},
     "output_type": "execute_result"
    }
   ],
   "source": [
    "set(p1).intersection(set(p2))"
   ]
  },
  {
   "cell_type": "code",
   "execution_count": 25,
   "metadata": {},
   "outputs": [],
   "source": [
    "def closest_cross(p1, p2):\n",
    "    points1 = all_points(p1.split(','))\n",
    "    points2 = all_points(p2.split(','))\n",
    "    return min(abs(x) + abs(y) for x, y in set(points1).intersection(set(points2)))\n",
    "        "
   ]
  },
  {
   "cell_type": "code",
   "execution_count": 26,
   "metadata": {},
   "outputs": [
    {
     "data": {
      "text/plain": [
       "159"
      ]
     },
     "execution_count": 26,
     "metadata": {},
     "output_type": "execute_result"
    }
   ],
   "source": [
    "closest_cross('R75,D30,R83,U83,L12,D49,R71,U7,L72', 'U62,R66,U55,R34,D71,R55,D58,R83')"
   ]
  },
  {
   "cell_type": "code",
   "execution_count": 27,
   "metadata": {},
   "outputs": [
    {
     "data": {
      "text/plain": [
       "135"
      ]
     },
     "execution_count": 27,
     "metadata": {},
     "output_type": "execute_result"
    }
   ],
   "source": [
    "closest_cross('R98,U47,R26,D63,R33,U87,L62,D20,R33,U53,R51',\n",
    "'U98,R91,D20,R16,D67,R40,U7,R15,U6,R7')"
   ]
  },
  {
   "cell_type": "code",
   "execution_count": 28,
   "metadata": {},
   "outputs": [
    {
     "data": {
      "text/plain": [
       "5319"
      ]
     },
     "execution_count": 28,
     "metadata": {},
     "output_type": "execute_result"
    }
   ],
   "source": [
    "with open('day3-input') as f:\n",
    "    p1 = next(f)\n",
    "    p2 = next(f)\n",
    "closest_cross(p1, p2)"
   ]
  },
  {
   "cell_type": "code",
   "execution_count": 29,
   "metadata": {},
   "outputs": [],
   "source": [
    "# day3 part 2\n",
    "def shortest_cross(p1, p2):\n",
    "    points1 = all_points(p1.split(','))\n",
    "    points2 = all_points(p2.split(','))\n",
    "    crosses = set(points1).intersection(set(points2))\n",
    "    return min(points1[cross] + points2[cross] for cross in crosses)"
   ]
  },
  {
   "cell_type": "code",
   "execution_count": 30,
   "metadata": {},
   "outputs": [
    {
     "data": {
      "text/plain": [
       "30"
      ]
     },
     "execution_count": 30,
     "metadata": {},
     "output_type": "execute_result"
    }
   ],
   "source": [
    "shortest_cross('R8,U5,L5,D3', 'U7,R6,D4,L4')"
   ]
  },
  {
   "cell_type": "code",
   "execution_count": 31,
   "metadata": {},
   "outputs": [
    {
     "data": {
      "text/plain": [
       "610"
      ]
     },
     "execution_count": 31,
     "metadata": {},
     "output_type": "execute_result"
    }
   ],
   "source": [
    "shortest_cross('R75,D30,R83,U83,L12,D49,R71,U7,L72', 'U62,R66,U55,R34,D71,R55,D58,R83')"
   ]
  },
  {
   "cell_type": "code",
   "execution_count": 32,
   "metadata": {},
   "outputs": [
    {
     "data": {
      "text/plain": [
       "410"
      ]
     },
     "execution_count": 32,
     "metadata": {},
     "output_type": "execute_result"
    }
   ],
   "source": [
    "shortest_cross('R98,U47,R26,D63,R33,U87,L62,D20,R33,U53,R51',\n",
    "'U98,R91,D20,R16,D67,R40,U7,R15,U6,R7')"
   ]
  },
  {
   "cell_type": "code",
   "execution_count": 33,
   "metadata": {},
   "outputs": [
    {
     "data": {
      "text/plain": [
       "122514"
      ]
     },
     "execution_count": 33,
     "metadata": {},
     "output_type": "execute_result"
    }
   ],
   "source": [
    "shortest_cross(p1, p2)"
   ]
  },
  {
   "cell_type": "code",
   "execution_count": 34,
   "metadata": {},
   "outputs": [
    {
     "data": {
      "text/plain": [
       "979"
      ]
     },
     "execution_count": 34,
     "metadata": {},
     "output_type": "execute_result"
    }
   ],
   "source": [
    "# day 4 part 1\n",
    "minval = 256310\n",
    "maxval = 732736\n",
    "\n",
    "def matches(num):\n",
    "    digits = str(num)\n",
    "    sdigits = sorted(digits)\n",
    "    if sdigits != list(digits):\n",
    "        return False\n",
    "    if len(set(digits)) == len(digits):\n",
    "        return False\n",
    "    return True\n",
    "\n",
    "def check(pred):\n",
    "    count = 0\n",
    "    for i in range(minval, maxval+1):\n",
    "        if pred(i):\n",
    "            count += 1\n",
    "    return count\n",
    "\n",
    "check(matches)"
   ]
  },
  {
   "cell_type": "code",
   "execution_count": 35,
   "metadata": {},
   "outputs": [
    {
     "data": {
      "text/plain": [
       "True"
      ]
     },
     "execution_count": 35,
     "metadata": {},
     "output_type": "execute_result"
    }
   ],
   "source": [
    "matches(111111)"
   ]
  },
  {
   "cell_type": "code",
   "execution_count": 36,
   "metadata": {},
   "outputs": [
    {
     "data": {
      "text/plain": [
       "False"
      ]
     },
     "execution_count": 36,
     "metadata": {},
     "output_type": "execute_result"
    }
   ],
   "source": [
    "matches(223450)"
   ]
  },
  {
   "cell_type": "code",
   "execution_count": 37,
   "metadata": {},
   "outputs": [
    {
     "data": {
      "text/plain": [
       "False"
      ]
     },
     "execution_count": 37,
     "metadata": {},
     "output_type": "execute_result"
    }
   ],
   "source": [
    "matches(123789)"
   ]
  },
  {
   "cell_type": "code",
   "execution_count": 38,
   "metadata": {},
   "outputs": [],
   "source": [
    "# day 4 part 2\n",
    "import itertools\n",
    "\n",
    "def matches2(num):\n",
    "    digits = str(num)\n",
    "    sdigits = sorted(digits)\n",
    "    if sdigits != list(digits):\n",
    "        return False\n",
    "    for k, group in itertools.groupby(digits):\n",
    "        if len(list(group)) == 2:\n",
    "            break\n",
    "    else:\n",
    "        return False\n",
    "    return True\n",
    " "
   ]
  },
  {
   "cell_type": "code",
   "execution_count": 39,
   "metadata": {},
   "outputs": [
    {
     "data": {
      "text/plain": [
       "True"
      ]
     },
     "execution_count": 39,
     "metadata": {},
     "output_type": "execute_result"
    }
   ],
   "source": [
    "matches2(112233)"
   ]
  },
  {
   "cell_type": "code",
   "execution_count": 40,
   "metadata": {},
   "outputs": [
    {
     "data": {
      "text/plain": [
       "False"
      ]
     },
     "execution_count": 40,
     "metadata": {},
     "output_type": "execute_result"
    }
   ],
   "source": [
    "matches2(123444)"
   ]
  },
  {
   "cell_type": "code",
   "execution_count": 41,
   "metadata": {},
   "outputs": [
    {
     "data": {
      "text/plain": [
       "True"
      ]
     },
     "execution_count": 41,
     "metadata": {},
     "output_type": "execute_result"
    }
   ],
   "source": [
    "matches2(111122)"
   ]
  },
  {
   "cell_type": "code",
   "execution_count": 42,
   "metadata": {},
   "outputs": [
    {
     "data": {
      "text/plain": [
       "635"
      ]
     },
     "execution_count": 42,
     "metadata": {},
     "output_type": "execute_result"
    }
   ],
   "source": [
    "check(matches2)"
   ]
  },
  {
   "cell_type": "code",
   "execution_count": 43,
   "metadata": {},
   "outputs": [],
   "source": [
    "# day 5 part 1\n",
    "\n",
    "class Op:\n",
    "    def __init__(self, pos, value):\n",
    "        self.pos = pos\n",
    "        rest, self.opcode = divmod(value, 100)\n",
    "        modes = []\n",
    "        while rest:\n",
    "            rest, mode = divmod(rest, 10)\n",
    "            modes.append(mode)\n",
    "        while len(modes) < 3:\n",
    "            modes.append(0)\n",
    "        self.modes = modes\n",
    "        \n",
    "    def execute(self, prog, read, write):\n",
    "        if self.opcode == 99:\n",
    "            raise StopError(self.pos)\n",
    "        if self.opcode == 1:\n",
    "            newpos = self.add(prog)\n",
    "        elif self.opcode == 2:\n",
    "            newpos = self.mul(prog)\n",
    "        elif self.opcode == 3:\n",
    "            newpos = self.inp(prog, read)\n",
    "        elif self.opcode == 4:\n",
    "            newpos = self.outp(prog, write)\n",
    "        elif self.opcode == 5:\n",
    "            newpos = self.jump_if_true(prog)\n",
    "        elif self.opcode == 6:\n",
    "            newpos = self.jump_if_false(prog)\n",
    "        elif self.opcode == 7:\n",
    "            newpos = self.less_than(prog)\n",
    "        elif self.opcode == 8:\n",
    "            newpos = self.equals(prog)\n",
    "        elif self.opcode == 9:\n",
    "            newpos = self.set_rbase(prog)\n",
    "        else:\n",
    "            raise ValueError(f\"unknown opcode {self.opcode}\")\n",
    "        return newpos\n",
    "            \n",
    "    def add(self, prog):\n",
    "        arg1 = self.get_arg(1, prog)\n",
    "        arg2 = self.get_arg(2, prog)\n",
    "        res = arg1 + arg2\n",
    "        self.set_dest(prog, 3, res)\n",
    "        return self.pos + 4\n",
    "        \n",
    "    def mul(self, prog):\n",
    "        arg1 = self.get_arg(1, prog)\n",
    "        arg2 = self.get_arg(2, prog)\n",
    "        res = arg1 * arg2\n",
    "        self.set_dest(prog, 3, res)\n",
    "        return self.pos + 4\n",
    "    \n",
    "    def inp(self, prog, read):\n",
    "        val = next(read)\n",
    "        self.set_dest(prog, 1, val)\n",
    "        return self.pos + 2\n",
    "    \n",
    "    def outp(self, prog, write):\n",
    "        arg = self.get_arg(1, prog)\n",
    "        write(arg)\n",
    "        return self.pos + 2\n",
    "    \n",
    "    def jump_if_true(self, prog):\n",
    "        arg1 = self.get_arg(1, prog)\n",
    "        arg2 = self.get_arg(2, prog)\n",
    "        if arg1 != 0:\n",
    "            return arg2\n",
    "        return self.pos + 3\n",
    "    \n",
    "    def jump_if_false(self, prog):\n",
    "        arg1 = self.get_arg(1, prog)\n",
    "        arg2 = self.get_arg(2, prog)\n",
    "        if arg1 == 0:\n",
    "            return arg2\n",
    "        return self.pos + 3\n",
    "    \n",
    "    def less_than(self, prog):\n",
    "        arg1 = self.get_arg(1, prog)\n",
    "        arg2 = self.get_arg(2, prog)\n",
    "        res = 0\n",
    "        if arg1 < arg2:\n",
    "            res = 1\n",
    "        self.set_dest(prog, 3, res)\n",
    "        return self.pos + 4\n",
    "    \n",
    "    def equals(self, prog):\n",
    "        arg1 = self.get_arg(1, prog)\n",
    "        arg2 = self.get_arg(2, prog)\n",
    "        res = 0\n",
    "        if arg1 == arg2:\n",
    "            res = 1\n",
    "        self.set_dest(prog, 3, res)\n",
    "        return self.pos + 4\n",
    "    \n",
    "    def set_rbase(self, prog):\n",
    "        arg = self.get_arg(1, prog)\n",
    "        prog.rbase += arg\n",
    "        return self.pos + 2\n",
    "            \n",
    "    def get_arg(self, i, prog):\n",
    "        val = prog[self.pos + i]\n",
    "        mode = self.modes[i-1]\n",
    "        if mode == 0:\n",
    "            # position mode\n",
    "            val = prog[val]\n",
    "        elif mode == 2:\n",
    "            # relative mode\n",
    "            val = prog[prog.rbase + val]\n",
    "        return val\n",
    "    \n",
    "    def set_dest(self, prog, i, val):\n",
    "        mode = self.modes[i-1]\n",
    "        pos = self.pos + i\n",
    "        dest = prog[pos]\n",
    "        if mode == 2:\n",
    "            # position mode\n",
    "            dest = prog.rbase + dest\n",
    "        prog[dest] = val\n",
    "    \n",
    "class OutOfInputError(Exception):\n",
    "    pass\n",
    "    \n",
    "def reader(*values):\n",
    "    for val in values:\n",
    "        yield val\n",
    "    raise OutOfInputError()\n",
    "    \n",
    "def d5execute(prog, pos, read, write):\n",
    "    op = Op(pos, prog[pos])\n",
    "    return op.execute(prog, read, write)\n",
    "\n",
    "def rund5(prog, read, loud=True):\n",
    "    pos = 0\n",
    "    try:\n",
    "        while True:\n",
    "            pos = d5execute(prog, pos, read, print)\n",
    "    except StopError as e:\n",
    "        if loud:\n",
    "            print(f\"stopped at {e}\")\n",
    "    return prog"
   ]
  },
  {
   "cell_type": "code",
   "execution_count": 44,
   "metadata": {},
   "outputs": [
    {
     "name": "stdout",
     "output_type": "stream",
     "text": [
      "4 [1002, 4, 3, 4, 99]\n",
      "finished\n",
      "[1002, 4, 3, 4, 99]\n"
     ]
    }
   ],
   "source": [
    "prog = [1002,4,3,4,33]\n",
    "read = reader(1)\n",
    "pos = d5execute(prog, 0, read, print)\n",
    "print(pos, prog)\n",
    "try:\n",
    "    pos = d5execute(prog, pos, read, print)\n",
    "except StopError:\n",
    "    print(\"finished\")\n",
    "print(prog)"
   ]
  },
  {
   "cell_type": "code",
   "execution_count": 45,
   "metadata": {},
   "outputs": [
    {
     "name": "stdout",
     "output_type": "stream",
     "text": [
      "stopped at 4\n"
     ]
    },
    {
     "data": {
      "text/plain": [
       "[1002, 4, 3, 4, 99]"
      ]
     },
     "execution_count": 45,
     "metadata": {},
     "output_type": "execute_result"
    }
   ],
   "source": [
    "rund5([1002,4,3,4,33], reader(1))"
   ]
  },
  {
   "cell_type": "code",
   "execution_count": 46,
   "metadata": {},
   "outputs": [],
   "source": [
    "testprog = load(5)"
   ]
  },
  {
   "cell_type": "code",
   "execution_count": 47,
   "metadata": {},
   "outputs": [
    {
     "name": "stdout",
     "output_type": "stream",
     "text": [
      "0\n",
      "0\n",
      "0\n",
      "0\n",
      "0\n",
      "0\n",
      "0\n",
      "0\n",
      "0\n",
      "5577461\n",
      "stopped at 222\n"
     ]
    }
   ],
   "source": [
    "result = rund5(testprog, reader(1))"
   ]
  },
  {
   "cell_type": "code",
   "execution_count": 48,
   "metadata": {},
   "outputs": [
    {
     "name": "stdout",
     "output_type": "stream",
     "text": [
      "0\n",
      "stopped at 8\n"
     ]
    },
    {
     "data": {
      "text/plain": [
       "<__main__.ProgState at 0x7f2e7054a890>"
      ]
     },
     "execution_count": 48,
     "metadata": {},
     "output_type": "execute_result"
    }
   ],
   "source": [
    "# day 5 part 2\n",
    "rund5(readprog('3,9,8,9,10,9,4,9,99,-1,8'), reader(10))"
   ]
  },
  {
   "cell_type": "code",
   "execution_count": 49,
   "metadata": {},
   "outputs": [
    {
     "name": "stdout",
     "output_type": "stream",
     "text": [
      "1\n",
      "stopped at 8\n"
     ]
    },
    {
     "data": {
      "text/plain": [
       "<__main__.ProgState at 0x7f2e70524150>"
      ]
     },
     "execution_count": 49,
     "metadata": {},
     "output_type": "execute_result"
    }
   ],
   "source": [
    "rund5(readprog('3,9,7,9,10,9,4,9,99,-1,8'), reader(-100))"
   ]
  },
  {
   "cell_type": "code",
   "execution_count": 50,
   "metadata": {},
   "outputs": [],
   "source": [
    "def t5(prog, *values):\n",
    "    rund5(readprog(prog), reader(*values), loud=False)"
   ]
  },
  {
   "cell_type": "code",
   "execution_count": 51,
   "metadata": {},
   "outputs": [
    {
     "name": "stdout",
     "output_type": "stream",
     "text": [
      "0\n"
     ]
    }
   ],
   "source": [
    "t5('3,3,1108,-1,8,3,4,3,99', 7)"
   ]
  },
  {
   "cell_type": "code",
   "execution_count": 52,
   "metadata": {},
   "outputs": [
    {
     "name": "stdout",
     "output_type": "stream",
     "text": [
      "0\n"
     ]
    }
   ],
   "source": [
    "t5('3,3,1107,-1,8,3,4,3,99', 9)"
   ]
  },
  {
   "cell_type": "code",
   "execution_count": 53,
   "metadata": {},
   "outputs": [
    {
     "name": "stdout",
     "output_type": "stream",
     "text": [
      "0\n"
     ]
    }
   ],
   "source": [
    "t5('3,12,6,12,15,1,13,14,13,4,13,99,-1,0,1,9', 0)"
   ]
  },
  {
   "cell_type": "code",
   "execution_count": 54,
   "metadata": {},
   "outputs": [
    {
     "name": "stdout",
     "output_type": "stream",
     "text": [
      "0\n"
     ]
    }
   ],
   "source": [
    "t5('3,3,1105,-1,9,1101,0,0,12,4,12,99,1', 0)"
   ]
  },
  {
   "cell_type": "code",
   "execution_count": 55,
   "metadata": {},
   "outputs": [
    {
     "name": "stdout",
     "output_type": "stream",
     "text": [
      "1001\n"
     ]
    }
   ],
   "source": [
    "t5('3,21,1008,21,8,20,1005,20,22,107,8,21,20,1006,20,31,1106,0,36,98,0,0,1002,21,125,20,4,20,1105,1,46,104,999,1105,1,46,1101,1000,1,20,4,20,1105,1,46,98,99', 9)"
   ]
  },
  {
   "cell_type": "code",
   "execution_count": 56,
   "metadata": {},
   "outputs": [],
   "source": [
    "testprog = load(5)"
   ]
  },
  {
   "cell_type": "code",
   "execution_count": 57,
   "metadata": {},
   "outputs": [
    {
     "name": "stdout",
     "output_type": "stream",
     "text": [
      "7161591\n",
      "stopped at 676\n"
     ]
    }
   ],
   "source": [
    "result = rund5(testprog, reader(5))"
   ]
  },
  {
   "cell_type": "code",
   "execution_count": 58,
   "metadata": {},
   "outputs": [],
   "source": [
    "dict.get?"
   ]
  },
  {
   "cell_type": "code",
   "execution_count": 59,
   "metadata": {},
   "outputs": [
    {
     "data": {
      "text/plain": [
       "<function dict.get(key, default=None, /)>"
      ]
     },
     "execution_count": 59,
     "metadata": {},
     "output_type": "execute_result"
    }
   ],
   "source": [
    "{}.get"
   ]
  },
  {
   "cell_type": "code",
   "execution_count": 60,
   "metadata": {},
   "outputs": [
    {
     "name": "stdout",
     "output_type": "stream",
     "text": [
      "42\n"
     ]
    }
   ],
   "source": [
    "# day 6 part 1\n",
    "\n",
    "def read_orbits(lines):\n",
    "    orbits = {}\n",
    "    for line in lines:\n",
    "        orbitee, orbiter = line.strip().split(\")\")\n",
    "        orbits[orbiter] = orbitee\n",
    "    return orbits\n",
    "\n",
    "def depths(orbits):\n",
    "    cache = {}\n",
    "    def _depth(obj):\n",
    "        cached = cache.get(obj)\n",
    "        if cached is not None:\n",
    "            return cached\n",
    "        parent = orbits.get(obj)\n",
    "        if parent is None:\n",
    "            cache[obj] = 0\n",
    "            return 0\n",
    "        result = _depth(parent) + 1\n",
    "        cache[obj] = result\n",
    "        return result\n",
    "    result = {}\n",
    "    for k in orbits:\n",
    "        result[k] = _depth(k)\n",
    "    return result\n",
    "\n",
    "test_orbits = \"\"\"\\\n",
    "COM)B\n",
    "B)C\n",
    "C)D\n",
    "D)E\n",
    "E)F\n",
    "B)G\n",
    "G)H\n",
    "D)I\n",
    "E)J\n",
    "J)K\n",
    "K)L\"\"\".splitlines()\n",
    "\n",
    "o = read_orbits(test_orbits)\n",
    "d = depths(o)\n",
    "print(sum(d.values()))"
   ]
  },
  {
   "cell_type": "code",
   "execution_count": 61,
   "metadata": {},
   "outputs": [
    {
     "name": "stdout",
     "output_type": "stream",
     "text": [
      "110190\n"
     ]
    }
   ],
   "source": [
    "with open('day6-input') as f:\n",
    "    all_orbits = read_orbits(f)\n",
    "    print(sum(depths(all_orbits).values()))"
   ]
  },
  {
   "cell_type": "code",
   "execution_count": 62,
   "metadata": {},
   "outputs": [
    {
     "name": "stdout",
     "output_type": "stream",
     "text": [
      "['K', 'J', 'E', 'D', 'C', 'B', 'COM']\n",
      "['I', 'D', 'C', 'B', 'COM']\n",
      "('D', 3, 1)\n"
     ]
    }
   ],
   "source": [
    "# day 6 part 2\n",
    "def parents(obj, orbits):\n",
    "    result = []\n",
    "    cur = orbits.get(obj)\n",
    "    while cur is not None:\n",
    "        result.append(cur)\n",
    "        cur = orbits.get(cur)\n",
    "    return result\n",
    "\n",
    "test_orbits = \"\"\"\\\n",
    "COM)B\n",
    "B)C\n",
    "C)D\n",
    "D)E\n",
    "E)F\n",
    "B)G\n",
    "G)H\n",
    "D)I\n",
    "E)J\n",
    "J)K\n",
    "K)L\n",
    "K)YOU\n",
    "I)SAN\"\"\".splitlines()\n",
    "\n",
    "o = read_orbits(test_orbits)\n",
    "print(parents(\"YOU\", o))\n",
    "print(parents(\"SAN\", o))\n",
    "\n",
    "def first_common_item(a, b):\n",
    "    for i, a_item in enumerate(a):\n",
    "        for j, b_item in enumerate(b):\n",
    "            if a_item == b_item:\n",
    "                return a_item, i, j\n",
    "            \n",
    "print(first_common_item(parents(\"YOU\", o), parents(\"SAN\", o)))"
   ]
  },
  {
   "cell_type": "code",
   "execution_count": 63,
   "metadata": {},
   "outputs": [],
   "source": [
    "item, a, b = first_common_item(parents(\"YOU\", all_orbits), parents(\"SAN\", all_orbits))"
   ]
  },
  {
   "cell_type": "code",
   "execution_count": 64,
   "metadata": {},
   "outputs": [
    {
     "name": "stdout",
     "output_type": "stream",
     "text": [
      "GMS 169 174\n"
     ]
    }
   ],
   "source": [
    "print(item, a, b)"
   ]
  },
  {
   "cell_type": "code",
   "execution_count": 65,
   "metadata": {},
   "outputs": [
    {
     "data": {
      "text/plain": [
       "343"
      ]
     },
     "execution_count": 65,
     "metadata": {},
     "output_type": "execute_result"
    }
   ],
   "source": [
    "a + b"
   ]
  },
  {
   "cell_type": "code",
   "execution_count": 66,
   "metadata": {},
   "outputs": [],
   "source": [
    "# day 7 part 1\n",
    "def rund7(prog, read, write, loud=False):\n",
    "    pos = 0\n",
    "    try:\n",
    "        while True:\n",
    "            pos = d5execute(prog, pos, read, write)\n",
    "    except StopError as e:\n",
    "        if loud:\n",
    "            print(f\"stopped at {e}\")\n",
    "    return prog\n",
    "\n",
    "def amp(invalue, setting, prog):\n",
    "    output_val = None\n",
    "    def _output(val):\n",
    "        nonlocal output_val\n",
    "        output_val = val\n",
    "        \n",
    "    prog = prog[:]\n",
    "    rund7(prog, reader(setting, invalue), _output)\n",
    "    return output_val\n",
    "\n",
    "def try_perm(values, prog):\n",
    "    signal = 0\n",
    "    for val in values:\n",
    "        signal = amp(signal, val, prog)\n",
    "    return signal\n",
    "\n",
    "def find_highest_f(prog, f, source):\n",
    "    vals = {}\n",
    "    for perm in itertools.permutations(source):\n",
    "        vals[f(perm, prog)] = perm\n",
    "    highest = max(vals.keys())\n",
    "    return highest, vals[highest]\n",
    "\n",
    "def find_highest(prog):\n",
    "    return find_highest_f(prog, try_perm, range(5))"
   ]
  },
  {
   "cell_type": "code",
   "execution_count": 67,
   "metadata": {},
   "outputs": [],
   "source": [
    "testp = readprog(\"3,15,3,16,1002,16,10,16,1,16,15,15,4,15,99,0,0\")"
   ]
  },
  {
   "cell_type": "code",
   "execution_count": 68,
   "metadata": {},
   "outputs": [
    {
     "data": {
      "text/plain": [
       "43210"
      ]
     },
     "execution_count": 68,
     "metadata": {},
     "output_type": "execute_result"
    }
   ],
   "source": [
    "try_perm([4,3,2,1,0], testp)"
   ]
  },
  {
   "cell_type": "code",
   "execution_count": 69,
   "metadata": {},
   "outputs": [
    {
     "data": {
      "text/plain": [
       "54321"
      ]
     },
     "execution_count": 69,
     "metadata": {},
     "output_type": "execute_result"
    }
   ],
   "source": [
    "try_perm([0,1,2,3,4], readprog(\"3,23,3,24,1002,24,10,24,1002,23,-1,23,101,5,23,23,1,24,23,23,4,23,99,0,0\"))"
   ]
  },
  {
   "cell_type": "code",
   "execution_count": 70,
   "metadata": {},
   "outputs": [
    {
     "data": {
      "text/plain": [
       "65210"
      ]
     },
     "execution_count": 70,
     "metadata": {},
     "output_type": "execute_result"
    }
   ],
   "source": [
    "try_perm([1,0,4,3,2], readprog(\"3,31,3,32,1002,32,10,32,1001,31,-2,31,1007,31,0,33,1002,33,7,33,1,33,31,31,1,32,31,31,4,31,99,0,0,0\"))"
   ]
  },
  {
   "cell_type": "code",
   "execution_count": 71,
   "metadata": {},
   "outputs": [
    {
     "data": {
      "text/plain": [
       "(43210, (4, 3, 2, 1, 0))"
      ]
     },
     "execution_count": 71,
     "metadata": {},
     "output_type": "execute_result"
    }
   ],
   "source": [
    "find_highest(testp)"
   ]
  },
  {
   "cell_type": "code",
   "execution_count": 72,
   "metadata": {},
   "outputs": [
    {
     "data": {
      "text/plain": [
       "(21860, (0, 4, 2, 1, 3))"
      ]
     },
     "execution_count": 72,
     "metadata": {},
     "output_type": "execute_result"
    }
   ],
   "source": [
    "find_highest(load(7))"
   ]
  },
  {
   "cell_type": "code",
   "execution_count": 73,
   "metadata": {},
   "outputs": [],
   "source": [
    "# day 7 part 2\n",
    "\n",
    "class Output:\n",
    "    def __init__(self):\n",
    "        self.sent = False\n",
    "        self.val = None\n",
    "        \n",
    "    def __call__(self, val):\n",
    "        self.sent = True\n",
    "        self.val = val\n",
    "\n",
    "class Amp:\n",
    "    def __init__(self, prog, setting):\n",
    "        self.prog = prog[:]\n",
    "        self.setting = setting\n",
    "        self.first_run = True\n",
    "        self.pos = 0\n",
    "        \n",
    "    def run_to_output(self, input_val):\n",
    "        if self.first_run:\n",
    "            read = reader(self.setting, input_val)\n",
    "        else:\n",
    "            read = reader(input_val)\n",
    "            \n",
    "        self.first_run = False\n",
    "        \n",
    "        output = Output()\n",
    "        while not output.sent:\n",
    "            self.pos = d5execute(self.prog, self.pos, read, output)\n",
    "            \n",
    "        return output.val\n",
    "    \n",
    "def try_fperm(settings, prog, loud=False):\n",
    "    signal = 0\n",
    "    amps = [Amp(prog, setting) for setting in settings]\n",
    "    last_signal = [None for setting in settings]\n",
    "    try:\n",
    "        for i, amp in itertools.cycle(enumerate(amps)):\n",
    "            signal = amp.run_to_output(signal)\n",
    "            last_signal[i] = signal\n",
    "    except StopError as e:\n",
    "        if loud:\n",
    "            print(f\"stop in amp {i}: {e}\")\n",
    "    return last_signal[-1]\n",
    "\n",
    "def find_highest_feedback(prog):\n",
    "    return find_highest_f(prog, try_fperm, range(5, 10))"
   ]
  },
  {
   "cell_type": "code",
   "execution_count": 74,
   "metadata": {},
   "outputs": [
    {
     "data": {
      "text/plain": [
       "139629729"
      ]
     },
     "execution_count": 74,
     "metadata": {},
     "output_type": "execute_result"
    }
   ],
   "source": [
    "try_fperm([9,8,7,6,5], readprog(\"3,26,1001,26,-4,26,3,27,1002,27,2,27,1,27,26,27,4,27,1001,28,-1,28,1005,28,6,99,0,0,5\"))"
   ]
  },
  {
   "cell_type": "code",
   "execution_count": 75,
   "metadata": {},
   "outputs": [
    {
     "data": {
      "text/plain": [
       "18216"
      ]
     },
     "execution_count": 75,
     "metadata": {},
     "output_type": "execute_result"
    }
   ],
   "source": [
    "try_fperm([9,7,8,5,6], readprog(\"3,52,1001,52,-5,52,3,53,1,52,56,54,1007,54,5,55,1005,55,26,1001,54,-5,54,1105,1,12,1,53,54,53,1008,54,0,55,1001,55,1,55,2,53,55,53,4,53,1001,56,-1,56,1005,56,6,99,0,0,0,0,10\"))"
   ]
  },
  {
   "cell_type": "code",
   "execution_count": 76,
   "metadata": {},
   "outputs": [
    {
     "data": {
      "text/plain": [
       "(2645740, (6, 5, 7, 8, 9))"
      ]
     },
     "execution_count": 76,
     "metadata": {},
     "output_type": "execute_result"
    }
   ],
   "source": [
    "find_highest_feedback(load(7))"
   ]
  },
  {
   "cell_type": "code",
   "execution_count": 77,
   "metadata": {},
   "outputs": [
    {
     "data": {
      "text/plain": [
       "15000"
      ]
     },
     "execution_count": 77,
     "metadata": {},
     "output_type": "execute_result"
    }
   ],
   "source": [
    "# day 8 part 1\n",
    "with open('day8-input') as f:\n",
    "    sifdata = f.read().strip()\n",
    "len(sifdata)"
   ]
  },
  {
   "cell_type": "code",
   "execution_count": 78,
   "metadata": {},
   "outputs": [],
   "source": [
    "layers = []\n",
    "rest = sifdata\n",
    "size = 6 * 25\n",
    "while rest:\n",
    "    layers.append(rest[:size])\n",
    "    rest = rest[size:]"
   ]
  },
  {
   "cell_type": "code",
   "execution_count": 79,
   "metadata": {},
   "outputs": [
    {
     "data": {
      "text/plain": [
       "(8, 15)"
      ]
     },
     "execution_count": 79,
     "metadata": {},
     "output_type": "execute_result"
    }
   ],
   "source": [
    "min([(l.count('0'), i) for i, l in enumerate(layers)])"
   ]
  },
  {
   "cell_type": "code",
   "execution_count": 80,
   "metadata": {},
   "outputs": [
    {
     "data": {
      "text/plain": [
       "2440"
      ]
     },
     "execution_count": 80,
     "metadata": {},
     "output_type": "execute_result"
    }
   ],
   "source": [
    "layers[15].count('1') * layers[15].count('2')"
   ]
  },
  {
   "cell_type": "code",
   "execution_count": 81,
   "metadata": {},
   "outputs": [
    {
     "data": {
      "text/plain": [
       "150"
      ]
     },
     "execution_count": 81,
     "metadata": {},
     "output_type": "execute_result"
    }
   ],
   "source": [
    "25 * 6"
   ]
  },
  {
   "cell_type": "code",
   "execution_count": 82,
   "metadata": {},
   "outputs": [],
   "source": [
    "# day 8 part 2\n",
    "def combine(layers):\n",
    "    result = []\n",
    "    for i in range(len(layers[0])):\n",
    "        for layer in layers:\n",
    "            val = layer[i]\n",
    "            if val != '2':\n",
    "                break\n",
    "        result.append(val)\n",
    "    return ''.join(result)"
   ]
  },
  {
   "cell_type": "code",
   "execution_count": 83,
   "metadata": {},
   "outputs": [
    {
     "data": {
      "text/plain": [
       "'0110'"
      ]
     },
     "execution_count": 83,
     "metadata": {},
     "output_type": "execute_result"
    }
   ],
   "source": [
    "combine('0222 1122 2212 0000'.split())"
   ]
  },
  {
   "cell_type": "code",
   "execution_count": 84,
   "metadata": {},
   "outputs": [
    {
     "data": {
      "text/plain": [
       "'011001111001100001100110010010000101001000010100101001000100100000001010000111100100010000000101000010010100001001010010100101001011110011000110001100'"
      ]
     },
     "execution_count": 84,
     "metadata": {},
     "output_type": "execute_result"
    }
   ],
   "source": [
    "combine(layers)"
   ]
  },
  {
   "cell_type": "code",
   "execution_count": 85,
   "metadata": {},
   "outputs": [],
   "source": [
    "def render(image, width, height):\n",
    "    for y in range(height):\n",
    "        for x in range(width):\n",
    "            pos = (width * y) + x\n",
    "            pixel = ' '\n",
    "            if image[pos] == '1':\n",
    "                pixel = '@'\n",
    "            print(pixel, end='')\n",
    "        print()"
   ]
  },
  {
   "cell_type": "code",
   "execution_count": 86,
   "metadata": {},
   "outputs": [
    {
     "name": "stdout",
     "output_type": "stream",
     "text": [
      " @@  @@@@  @@    @@  @@  \n",
      "@  @    @ @  @    @ @  @ \n",
      "@  @   @  @       @ @    \n",
      "@@@@  @   @       @ @    \n",
      "@  @ @    @  @ @  @ @  @ \n",
      "@  @ @@@@  @@   @@   @@  \n"
     ]
    }
   ],
   "source": [
    "render(combine(layers), 25, 6)"
   ]
  },
  {
   "cell_type": "code",
   "execution_count": 87,
   "metadata": {},
   "outputs": [
    {
     "name": "stdout",
     "output_type": "stream",
     "text": [
      "109\n",
      "1\n",
      "204\n",
      "-1\n",
      "1001\n",
      "100\n",
      "1\n",
      "100\n",
      "1008\n",
      "100\n",
      "16\n",
      "101\n",
      "1006\n",
      "101\n",
      "0\n",
      "99\n"
     ]
    },
    {
     "data": {
      "text/plain": [
       "<__main__.ProgState at 0x7f2e539ed2d0>"
      ]
     },
     "execution_count": 87,
     "metadata": {},
     "output_type": "execute_result"
    }
   ],
   "source": [
    "# day 9 part 1\n",
    "\n",
    "# See ProgState + relative mode handling.\n",
    "\n",
    "rund7(readprog('109,1,204,-1,1001,100,1,100,1008,100,16,101,1006,101,0,99'), reader(), print)\n"
   ]
  },
  {
   "cell_type": "code",
   "execution_count": 88,
   "metadata": {},
   "outputs": [
    {
     "name": "stdout",
     "output_type": "stream",
     "text": [
      "1219070632396864\n"
     ]
    },
    {
     "data": {
      "text/plain": [
       "(104, 1125899906842624, 99)"
      ]
     },
     "execution_count": 88,
     "metadata": {},
     "output_type": "execute_result"
    }
   ],
   "source": [
    "rund7(readprog('1102,34915192,34915192,7,4,7,99,0'), reader(), print)\n",
    "104,1125899906842624,99"
   ]
  },
  {
   "cell_type": "code",
   "execution_count": 89,
   "metadata": {},
   "outputs": [
    {
     "name": "stdout",
     "output_type": "stream",
     "text": [
      "1125899906842624\n"
     ]
    },
    {
     "data": {
      "text/plain": [
       "<__main__.ProgState at 0x7f2e539ed590>"
      ]
     },
     "execution_count": 89,
     "metadata": {},
     "output_type": "execute_result"
    }
   ],
   "source": [
    "rund7(readprog('104,1125899906842624,99'), reader(), print)"
   ]
  },
  {
   "cell_type": "code",
   "execution_count": 90,
   "metadata": {},
   "outputs": [
    {
     "name": "stdout",
     "output_type": "stream",
     "text": [
      "3241900951\n"
     ]
    },
    {
     "data": {
      "text/plain": [
       "<__main__.ProgState at 0x7f2e70571650>"
      ]
     },
     "execution_count": 90,
     "metadata": {},
     "output_type": "execute_result"
    }
   ],
   "source": [
    "rund7(load(9), reader(1), print)"
   ]
  },
  {
   "cell_type": "code",
   "execution_count": 91,
   "metadata": {},
   "outputs": [
    {
     "name": "stdout",
     "output_type": "stream",
     "text": [
      "83089\n"
     ]
    },
    {
     "data": {
      "text/plain": [
       "<__main__.ProgState at 0x7f2e7055b310>"
      ]
     },
     "execution_count": 91,
     "metadata": {},
     "output_type": "execute_result"
    }
   ],
   "source": [
    "rund7(load(9), reader(2), print)"
   ]
  },
  {
   "cell_type": "code",
   "execution_count": 92,
   "metadata": {},
   "outputs": [],
   "source": [
    "import fractions\n",
    "def read_asteroids(plot):\n",
    "    return set((x, y) \n",
    "               for y, line in enumerate(plot.splitlines()) \n",
    "               for x, c in enumerate(line) \n",
    "               if c == '#')\n",
    "\n",
    "def distance_from(a, b):\n",
    "    return a[0] - b[0], a[1] - b[1]\n",
    "\n",
    "def occludes(a, b, c):\n",
    "    dist_b = distance_from(a, b)\n",
    "    dist_c = distance_from(a, c)\n",
    "    return quadrant(dist_b) == quadrant(dist_c) and less_than(dist_b, dist_c) and same_angle(dist_b, dist_c)\n",
    "\n",
    "def same_angle(b, c):\n",
    "    if b[1] == 0 or c[1] == 0:\n",
    "        return b[1] == 0 and c[1] == 0\n",
    "    angle_b = fractions.Fraction(*b)\n",
    "    angle_c = fractions.Fraction(*c)\n",
    "    return angle_b == angle_c \n",
    "\n",
    "def sign(v):\n",
    "    return (v > 0) - (v < 0)\n",
    "\n",
    "def quadrant(a):\n",
    "    return sign(a[0]), sign(a[1])\n",
    "\n",
    "def less_than(a, b):\n",
    "    return abs(a[0])+abs(a[1]) < abs(b[0]) + abs(b[1])\n",
    "\n",
    "def count_visible(asteroid, asteroids):\n",
    "    all_but = sorted((a for a in asteroids if a != asteroid), key=quadrant)\n",
    "    blockers = sorted(all_but, key=lambda x: (quadrant(x), distance_from(asteroid, x)))\n",
    "    visible = 0\n",
    "    for other in all_but:\n",
    "        for blocker in blockers:\n",
    "            if other == blocker:\n",
    "                continue\n",
    "            if occludes(asteroid, blocker, other):\n",
    "                blockers.remove(other)\n",
    "                break\n",
    "        else:\n",
    "            visible += 1\n",
    "    return visible\n",
    "        \n",
    "def print_counts(w, h, counts):\n",
    "    for y in range(h):\n",
    "        for x in range(w):\n",
    "            print(counts.get((x, y), '.'), end='')\n",
    "        print()\n",
    "\n",
    "def best_f(asteroids, metric):\n",
    "    return max((metric(ast, asteroids), ast) for ast in asteroids)\n",
    "\n",
    "def best(a):\n",
    "    return best_f(a, count_visible)\n",
    "\n",
    "import math\n",
    "import collections\n",
    "import bisect\n",
    "\n",
    "def angle(point):\n",
    "    return math.atan2(point[1], point[0])\n",
    "\n",
    "def real_dist(point):\n",
    "    return math.sqrt(point[0]*point[0] + point[1]*point[1])\n",
    "\n",
    "def count_vis_polar(asteroid, asteroids):\n",
    "    all_but = [distance_from(asteroid, a) for a in asteroids if a != asteroid]\n",
    "    by_angle = collections.defaultdict(list)\n",
    "    for a in all_but:\n",
    "        by_angle[angle(a)].append(a)\n",
    "    return len(by_angle)\n",
    "\n",
    "def annihilate(base, asteroids, loud=True):\n",
    "    width = max(x for x, y in asteroids)+1\n",
    "    height = max(y for x, y in asteroids)+1\n",
    "    by_angle = collect_by_angle(base, asteroids)\n",
    "    for ang in scan(by_angle.keys()):\n",
    "        if not by_angle:\n",
    "            break\n",
    "        items = by_angle.get(ang)\n",
    "        if items is None:\n",
    "            continue\n",
    "        removed = items.pop()\n",
    "        destroyed = distance_from(base, removed)\n",
    "        if loud:\n",
    "            dump(width, height, base, destroyed, by_angle)\n",
    "        yield destroyed\n",
    "        if not items:\n",
    "            del by_angle[ang]\n",
    "\n",
    "def collect_by_angle(base, asteroids):\n",
    "    all_but = [distance_from(base, a) for a in asteroids if a != base]\n",
    "    by_angle = collections.defaultdict(list)\n",
    "    for a in all_but:\n",
    "        by_angle[angle(a)].append(a)\n",
    "    for key, items in by_angle.items():\n",
    "        items.sort(key=real_dist, reverse=True)\n",
    "    return by_angle\n",
    "        \n",
    "def scan(angles):\n",
    "    start = angle((0, 1))\n",
    "    all_angles = sorted(angles)\n",
    "    for i, ang in enumerate(all_angles):\n",
    "        if ang >= start:\n",
    "            break\n",
    "    else:\n",
    "        i = 0\n",
    "    \n",
    "    while True:\n",
    "        yield all_angles[i]\n",
    "        i += 1\n",
    "        i = i % len(all_angles)\n",
    "    \n",
    "def dump(width, height, base, removed, by_angles):\n",
    "    all_points = set()\n",
    "    for items in by_angles.values():\n",
    "        for p in items:\n",
    "            all_points.add(distance_from(base, p))\n",
    "    for y in range(height):\n",
    "        for x in range(width):\n",
    "            p = x, y\n",
    "            if p == base:\n",
    "                print('X', end='')\n",
    "            elif p == removed:\n",
    "                print('0', end='')\n",
    "            elif p in all_points:\n",
    "                print('#', end='')\n",
    "            else:\n",
    "                print('.', end='')\n",
    "        print()\n",
    "    \n",
    "def best_polar(a):\n",
    "    return best_f(a, count_vis_polar)"
   ]
  },
  {
   "cell_type": "code",
   "execution_count": 93,
   "metadata": {},
   "outputs": [],
   "source": [
    "a = read_asteroids('''\\\n",
    ".#..#\n",
    ".....\n",
    "#####\n",
    "....#\n",
    "...##''')"
   ]
  },
  {
   "cell_type": "code",
   "execution_count": 94,
   "metadata": {},
   "outputs": [
    {
     "data": {
      "text/plain": [
       "(-1, 2)"
      ]
     },
     "execution_count": 94,
     "metadata": {},
     "output_type": "execute_result"
    }
   ],
   "source": [
    "distance_from((0, 2), (1, 0))"
   ]
  },
  {
   "cell_type": "code",
   "execution_count": 95,
   "metadata": {},
   "outputs": [
    {
     "data": {
      "text/plain": [
       "False"
      ]
     },
     "execution_count": 95,
     "metadata": {},
     "output_type": "execute_result"
    }
   ],
   "source": [
    "occludes((1, 0), (3, 4), (2, 2))"
   ]
  },
  {
   "cell_type": "code",
   "execution_count": 96,
   "metadata": {},
   "outputs": [
    {
     "name": "stdout",
     "output_type": "stream",
     "text": [
      ".7..7\n",
      ".....\n",
      "67775\n",
      "....7\n",
      "...87\n"
     ]
    }
   ],
   "source": [
    "print_counts(5, 5, {ast: count_visible(ast, a) for ast in a})"
   ]
  },
  {
   "cell_type": "code",
   "execution_count": 97,
   "metadata": {},
   "outputs": [
    {
     "name": "stdout",
     "output_type": "stream",
     "text": [
      ".7..7\n",
      ".....\n",
      "67775\n",
      "....7\n",
      "...87\n"
     ]
    }
   ],
   "source": [
    "print_counts(5, 5, {ast: count_vis_polar(ast, a) for ast in a})"
   ]
  },
  {
   "cell_type": "code",
   "execution_count": 98,
   "metadata": {},
   "outputs": [
    {
     "data": {
      "text/plain": [
       "(8, (3, 4))"
      ]
     },
     "execution_count": 98,
     "metadata": {},
     "output_type": "execute_result"
    }
   ],
   "source": [
    "max((count_visible(ast, a), ast) for ast in a)"
   ]
  },
  {
   "cell_type": "code",
   "execution_count": 99,
   "metadata": {},
   "outputs": [
    {
     "data": {
      "text/plain": [
       "10"
      ]
     },
     "execution_count": 99,
     "metadata": {},
     "output_type": "execute_result"
    }
   ],
   "source": [
    "len(a)"
   ]
  },
  {
   "cell_type": "code",
   "execution_count": 100,
   "metadata": {},
   "outputs": [
    {
     "data": {
      "text/plain": [
       "(33, (5, 8))"
      ]
     },
     "execution_count": 100,
     "metadata": {},
     "output_type": "execute_result"
    }
   ],
   "source": [
    "best(read_asteroids(\"\"\"\\\n",
    "......#.#.\n",
    "#..#.#....\n",
    "..#######.\n",
    ".#.#.###..\n",
    ".#..#.....\n",
    "..#....#.#\n",
    "#..#....#.\n",
    ".##.#..###\n",
    "##...#..#.\n",
    ".#....####\"\"\"))"
   ]
  },
  {
   "cell_type": "code",
   "execution_count": 101,
   "metadata": {},
   "outputs": [
    {
     "name": "stdout",
     "output_type": "stream",
     "text": [
      "70.8 ms ± 1.29 ms per loop (mean ± std. dev. of 7 runs, 10 loops each)\n"
     ]
    }
   ],
   "source": [
    "v = read_asteroids(\"\"\"\\\n",
    "#.#...#.#.\n",
    ".###....#.\n",
    ".#....#...\n",
    "##.#.#.#.#\n",
    "....#.#.#.\n",
    ".##..###.#\n",
    "..#...##..\n",
    "..##....##\n",
    "......#...\n",
    ".####.###.\"\"\")\n",
    "%timeit best(v)\n"
   ]
  },
  {
   "cell_type": "code",
   "execution_count": 102,
   "metadata": {},
   "outputs": [
    {
     "name": "stdout",
     "output_type": "stream",
     "text": [
      "992 µs ± 15.6 µs per loop (mean ± std. dev. of 7 runs, 1000 loops each)\n"
     ]
    }
   ],
   "source": [
    "v = read_asteroids(\"\"\"\\\n",
    "#.#...#.#.\n",
    ".###....#.\n",
    ".#....#...\n",
    "##.#.#.#.#\n",
    "....#.#.#.\n",
    ".##..###.#\n",
    "..#...##..\n",
    "..##....##\n",
    "......#...\n",
    ".####.###.\"\"\")\n",
    "%timeit best_polar(v)\n"
   ]
  },
  {
   "cell_type": "code",
   "execution_count": 103,
   "metadata": {},
   "outputs": [
    {
     "data": {
      "text/plain": [
       "(210, (11, 13))"
      ]
     },
     "execution_count": 103,
     "metadata": {},
     "output_type": "execute_result"
    }
   ],
   "source": [
    "v = read_asteroids(\"\"\"\\\n",
    ".#..##.###...#######\n",
    "##.############..##.\n",
    ".#.######.########.#\n",
    ".###.#######.####.#.\n",
    "#####.##.#.##.###.##\n",
    "..#####..#.#########\n",
    "####################\n",
    "#.####....###.#.#.##\n",
    "##.#################\n",
    "#####.##.###..####..\n",
    "..######..##.#######\n",
    "####.##.####...##..#\n",
    ".#####..#.######.###\n",
    "##...#.##########...\n",
    "#.##########.#######\n",
    ".####.#.###.###.#.##\n",
    "....##.##.###..#####\n",
    ".#.#.###########.###\n",
    "#.#.#.#####.####.###\n",
    "###.##.####.##.#..##\"\"\")\n",
    "best_polar(v)"
   ]
  },
  {
   "cell_type": "code",
   "execution_count": 104,
   "metadata": {},
   "outputs": [],
   "source": [
    "with open(\"day10-input\") as f:\n",
    "    big = read_asteroids(f.read())"
   ]
  },
  {
   "cell_type": "code",
   "execution_count": 105,
   "metadata": {},
   "outputs": [
    {
     "data": {
      "text/plain": [
       "(309, (37, 25))"
      ]
     },
     "execution_count": 105,
     "metadata": {},
     "output_type": "execute_result"
    }
   ],
   "source": [
    "best_polar(big)"
   ]
  },
  {
   "cell_type": "code",
   "execution_count": 106,
   "metadata": {},
   "outputs": [
    {
     "name": "stdout",
     "output_type": "stream",
     "text": [
      "77.7 ms ± 570 µs per loop (mean ± std. dev. of 7 runs, 10 loops each)\n"
     ]
    }
   ],
   "source": [
    "%timeit best_polar(big)"
   ]
  },
  {
   "cell_type": "code",
   "execution_count": 107,
   "metadata": {},
   "outputs": [
    {
     "data": {
      "text/plain": [
       "346"
      ]
     },
     "execution_count": 107,
     "metadata": {},
     "output_type": "execute_result"
    }
   ],
   "source": [
    "len(big)"
   ]
  },
  {
   "cell_type": "code",
   "execution_count": 108,
   "metadata": {},
   "outputs": [
    {
     "data": {
      "text/plain": [
       "41421736"
      ]
     },
     "execution_count": 108,
     "metadata": {},
     "output_type": "execute_result"
    }
   ],
   "source": [
    "346 **3"
   ]
  },
  {
   "cell_type": "code",
   "execution_count": 109,
   "metadata": {},
   "outputs": [],
   "source": [
    "import math"
   ]
  },
  {
   "cell_type": "code",
   "execution_count": 110,
   "metadata": {},
   "outputs": [
    {
     "data": {
      "text/plain": [
       "0.982793723247329"
      ]
     },
     "execution_count": 110,
     "metadata": {},
     "output_type": "execute_result"
    }
   ],
   "source": [
    "math.atan2(3, 2)"
   ]
  },
  {
   "cell_type": "code",
   "execution_count": 111,
   "metadata": {},
   "outputs": [],
   "source": [
    "l = [1, 2, 3, 4, 5, 6]\n",
    "start = 3.6\n",
    "bisect.bisect_right?"
   ]
  },
  {
   "cell_type": "code",
   "execution_count": 126,
   "metadata": {},
   "outputs": [],
   "source": [
    "v = read_asteroids(\"\"\"\\\n",
    ".#....#####...#..\n",
    "##...##.#####..##\n",
    "##...#...#.#####.\n",
    "..#.....#...###..\n",
    "..#.#.....#....##\"\"\")\n",
    "base = 8, 3\n",
    "\n",
    "items = annihilate(base, v)"
   ]
  },
  {
   "cell_type": "code",
   "execution_count": 163,
   "metadata": {},
   "outputs": [
    {
     "ename": "StopIteration",
     "evalue": "",
     "output_type": "error",
     "traceback": [
      "\u001b[0;31m---------------------------------------------------------------------------\u001b[0m",
      "\u001b[0;31mStopIteration\u001b[0m                             Traceback (most recent call last)",
      "\u001b[0;32m<ipython-input-163-26a0aa68c0c4>\u001b[0m in \u001b[0;36m<module>\u001b[0;34m\u001b[0m\n\u001b[0;32m----> 1\u001b[0;31m \u001b[0mnext\u001b[0m\u001b[0;34m(\u001b[0m\u001b[0mitems\u001b[0m\u001b[0;34m)\u001b[0m\u001b[0;34m\u001b[0m\u001b[0;34m\u001b[0m\u001b[0m\n\u001b[0m",
      "\u001b[0;31mStopIteration\u001b[0m: "
     ]
    }
   ],
   "source": [
    "next(items)"
   ]
  },
  {
   "cell_type": "code",
   "execution_count": 114,
   "metadata": {},
   "outputs": [
    {
     "name": "stdout",
     "output_type": "stream",
     "text": [
      ".#....###0#...#..\n",
      "##...##..####..##\n",
      "##...#...#.#####.\n",
      "..#.....X...###..\n",
      "..#.#.....#....##\n"
     ]
    },
    {
     "data": {
      "text/plain": [
       "(9, 0)"
      ]
     },
     "execution_count": 114,
     "metadata": {},
     "output_type": "execute_result"
    }
   ],
   "source": [
    "next(items)"
   ]
  },
  {
   "cell_type": "code",
   "execution_count": 115,
   "metadata": {},
   "outputs": [],
   "source": [
    "v = read_asteroids(\"\"\"\\\n",
    ".#..##.###...#######\n",
    "##.############..##.\n",
    ".#.######.########.#\n",
    ".###.#######.####.#.\n",
    "#####.##.#.##.###.##\n",
    "..#####..#.#########\n",
    "####################\n",
    "#.####....###.#.#.##\n",
    "##.#################\n",
    "#####.##.###..####..\n",
    "..######..##.#######\n",
    "####.##.####...##..#\n",
    ".#####..#.######.###\n",
    "##...#.##########...\n",
    "#.##########.#######\n",
    ".####.#.###.###.#.##\n",
    "....##.##.###..#####\n",
    ".#.#.###########.###\n",
    "#.#.#.#####.####.###\n",
    "###.##.####.##.#..##\"\"\")\n",
    "base = 11, 13\n",
    "items = annihilate(base, v, loud=False)"
   ]
  },
  {
   "cell_type": "code",
   "execution_count": 116,
   "metadata": {},
   "outputs": [],
   "source": [
    "in_order = list(items)"
   ]
  },
  {
   "cell_type": "code",
   "execution_count": 117,
   "metadata": {},
   "outputs": [
    {
     "data": {
      "text/plain": [
       "[(11, 12), (12, 1), (12, 2)]"
      ]
     },
     "execution_count": 117,
     "metadata": {},
     "output_type": "execute_result"
    }
   ],
   "source": [
    "in_order[0:3]"
   ]
  },
  {
   "cell_type": "code",
   "execution_count": 118,
   "metadata": {},
   "outputs": [
    {
     "data": {
      "text/plain": [
       "(11, 1)"
      ]
     },
     "execution_count": 118,
     "metadata": {},
     "output_type": "execute_result"
    }
   ],
   "source": [
    "in_order[-1]"
   ]
  },
  {
   "cell_type": "code",
   "execution_count": 119,
   "metadata": {},
   "outputs": [],
   "source": [
    "base = 37, 25\n",
    "in_order = list(annihilate(base, big, loud=False))"
   ]
  },
  {
   "cell_type": "code",
   "execution_count": 120,
   "metadata": {},
   "outputs": [
    {
     "data": {
      "text/plain": [
       "345"
      ]
     },
     "execution_count": 120,
     "metadata": {},
     "output_type": "execute_result"
    }
   ],
   "source": [
    "len(in_order)"
   ]
  },
  {
   "cell_type": "code",
   "execution_count": 121,
   "metadata": {},
   "outputs": [
    {
     "data": {
      "text/plain": [
       "(4, 16)"
      ]
     },
     "execution_count": 121,
     "metadata": {},
     "output_type": "execute_result"
    }
   ],
   "source": [
    "in_order[199]"
   ]
  },
  {
   "cell_type": "code",
   "execution_count": 122,
   "metadata": {},
   "outputs": [],
   "source": [
    "# day 11 part 1\n",
    "\n",
    "left = {\n",
    "    (0, -1): (-1, 0),\n",
    "    (-1, 0): (0, 1),\n",
    "    (0, 1): (1, 0),\n",
    "    (1, 0): (0, -1),\n",
    "}\n",
    "\n",
    "right = {v:k for k, v in left.items()}\n",
    "\n",
    "class Robot:\n",
    "    def __init__(self, prog):\n",
    "        self.prog = prog[:]\n",
    "        self.pos = 0\n",
    "        self.points = {(0, 0): 1}\n",
    "        self.location = 0, 0\n",
    "        self.direction = 0, -1\n",
    "        self.bbox_tl = self.bbox_br = self.location\n",
    "        \n",
    "    def step(self):\n",
    "        current_colour = self.points.get(self.location, 0)\n",
    "        colour = self.run_to_output(reader(current_colour))\n",
    "        rotation = self.run_to_output(reader())\n",
    "        self.points[self.location] = colour\n",
    "        self.update_bbox()\n",
    "        if rotation:\n",
    "            self.direction = right[self.direction]\n",
    "        else:\n",
    "            self.direction = left[self.direction]\n",
    "        self.location = (\n",
    "            self.location[0] + self.direction[0],\n",
    "            self.location[1] + self.direction[1],\n",
    "        )\n",
    "        \n",
    "    def run_to_output(self, read):\n",
    "        output = Output()\n",
    "        while not output.sent:\n",
    "            self.pos = d5execute(self.prog, self.pos, read, output)\n",
    "            \n",
    "        return output.val\n",
    "    \n",
    "    def go(self):\n",
    "        try:\n",
    "            while True:\n",
    "                self.step()\n",
    "        except StopError:\n",
    "            return len(self.points)\n",
    "            \n",
    "    def show(self):\n",
    "        for y in range(self.bbox_tl[1], self.bbox_br[1] + 1):\n",
    "            for x in range(self.bbox_tl[0], self.bbox_br[0] + 1):\n",
    "                c = '#' if self.points.get((x, y), 0) else ' '\n",
    "                print(c, end='')\n",
    "            print()\n",
    "        \n",
    "    def update_bbox(self):\n",
    "        self.bbox_tl = (\n",
    "            min(self.bbox_tl[0], self.location[0]),\n",
    "            min(self.bbox_tl[1], self.location[1])\n",
    "        )\n",
    "        self.bbox_br = (\n",
    "            max(self.bbox_br[0], self.location[0]),\n",
    "            max(self.bbox_br[1], self.location[1])\n",
    "        )\n",
    "            \n",
    "        "
   ]
  },
  {
   "cell_type": "code",
   "execution_count": 123,
   "metadata": {},
   "outputs": [
    {
     "name": "stdout",
     "output_type": "stream",
     "text": [
      " ###   ##  #  # #### ###  #    ###  ###    \n",
      " #  # #  # #  # #    #  # #    #  # #  #   \n",
      " #  # #    #  # ###  #  # #    #  # #  #   \n",
      " ###  # ## #  # #    ###  #    ###  ###    \n",
      " #    #  # #  # #    #    #    #    # #    \n",
      " #     ###  ##  #### #    #### #    #  #   \n"
     ]
    }
   ],
   "source": [
    "r = Robot(load(11))\n",
    "r.go()\n",
    "r.show()"
   ]
  },
  {
   "cell_type": "code",
   "execution_count": 124,
   "metadata": {},
   "outputs": [
    {
     "data": {
      "text/plain": [
       "(0, 0)"
      ]
     },
     "execution_count": 124,
     "metadata": {},
     "output_type": "execute_result"
    }
   ],
   "source": [
    "r.bbox_tl"
   ]
  },
  {
   "cell_type": "code",
   "execution_count": 125,
   "metadata": {},
   "outputs": [
    {
     "data": {
      "text/plain": [
       "(42, 5)"
      ]
     },
     "execution_count": 125,
     "metadata": {},
     "output_type": "execute_result"
    }
   ],
   "source": [
    "r.bbox_br"
   ]
  },
  {
   "cell_type": "code",
   "execution_count": 427,
   "metadata": {},
   "outputs": [],
   "source": [
    "# day 12 part 1\n",
    "class Moon:\n",
    "    def __init__(self, pos):\n",
    "        self.pos = pos\n",
    "        self.vel = [0, 0, 0]\n",
    "        \n",
    "    def accel(self, other):\n",
    "        for dim, (spos, opos) in enumerate(zip(self.pos, other.pos)):\n",
    "            delta = 0\n",
    "            if spos < opos:\n",
    "                delta = 1\n",
    "            elif opos < spos:\n",
    "                delta = -1\n",
    "            self.vel[dim] += delta\n",
    "            \n",
    "    def move(self):\n",
    "        for dim, vel in enumerate(self.vel):\n",
    "            self.pos[dim] += vel\n",
    "            \n",
    "    def pot_energy(self):\n",
    "        return sum(map(abs, self.pos))\n",
    "    \n",
    "    def kin_energy(self):\n",
    "        return sum(map(abs, self.vel))\n",
    "            \n",
    "    def energy(self):\n",
    "        return sum(map(abs, self.pos)) * sum(map(abs, self.vel))\n",
    "    \n",
    "    def __repr__(self):\n",
    "        return f\"<Moon pos={self.pos}, vel={self.vel}>\"\n",
    "    \n",
    "    @staticmethod\n",
    "    def from_line(line):\n",
    "        parts = line.strip().lstrip('<').rstrip('>').split(', ')\n",
    "        return Moon([int(v.split('=')[1]) for v in parts])\n",
    "            \n",
    "def step(moons):\n",
    "    for m1, m2 in itertools.permutations(moons, 2):\n",
    "        m1.accel(m2)\n",
    "    for m in moons:\n",
    "        m.move()\n",
    "        \n",
    "def sim(moons, n):\n",
    "    for i in range(n):\n",
    "        step(moons)\n",
    "    energy = 0\n",
    "    for moon in moons:\n",
    "        print(moon)\n",
    "        energy += moon.energy()\n",
    "    print(f\"energy: {energy}\")\n",
    "    \n",
    "def read_moons(text):\n",
    "    return list(map(Moon.from_line, text.splitlines()))"
   ]
  },
  {
   "cell_type": "code",
   "execution_count": 394,
   "metadata": {},
   "outputs": [
    {
     "data": {
      "text/plain": [
       "[(1, 2),\n",
       " (1, 3),\n",
       " (1, 4),\n",
       " (2, 1),\n",
       " (2, 3),\n",
       " (2, 4),\n",
       " (3, 1),\n",
       " (3, 2),\n",
       " (3, 4),\n",
       " (4, 1),\n",
       " (4, 2),\n",
       " (4, 3)]"
      ]
     },
     "execution_count": 394,
     "metadata": {},
     "output_type": "execute_result"
    }
   ],
   "source": [
    "l = [1, 2, 3, 4]\n",
    "list(itertools.permutations(l, 2))"
   ]
  },
  {
   "cell_type": "code",
   "execution_count": 428,
   "metadata": {},
   "outputs": [],
   "source": [
    "moons = list(map(Moon.from_line, \"\"\"\\\n",
    "<x=-17, y=9, z=-5>\n",
    "<x=-1, y=7, z=13>\n",
    "<x=-19, y=12, z=5>\n",
    "<x=-6, y=-6, z=-4>\"\"\".splitlines()))"
   ]
  },
  {
   "cell_type": "code",
   "execution_count": 396,
   "metadata": {},
   "outputs": [
    {
     "data": {
      "text/plain": [
       "[<Moon pos=[-17, 9, -5], vel=(0, 0, 0)>,\n",
       " <Moon pos=[-1, 7, 13], vel=(0, 0, 0)>,\n",
       " <Moon pos=[-19, 12, 5], vel=(0, 0, 0)>,\n",
       " <Moon pos=[-6, -6, -4], vel=(0, 0, 0)>]"
      ]
     },
     "execution_count": 396,
     "metadata": {},
     "output_type": "execute_result"
    }
   ],
   "source": [
    "moons"
   ]
  },
  {
   "cell_type": "code",
   "execution_count": 409,
   "metadata": {},
   "outputs": [],
   "source": [
    "tm = list(map(Moon.from_line, \"\"\"\\\n",
    "<x=-1, y=0, z=2>\n",
    "<x=2, y=-10, z=-7>\n",
    "<x=4, y=-8, z=8>\n",
    "<x=3, y=5, z=-1>\"\"\".splitlines()))"
   ]
  },
  {
   "cell_type": "code",
   "execution_count": 410,
   "metadata": {},
   "outputs": [
    {
     "data": {
      "text/plain": [
       "[<Moon pos=[-1, 0, 2], vel=[0, 0, 0]>,\n",
       " <Moon pos=[2, -10, -7], vel=[0, 0, 0]>,\n",
       " <Moon pos=[4, -8, 8], vel=[0, 0, 0]>,\n",
       " <Moon pos=[3, 5, -1], vel=[0, 0, 0]>]"
      ]
     },
     "execution_count": 410,
     "metadata": {},
     "output_type": "execute_result"
    }
   ],
   "source": [
    "tm"
   ]
  },
  {
   "cell_type": "code",
   "execution_count": 420,
   "metadata": {},
   "outputs": [
    {
     "name": "stdout",
     "output_type": "stream",
     "text": [
      "<Moon pos=[-18, -7, 12], vel=[0, 4, 5]>\n",
      "<Moon pos=[14, 7, 4], vel=[-5, -13, 3]>\n",
      "<Moon pos=[2, -13, 10], vel=[13, 1, 1]>\n",
      "<Moon pos=[10, -7, -16], vel=[-8, 8, -9]>\n",
      "energy: 190\n"
     ]
    }
   ],
   "source": [
    "sim(tm, 10)"
   ]
  },
  {
   "cell_type": "code",
   "execution_count": 421,
   "metadata": {},
   "outputs": [],
   "source": [
    "tm = read_moons(\"\"\"\\\n",
    "<x=-8, y=-10, z=0>\n",
    "<x=5, y=5, z=10>\n",
    "<x=2, y=-7, z=3>\n",
    "<x=9, y=-8, z=-3>\"\"\")"
   ]
  },
  {
   "cell_type": "code",
   "execution_count": 422,
   "metadata": {},
   "outputs": [
    {
     "name": "stdout",
     "output_type": "stream",
     "text": [
      "<Moon pos=[8, -12, -9], vel=[-7, 3, 0]>\n",
      "<Moon pos=[13, 16, -3], vel=[3, -11, -5]>\n",
      "<Moon pos=[-29, -11, -1], vel=[-3, 7, 4]>\n",
      "<Moon pos=[16, -13, 23], vel=[7, 1, 1]>\n",
      "energy: 1940\n"
     ]
    }
   ],
   "source": [
    "sim(tm, 100)"
   ]
  },
  {
   "cell_type": "code",
   "execution_count": 426,
   "metadata": {},
   "outputs": [
    {
     "name": "stdout",
     "output_type": "stream",
     "text": [
      "<Moon pos=[-69, 60, 92], vel=[6, 2, 8]>\n",
      "<Moon pos=[3, -52, -4], vel=[-20, -17, -9]>\n",
      "<Moon pos=[41, 24, -45], vel=[6, 0, -2]>\n",
      "<Moon pos=[-18, -10, -34], vel=[8, 15, 3]>\n",
      "energy: 8742\n"
     ]
    }
   ],
   "source": [
    "sim(moons, 1000)"
   ]
  },
  {
   "cell_type": "code",
   "execution_count": 448,
   "metadata": {},
   "outputs": [],
   "source": [
    "moons = list(map(Moon.from_line, \"\"\"\\\n",
    "<x=-1, y=0, z=2>\n",
    "<x=2, y=-10, z=-7>\n",
    "<x=4, y=-8, z=8>\n",
    "<x=3, y=5, z=-1>\"\"\".splitlines()))\n"
   ]
  },
  {
   "cell_type": "code",
   "execution_count": 463,
   "metadata": {},
   "outputs": [],
   "source": [
    "# day 12 part 2\n",
    "\n",
    "def sample_matches(vals, sample):\n",
    "    if len(vals) != len(sample):\n",
    "        return False\n",
    "    for v1, v2 in zip(vals, sample):\n",
    "        if v1 != v2:\n",
    "            return False\n",
    "    return True\n",
    "\n",
    "def find_period(seq):\n",
    "    it = iter(seq)\n",
    "    vals = [next(it)]\n",
    "    sample = collections.deque()\n",
    "    while True:\n",
    "        while len(sample) < len(vals):\n",
    "            sample.append(next(it))\n",
    "        if sample_matches(vals, sample):\n",
    "            return len(vals)\n",
    "        vals.append(sample.popleft())\n",
    "        \n",
    "def lcm(a, b):\n",
    "    return (a * b) // math.gcd(a, b)\n",
    "\n",
    "import functools\n",
    "\n",
    "def find_repeat(moons, n):\n",
    "    history = collections.defaultdict(list)\n",
    "    for i in range(n):\n",
    "        step(moons)\n",
    "        for i, m in enumerate(moons):\n",
    "            for dim in range(3):\n",
    "                history[i, dim].append(m.pos[dim])\n",
    "    periods = [find_period(v) for k, v in history.items()]\n",
    "    return functools.reduce(lcm, periods)"
   ]
  },
  {
   "cell_type": "code",
   "execution_count": 440,
   "metadata": {},
   "outputs": [
    {
     "data": {
      "text/plain": [
       "6"
      ]
     },
     "execution_count": 440,
     "metadata": {},
     "output_type": "execute_result"
    }
   ],
   "source": [
    "find_period(xs)"
   ]
  },
  {
   "cell_type": "code",
   "execution_count": 441,
   "metadata": {},
   "outputs": [
    {
     "data": {
      "text/plain": [
       "28"
      ]
     },
     "execution_count": 441,
     "metadata": {},
     "output_type": "execute_result"
    }
   ],
   "source": [
    "find_period(ys)"
   ]
  },
  {
   "cell_type": "code",
   "execution_count": 442,
   "metadata": {},
   "outputs": [
    {
     "data": {
      "text/plain": [
       "44"
      ]
     },
     "execution_count": 442,
     "metadata": {},
     "output_type": "execute_result"
    }
   ],
   "source": [
    "find_period(zs)"
   ]
  },
  {
   "cell_type": "code",
   "execution_count": 443,
   "metadata": {},
   "outputs": [
    {
     "data": {
      "text/plain": [
       "7392"
      ]
     },
     "execution_count": 443,
     "metadata": {},
     "output_type": "execute_result"
    }
   ],
   "source": [
    "6 * 28 * 44"
   ]
  },
  {
   "cell_type": "code",
   "execution_count": 444,
   "metadata": {},
   "outputs": [
    {
     "data": {
      "text/plain": [
       "2"
      ]
     },
     "execution_count": 444,
     "metadata": {},
     "output_type": "execute_result"
    }
   ],
   "source": [
    "math.gcd(6, 28)"
   ]
  },
  {
   "cell_type": "code",
   "execution_count": 454,
   "metadata": {},
   "outputs": [
    {
     "data": {
      "text/plain": [
       "84"
      ]
     },
     "execution_count": 454,
     "metadata": {},
     "output_type": "execute_result"
    }
   ],
   "source": [
    "lcm(6, 28)"
   ]
  },
  {
   "cell_type": "code",
   "execution_count": 455,
   "metadata": {},
   "outputs": [
    {
     "data": {
      "text/plain": [
       "924"
      ]
     },
     "execution_count": 455,
     "metadata": {},
     "output_type": "execute_result"
    }
   ],
   "source": [
    "lcm(84, 44)"
   ]
  },
  {
   "cell_type": "code",
   "execution_count": 464,
   "metadata": {},
   "outputs": [
    {
     "data": {
      "text/plain": [
       "2772"
      ]
     },
     "execution_count": 464,
     "metadata": {},
     "output_type": "execute_result"
    }
   ],
   "source": [
    "find_repeat(moons, 100)"
   ]
  },
  {
   "cell_type": "code",
   "execution_count": 468,
   "metadata": {},
   "outputs": [
    {
     "data": {
      "text/plain": [
       "325433763467176"
      ]
     },
     "execution_count": 468,
     "metadata": {},
     "output_type": "execute_result"
    }
   ],
   "source": [
    "moons = list(map(Moon.from_line, \"\"\"\\\n",
    "<x=-17, y=9, z=-5>\n",
    "<x=-1, y=7, z=13>\n",
    "<x=-19, y=12, z=5>\n",
    "<x=-6, y=-6, z=-4>\"\"\".splitlines()))\n",
    "find_repeat(moons, 1000000)"
   ]
  },
  {
   "cell_type": "code",
   "execution_count": 472,
   "metadata": {},
   "outputs": [
    {
     "data": {
      "text/plain": [
       "4686774924"
      ]
     },
     "execution_count": 472,
     "metadata": {},
     "output_type": "execute_result"
    }
   ],
   "source": [
    "moons = list(map(Moon.from_line, \"\"\"\\\n",
    "<x=-8, y=-10, z=0>\n",
    "<x=5, y=5, z=10>\n",
    "<x=2, y=-7, z=3>\n",
    "<x=9, y=-8, z=-3>\"\"\".splitlines()))\n",
    "find_repeat(moons, 100000)"
   ]
  },
  {
   "cell_type": "code",
   "execution_count": 473,
   "metadata": {},
   "outputs": [
    {
     "data": {
      "text/plain": [
       "<__main__.ProgState at 0x7f2e6885cfd0>"
      ]
     },
     "execution_count": 473,
     "metadata": {},
     "output_type": "execute_result"
    }
   ],
   "source": [
    "# day 13 part 1\n",
    "\n",
    "vals = []\n",
    "rund7(load(13), reader(), vals.append)"
   ]
  },
  {
   "cell_type": "code",
   "execution_count": 475,
   "metadata": {},
   "outputs": [
    {
     "data": {
      "text/plain": [
       "2442"
      ]
     },
     "execution_count": 475,
     "metadata": {},
     "output_type": "execute_result"
    }
   ],
   "source": [
    "len(vals)"
   ]
  },
  {
   "cell_type": "code",
   "execution_count": 481,
   "metadata": {},
   "outputs": [],
   "source": [
    "blocks = len([v for v in vals[2::3] if v == 2])"
   ]
  },
  {
   "cell_type": "code",
   "execution_count": 482,
   "metadata": {},
   "outputs": [
    {
     "data": {
      "text/plain": [
       "247"
      ]
     },
     "execution_count": 482,
     "metadata": {},
     "output_type": "execute_result"
    }
   ],
   "source": [
    "blocks"
   ]
  },
  {
   "cell_type": "code",
   "execution_count": 478,
   "metadata": {},
   "outputs": [
    {
     "data": {
      "text/plain": [
       "[0, 0, 1, 1, 0, 1, 2, 0, 1, 3, 0, 1, 4, 0, 1, 5, 0, 1, 6, 0]"
      ]
     },
     "execution_count": 478,
     "metadata": {},
     "output_type": "execute_result"
    }
   ],
   "source": [
    "vals[:20]"
   ]
  },
  {
   "cell_type": "code",
   "execution_count": 480,
   "metadata": {},
   "outputs": [
    {
     "data": {
      "text/plain": [
       "[1, 1, 1, 1, 1, 1]"
      ]
     },
     "execution_count": 480,
     "metadata": {},
     "output_type": "execute_result"
    }
   ],
   "source": [
    "vals[2:20:3]"
   ]
  },
  {
   "cell_type": "code",
   "execution_count": 495,
   "metadata": {},
   "outputs": [],
   "source": [
    "# day 13 part 2\n",
    "def chunk(it, size):\n",
    "    res = []\n",
    "    for item in it:\n",
    "        res.append(item)\n",
    "        if len(res) == size:\n",
    "            yield res\n",
    "            res = []\n",
    "\n",
    "tiles = {\n",
    "    0: ' ',\n",
    "    1: '@',\n",
    "    2: 'x',\n",
    "    3: '_',\n",
    "    4: 'o',\n",
    "}\n",
    "\n",
    "class Joystick:\n",
    "    def __init__(self):\n",
    "        self.val = 0\n",
    "\n",
    "    def set(self, val):\n",
    "        self.val = val\n",
    "        \n",
    "    def __next__(self):\n",
    "        return self.val\n",
    "        \n",
    "def get_output(prog, read):\n",
    "    pos = 0\n",
    "    while True:\n",
    "        output = Output()\n",
    "        while not output.sent:\n",
    "            pos = d5execute(prog, pos, read, output)\n",
    "        yield output.val\n",
    "\n",
    "def get_tiles(prog, read):\n",
    "    return chunk(get_output(prog, read), 3)\n",
    "        \n",
    "        \n",
    "def play_game(prog):\n",
    "    screen = {}\n",
    "    bbox = [0, 0]\n",
    "    score = None\n",
    "    \n",
    "    # don't forget to put coins in!\n",
    "    prog[0] = 2\n",
    "\n",
    "    ball_x = 0\n",
    "    paddle_x = 0\n",
    "    \n",
    "    joystick = Joystick()\n",
    "    tiles = get_tiles(prog, joystick)\n",
    "    \n",
    "    try:\n",
    "        for x, y, tile in tiles:\n",
    "            if x == -1 and y == 0:\n",
    "                score = tile\n",
    "                continue\n",
    "            screen[x, y] = tile\n",
    "            bbox[0] = max(bbox[0], x)\n",
    "            bbox[1] = max(bbox[1], y)\n",
    "\n",
    "            if tile == 4:\n",
    "                ball_x = x\n",
    "            if tile == 3:\n",
    "                paddle_x = x\n",
    "                \n",
    "            if ball_x < paddle_x:\n",
    "                joystick.set(-1)\n",
    "            elif ball_x > paddle_x:\n",
    "                joystick.set(1)\n",
    "            else:\n",
    "                joystick.set(0)\n",
    "                \n",
    "    except StopError as e:\n",
    "        print(\"stopped\", e)\n",
    "    return score\n",
    "        \n",
    "        \n",
    "    \n",
    "            \n",
    "def render_game(vals):\n",
    "    screen = {}\n",
    "    bbox = [0, 0]\n",
    "    for x, y, tile in chunk(vals, 3):\n",
    "        screen[x, y] = tile\n",
    "        bbox[0] = max(bbox[0], x)\n",
    "        bbox[1] = max(bbox[1], y)\n",
    "    for y in range(bbox[1] + 1):\n",
    "        for x in range(bbox[0]+ 1):\n",
    "            print(tiles[screen.get((x, y), 0)], end='')\n",
    "        print()"
   ]
  },
  {
   "cell_type": "code",
   "execution_count": 490,
   "metadata": {},
   "outputs": [
    {
     "name": "stdout",
     "output_type": "stream",
     "text": [
      "@@@@@@@@@@@@@@@@@@@@@@@@@@@@@@@@@@@@@\n",
      "@                                   @\n",
      "@ xxxx xx    xx xxxxx  x x xxx xxxx @\n",
      "@ xxxxxxx xxx  x xxxx xx xx   x  x  @\n",
      "@  x x     x   x  xxxxx   xxx   xxx @\n",
      "@ xx   xx  xxx xx   xxx xx x  xx xx @\n",
      "@ x xx x xxx  x    xxx  x   x   x   @\n",
      "@ x  xx x            x    xx  xxxx  @\n",
      "@ xx  x  x     x xxxxx x   xx xx  x @\n",
      "@ x x  xx xxx  xxxxxxxxx   xx  xxxx @\n",
      "@ x    x    xxx  xxx x      xxx  xx @\n",
      "@ x xxx   x  x xx xx   x xx xx xxx  @\n",
      "@ xxx  x x xx  x   xxx x  xxxx xxx  @\n",
      "@    x xxxxxx xx x   xxxxxxx x    x @\n",
      "@  x x xxxxxxx x  x   xxx  xx xx  x @\n",
      "@   x    x     x xxxxxxx x x xxxxxx @\n",
      "@                                   @\n",
      "@               o                   @\n",
      "@                                   @\n",
      "@                                   @\n",
      "@                 _                 @\n",
      "@                                   @\n"
     ]
    }
   ],
   "source": [
    "render_game(vals)"
   ]
  },
  {
   "cell_type": "code",
   "execution_count": 496,
   "metadata": {},
   "outputs": [
    {
     "name": "stdout",
     "output_type": "stream",
     "text": [
      "stopped 450\n"
     ]
    },
    {
     "data": {
      "text/plain": [
       "12954"
      ]
     },
     "execution_count": 496,
     "metadata": {},
     "output_type": "execute_result"
    }
   ],
   "source": [
    "play_game(load(13))"
   ]
  },
  {
   "cell_type": "code",
   "execution_count": 591,
   "metadata": {},
   "outputs": [],
   "source": [
    "# day 14 part 1\n",
    "\n",
    "Q = collections.namedtuple(\"Q\", \"amount substance\")\n",
    "R = collections.namedtuple(\"R\", \"inputs output\")\n",
    "\n",
    "class BudgetError(Exception):\n",
    "    pass\n",
    "        \n",
    "class Store:\n",
    "    def __init__(self, reactions):\n",
    "        self.reactions = {r.output.substance: r for r in reactions}\n",
    "        self.store = collections.defaultdict(int)\n",
    "        self.consumed = 0\n",
    "        self.budget = None\n",
    "        \n",
    "    def clone(self):\n",
    "        s = Store([])\n",
    "        s.reactions = self.reactions\n",
    "        s.consumed = self.consumed\n",
    "        s.budget = self.budget\n",
    "        s.store = self.store.copy()\n",
    "        return s\n",
    "        \n",
    "    def withdraw(self, quantity):\n",
    "        substance = quantity.substance\n",
    "        if substance == \"ORE\":\n",
    "            if self.budget is not None and self.budget < self.consumed + quantity.amount:\n",
    "                raise BudgetError(quantity)\n",
    "            self.consumed += quantity.amount\n",
    "            return quantity\n",
    "        while self.store[substance] < quantity.amount:\n",
    "            self.make(quantity)\n",
    "        self.store[substance] -= quantity.amount\n",
    "        return quantity\n",
    "    \n",
    "    def deposit(self, quantity):\n",
    "        self.store[quantity.substance] += quantity.amount\n",
    "    \n",
    "    def make(self, quantity):\n",
    "        reaction = self.reactions[quantity.substance]\n",
    "        n = math.ceil(quantity.amount / reaction.output.amount)\n",
    "        for i in reaction.inputs:\n",
    "            self.withdraw(Q(i.amount * n, i.substance))\n",
    "        self.deposit(Q(reaction.output.amount * n, reaction.output.substance))\n",
    "        \n",
    "    def dump(self):\n",
    "        print(self.consumed, self.store)\n",
    "            \n",
    "def read_quantity(text):\n",
    "    parts = text.split()\n",
    "    return Q(int(parts[0]), parts[1])\n",
    "\n",
    "def read_reaction(text):\n",
    "    inputs, output = text.strip().split(\" => \")\n",
    "    return R(list(map(read_quantity, inputs.split(', '))), read_quantity(output))\n",
    "\n",
    "def read_store(text):\n",
    "    return Store(list(map(read_reaction, text.splitlines())))\n",
    "\n",
    "# day 14 part 2\n",
    "\n",
    "def try_amount(store, n):\n",
    "    s = store.clone()\n",
    "    try:\n",
    "        s.withdraw(Q(n, 'FUEL'))\n",
    "        return True, s\n",
    "    except BudgetError:\n",
    "        return False, store\n",
    "    \n",
    "START_GUESS = 2**20\n",
    "    \n",
    "def find_max_for_budget(store, budget):\n",
    "    s = store.clone()\n",
    "    s.budget = budget\n",
    "    amount = 0\n",
    "    guess = START_GUESS\n",
    "    while guess:\n",
    "        ok, s = try_amount(s, guess)\n",
    "        if ok:\n",
    "            amount += guess\n",
    "        else:\n",
    "            guess = guess // 2\n",
    "    return amount, s"
   ]
  },
  {
   "cell_type": "code",
   "execution_count": 592,
   "metadata": {},
   "outputs": [],
   "source": [
    "s = read_store(\"\"\"\\\n",
    "10 ORE => 10 A\n",
    "1 ORE => 1 B\n",
    "7 A, 1 B => 1 C\n",
    "7 A, 1 C => 1 D\n",
    "7 A, 1 D => 1 E\n",
    "7 A, 1 E => 1 FUEL\"\"\")"
   ]
  },
  {
   "cell_type": "code",
   "execution_count": 593,
   "metadata": {},
   "outputs": [],
   "source": [
    "s.budget = 30"
   ]
  },
  {
   "cell_type": "code",
   "execution_count": 594,
   "metadata": {},
   "outputs": [],
   "source": [
    "amount, s = find_max_for_budget(s, 100)"
   ]
  },
  {
   "cell_type": "code",
   "execution_count": 595,
   "metadata": {},
   "outputs": [
    {
     "data": {
      "text/plain": [
       "3"
      ]
     },
     "execution_count": 595,
     "metadata": {},
     "output_type": "execute_result"
    }
   ],
   "source": [
    "amount"
   ]
  },
  {
   "cell_type": "code",
   "execution_count": null,
   "metadata": {},
   "outputs": [],
   "source": []
  },
  {
   "cell_type": "code",
   "execution_count": 585,
   "metadata": {},
   "outputs": [
    {
     "name": "stdout",
     "output_type": "stream",
     "text": [
      "30 defaultdict(<class 'int'>, {'FUEL': 0, 'A': 2, 'E': 0, 'D': 0, 'C': 0, 'B': 0})\n"
     ]
    }
   ],
   "source": [
    "s.dump()"
   ]
  },
  {
   "cell_type": "code",
   "execution_count": null,
   "metadata": {},
   "outputs": [],
   "source": []
  },
  {
   "cell_type": "code",
   "execution_count": 513,
   "metadata": {},
   "outputs": [
    {
     "data": {
      "text/plain": [
       "defaultdict(int, {'FUEL': 0, 'A': 2, 'E': 0, 'D': 0, 'C': 0, 'B': 0})"
      ]
     },
     "execution_count": 513,
     "metadata": {},
     "output_type": "execute_result"
    }
   ],
   "source": [
    "s.store"
   ]
  },
  {
   "cell_type": "code",
   "execution_count": 518,
   "metadata": {},
   "outputs": [
    {
     "data": {
      "text/plain": [
       "Quantity(amount=1, substance='A')"
      ]
     },
     "execution_count": 518,
     "metadata": {},
     "output_type": "execute_result"
    }
   ],
   "source": [
    "s.withdraw(Quantity(1, 'A'))"
   ]
  },
  {
   "cell_type": "code",
   "execution_count": 519,
   "metadata": {},
   "outputs": [
    {
     "data": {
      "text/plain": [
       "defaultdict(int, {'FUEL': 0, 'A': 9, 'E': 0, 'D': 0, 'C': 0, 'B': 0})"
      ]
     },
     "execution_count": 519,
     "metadata": {},
     "output_type": "execute_result"
    }
   ],
   "source": [
    "s.store"
   ]
  },
  {
   "cell_type": "code",
   "execution_count": 558,
   "metadata": {},
   "outputs": [
    {
     "name": "stdout",
     "output_type": "stream",
     "text": [
      "165 defaultdict(<class 'int'>, {'FUEL': 0, 'AB': 0, 'A': 0, 'B': 1, 'BC': 0, 'C': 3, 'CA': 0})\n"
     ]
    }
   ],
   "source": [
    "s = read_store(\"\"\"\\\n",
    "9 ORE => 2 A\n",
    "8 ORE => 3 B\n",
    "7 ORE => 5 C\n",
    "3 A, 4 B => 1 AB\n",
    "5 B, 7 C => 1 BC\n",
    "4 C, 1 A => 1 CA\n",
    "2 AB, 3 BC, 4 CA => 1 FUEL\"\"\")\n",
    "s.withdraw(Q(1, 'FUEL'))\n",
    "s.dump()"
   ]
  },
  {
   "cell_type": "code",
   "execution_count": 559,
   "metadata": {},
   "outputs": [
    {
     "name": "stdout",
     "output_type": "stream",
     "text": [
      "278404 defaultdict(<class 'int'>, {'FUEL': 0, 'QNXZV': 3, 'PWTFL': 3, 'GSLWP': 2, 'HVPWG': 1, 'MPSPS': 0, 'BWXWC': 0, 'ZTFZG': 7, 'FKXVQ': 2, 'ZSKSW': 0, 'ZRBN': 1, 'RJCH': 3, 'KBJF': 0, 'FDSBZ': 3, 'JZDB': 3, 'FKTLR': 0, 'HKFD': 0, 'XZDP': 4, 'FMNK': 0, 'QHVSJ': 0, 'SPSW': 2, 'VTCRJ': 6, 'VXZN': 0, 'JKRV': 4, 'DJNDX': 5, 'HPRPM': 3, 'GTZCK': 3, 'GKVQK': 1, 'QWFH': 0, 'RJLWC': 5, 'RWKWD': 0, 'MNMBX': 0, 'DKRX': 0, 'DBRBD': 3, 'VLQP': 2, 'WKGVW': 0, 'FGQF': 2, 'VMHM': 8, 'DWTC': 0, 'LJQH': 2, 'DZGN': 0, 'TJLW': 1, 'TFPNF': 5, 'VQPX': 4, 'XPMV': 1, 'NVWGS': 0, 'TGLHX': 3, 'CWZRS': 5, 'FDSZX': 0, 'KPZB': 4, 'XZVHQ': 5, 'HWDS': 1, 'SPQR': 7, 'GQGB': 0, 'GPKR': 0, 'QCMJ': 2, 'DSPJG': 0, 'TXPL': 2, 'HWJVK': 4})\n"
     ]
    }
   ],
   "source": [
    "with open('day14-input') as f:\n",
    "    s = read_store(f.read())\n",
    "    s.withdraw(Q(1, 'FUEL'))\n",
    "    s.dump()"
   ]
  },
  {
   "cell_type": "code",
   "execution_count": 560,
   "metadata": {},
   "outputs": [
    {
     "data": {
      "text/plain": [
       "Q(amount=9, substance='FUEL')"
      ]
     },
     "execution_count": 560,
     "metadata": {},
     "output_type": "execute_result"
    }
   ],
   "source": [
    "s.withdraw(Q(9, 'FUEL'))"
   ]
  },
  {
   "cell_type": "code",
   "execution_count": 561,
   "metadata": {},
   "outputs": [
    {
     "name": "stdout",
     "output_type": "stream",
     "text": [
      "2280522 defaultdict(<class 'int'>, {'FUEL': 0, 'QNXZV': 0, 'PWTFL': 2, 'GSLWP': 0, 'HVPWG': 2, 'MPSPS': 0, 'BWXWC': 0, 'ZTFZG': 3, 'FKXVQ': 1, 'ZSKSW': 0, 'ZRBN': 1, 'RJCH': 1, 'KBJF': 1, 'FDSBZ': 1, 'JZDB': 2, 'FKTLR': 2, 'HKFD': 1, 'XZDP': 4, 'FMNK': 2, 'QHVSJ': 3, 'SPSW': 3, 'VTCRJ': 5, 'VXZN': 4, 'JKRV': 1, 'DJNDX': 1, 'HPRPM': 3, 'GTZCK': 3, 'GKVQK': 1, 'QWFH': 4, 'RJLWC': 5, 'RWKWD': 2, 'MNMBX': 0, 'DKRX': 0, 'DBRBD': 1, 'VLQP': 4, 'WKGVW': 3, 'FGQF': 1, 'VMHM': 0, 'DWTC': 1, 'LJQH': 0, 'DZGN': 0, 'TJLW': 2, 'TFPNF': 2, 'VQPX': 4, 'XPMV': 0, 'NVWGS': 0, 'TGLHX': 1, 'CWZRS': 7, 'FDSZX': 0, 'KPZB': 0, 'XZVHQ': 2, 'HWDS': 1, 'SPQR': 6, 'GQGB': 0, 'GPKR': 0, 'QCMJ': 0, 'DSPJG': 0, 'TXPL': 0, 'HWJVK': 4})\n"
     ]
    }
   ],
   "source": [
    "s.dump()"
   ]
  },
  {
   "cell_type": "code",
   "execution_count": 562,
   "metadata": {},
   "outputs": [
    {
     "data": {
      "text/plain": [
       "3.3333333333333335"
      ]
     },
     "execution_count": 562,
     "metadata": {},
     "output_type": "execute_result"
    }
   ],
   "source": [
    "10 / 3"
   ]
  },
  {
   "cell_type": "code",
   "execution_count": 563,
   "metadata": {},
   "outputs": [
    {
     "data": {
      "text/plain": [
       "4"
      ]
     },
     "execution_count": 563,
     "metadata": {},
     "output_type": "execute_result"
    }
   ],
   "source": [
    "math.ceil(10/3)"
   ]
  },
  {
   "cell_type": "code",
   "execution_count": 596,
   "metadata": {},
   "outputs": [],
   "source": [
    "with open('day14-input') as f:\n",
    "    s = read_store(f.read())\n",
    "amount, s2 = find_max_for_budget(s, 1000000000000)"
   ]
  },
  {
   "cell_type": "code",
   "execution_count": 597,
   "metadata": {},
   "outputs": [
    {
     "data": {
      "text/plain": [
       "4436981"
      ]
     },
     "execution_count": 597,
     "metadata": {},
     "output_type": "execute_result"
    }
   ],
   "source": [
    "amount"
   ]
  },
  {
   "cell_type": "code",
   "execution_count": 714,
   "metadata": {},
   "outputs": [],
   "source": [
    "dirs = {\n",
    "    (0, -1): 1,\n",
    "    (0, 1): 2,\n",
    "    (-1, 0): 3,\n",
    "    (1, 0): 4,\n",
    "}\n",
    "\n",
    "leftwards = {\n",
    "    (0, -1): (-1, 0),\n",
    "    (-1, 0): (0, 1),\n",
    "    (0, 1): (1, 0),\n",
    "    (1, 0): (0, -1),\n",
    "}\n",
    "\n",
    "rightwards = {v:k for k, v in leftwards.items()}\n",
    "\n",
    "HIT_WALL = 0\n",
    "MOVED = 1\n",
    "FOUND = 2\n",
    "\n",
    "WALL = '#'\n",
    "SPACE = '.'\n",
    "GOAL = 'x'\n",
    "\n",
    "def step(loc, direction):\n",
    "    return loc[0] + direction[0], loc[1] + direction[1]\n",
    "\n",
    "class Maze:\n",
    "    def __init__(self, prog):\n",
    "        self.prog = prog\n",
    "        self.pos = 0\n",
    "        self.map = {}\n",
    "        self.loc = 0, 0\n",
    "        self.minx = self.maxx = self.miny = self.maxy = 0\n",
    "        \n",
    "    def move(self, direction):\n",
    "        dir_code = dirs[direction]\n",
    "        result = self.run_to_output(dir_code)\n",
    "        new_loc = step(self.loc, direction)\n",
    "        self.update_bbox(new_loc)\n",
    "        if result == HIT_WALL:\n",
    "            self.map[new_loc] = WALL\n",
    "        elif result == MOVED:\n",
    "            self.loc = new_loc\n",
    "            self.map[new_loc] = SPACE\n",
    "        elif result == FOUND:\n",
    "            self.loc = new_loc\n",
    "            self.map[new_loc] = GOAL\n",
    "        return result\n",
    "    \n",
    "    def at(self, pos):\n",
    "        return self.map.get(pos, ' ')\n",
    "\n",
    "    def update_bbox(self, new_loc):\n",
    "        self.minx = min(self.minx, new_loc[0])\n",
    "        self.miny = min(self.miny, new_loc[1])\n",
    "        self.maxx = max(self.maxx, new_loc[0])\n",
    "        self.maxy = max(self.maxy, new_loc[1])\n",
    "        \n",
    "    def run_to_output(self, dir_code):\n",
    "        output = Output()\n",
    "        while not output.sent:\n",
    "            self.pos = d5execute(self.prog, self.pos, reader(dir_code), output)\n",
    "        return output.val\n",
    "    \n",
    "    def dump(self):\n",
    "        for y in range(self.miny, self.maxy+1):\n",
    "            for x in range(self.minx, self.maxx+1):\n",
    "                c = 'D' if (x, y) == self.loc else self.map.get((x, y), ' ')\n",
    "                print(c, end='')\n",
    "            print()\n",
    "\n",
    "class Explorer:\n",
    "    def __init__(self, maze):\n",
    "        self.maze = maze\n",
    "        \n",
    "    def wall(self, direction):\n",
    "        loc = step(self.maze.loc, direction)\n",
    "        return self.maze.at(loc) == WALL\n",
    "        \n",
    "    def wall_ahead(self):\n",
    "        return self.wall(self.heading)\n",
    "        \n",
    "    def wall_left(self):\n",
    "        return self.wall(leftwards[self.heading])\n",
    "    \n",
    "    def wall_behind_left(self):\n",
    "        behind = -self.heading[0], -self.heading[1]\n",
    "        loc = step(self.maze.loc, behind)\n",
    "        behind_left = step(loc, self.heading)\n",
    "        return self.maze.at(loc) == WALL\n",
    "    \n",
    "    def any_walls(self):\n",
    "        for x in range(-1, 2):\n",
    "            for y in range(-1, 2):\n",
    "                if (x, y) == (0, 0):\n",
    "                    continue\n",
    "                if self.maze.at(step(self.maze.loc, (x, y))) == WALL:\n",
    "                    return True\n",
    "        return False\n",
    "    \n",
    "    def step(self):\n",
    "        if not self.any_walls():\n",
    "            self.maze.move(self.heading)\n",
    "            return\n",
    "        \n",
    "        if self.wall_behind_left() and not self.wall_left() and not self.wall_ahead():\n",
    "            self.heading = rightwards[self.heading]\n",
    "            self.maze.move(self.heading)\n",
    "            return\n",
    "            \n",
    "        if self.wall_ahead():\n",
    "            self.heading = rightwards[self.heading]\n",
    "            return\n",
    "        \n",
    "        if self.wall_left():\n",
    "            self.maze.move(self.heading)\n",
    "            return\n",
    "        \n",
    "        self.heading = leftwards[self.heading]\n",
    "        \n",
    "    def dump(self):\n",
    "        print(\"heading:\", self.heading)\n",
    "        self.maze.dump()\n",
    "\n"
   ]
  },
  {
   "cell_type": "code",
   "execution_count": 715,
   "metadata": {},
   "outputs": [],
   "source": [
    "e = Explorer(Maze(load(15)))"
   ]
  },
  {
   "cell_type": "code",
   "execution_count": 751,
   "metadata": {},
   "outputs": [
    {
     "name": "stdout",
     "output_type": "stream",
     "text": [
      "heading: (0, 1)\n",
      " # \n",
      "D #\n",
      " # \n"
     ]
    }
   ],
   "source": [
    "e.step()\n",
    "e.dump()"
   ]
  },
  {
   "cell_type": "code",
   "execution_count": 752,
   "metadata": {},
   "outputs": [
    {
     "name": "stdout",
     "output_type": "stream",
     "text": [
      "NOTE: Enter 'c' at the ipdb>  prompt to continue execution.\n",
      "None\n",
      "> \u001b[0;32m<string>\u001b[0m(1)\u001b[0;36m<module>\u001b[0;34m()\u001b[0m\n",
      "\n",
      "ipdb> l\n",
      "\n",
      "ipdb> s\n",
      "--Call--\n",
      "> \u001b[0;32m<ipython-input-714-c6f37e37af63>\u001b[0m(103)\u001b[0;36mstep\u001b[0;34m()\u001b[0m\n",
      "\u001b[0;32m    101 \u001b[0;31m        \u001b[0;32mreturn\u001b[0m \u001b[0;32mFalse\u001b[0m\u001b[0;34m\u001b[0m\u001b[0;34m\u001b[0m\u001b[0m\n",
      "\u001b[0m\u001b[0;32m    102 \u001b[0;31m\u001b[0;34m\u001b[0m\u001b[0m\n",
      "\u001b[0m\u001b[0;32m--> 103 \u001b[0;31m    \u001b[0;32mdef\u001b[0m \u001b[0mstep\u001b[0m\u001b[0;34m(\u001b[0m\u001b[0mself\u001b[0m\u001b[0;34m)\u001b[0m\u001b[0;34m:\u001b[0m\u001b[0;34m\u001b[0m\u001b[0;34m\u001b[0m\u001b[0m\n",
      "\u001b[0m\u001b[0;32m    104 \u001b[0;31m        \u001b[0;32mif\u001b[0m \u001b[0;32mnot\u001b[0m \u001b[0mself\u001b[0m\u001b[0;34m.\u001b[0m\u001b[0many_walls\u001b[0m\u001b[0;34m(\u001b[0m\u001b[0;34m)\u001b[0m\u001b[0;34m:\u001b[0m\u001b[0;34m\u001b[0m\u001b[0;34m\u001b[0m\u001b[0m\n",
      "\u001b[0m\u001b[0;32m    105 \u001b[0;31m            \u001b[0mself\u001b[0m\u001b[0;34m.\u001b[0m\u001b[0mmaze\u001b[0m\u001b[0;34m.\u001b[0m\u001b[0mmove\u001b[0m\u001b[0;34m(\u001b[0m\u001b[0mself\u001b[0m\u001b[0;34m.\u001b[0m\u001b[0mheading\u001b[0m\u001b[0;34m)\u001b[0m\u001b[0;34m\u001b[0m\u001b[0;34m\u001b[0m\u001b[0m\n",
      "\u001b[0m\n",
      "ipdb> s\n",
      "> \u001b[0;32m<ipython-input-714-c6f37e37af63>\u001b[0m(104)\u001b[0;36mstep\u001b[0;34m()\u001b[0m\n",
      "\u001b[0;32m    102 \u001b[0;31m\u001b[0;34m\u001b[0m\u001b[0m\n",
      "\u001b[0m\u001b[0;32m    103 \u001b[0;31m    \u001b[0;32mdef\u001b[0m \u001b[0mstep\u001b[0m\u001b[0;34m(\u001b[0m\u001b[0mself\u001b[0m\u001b[0;34m)\u001b[0m\u001b[0;34m:\u001b[0m\u001b[0;34m\u001b[0m\u001b[0;34m\u001b[0m\u001b[0m\n",
      "\u001b[0m\u001b[0;32m--> 104 \u001b[0;31m        \u001b[0;32mif\u001b[0m \u001b[0;32mnot\u001b[0m \u001b[0mself\u001b[0m\u001b[0;34m.\u001b[0m\u001b[0many_walls\u001b[0m\u001b[0;34m(\u001b[0m\u001b[0;34m)\u001b[0m\u001b[0;34m:\u001b[0m\u001b[0;34m\u001b[0m\u001b[0;34m\u001b[0m\u001b[0m\n",
      "\u001b[0m\u001b[0;32m    105 \u001b[0;31m            \u001b[0mself\u001b[0m\u001b[0;34m.\u001b[0m\u001b[0mmaze\u001b[0m\u001b[0;34m.\u001b[0m\u001b[0mmove\u001b[0m\u001b[0;34m(\u001b[0m\u001b[0mself\u001b[0m\u001b[0;34m.\u001b[0m\u001b[0mheading\u001b[0m\u001b[0;34m)\u001b[0m\u001b[0;34m\u001b[0m\u001b[0;34m\u001b[0m\u001b[0m\n",
      "\u001b[0m\u001b[0;32m    106 \u001b[0;31m            \u001b[0;32mreturn\u001b[0m\u001b[0;34m\u001b[0m\u001b[0;34m\u001b[0m\u001b[0m\n",
      "\u001b[0m\n",
      "ipdb> self.heading\n",
      "(0, 1)\n",
      "ipdb> self.any_walls()\n",
      "True\n",
      "ipdb> self.wall_behind_left()\n",
      "False\n",
      "ipdb> q\n"
     ]
    }
   ],
   "source": [
    "%debug e.step()"
   ]
  },
  {
   "cell_type": "code",
   "execution_count": 781,
   "metadata": {},
   "outputs": [],
   "source": [
    "import maze\n",
    "import intcode"
   ]
  },
  {
   "cell_type": "code",
   "execution_count": 782,
   "metadata": {},
   "outputs": [],
   "source": [
    "m = maze.Maze(intcode.load(15))"
   ]
  },
  {
   "cell_type": "code",
   "execution_count": 783,
   "metadata": {},
   "outputs": [
    {
     "name": "stdout",
     "output_type": "stream",
     "text": [
      "D\n"
     ]
    }
   ],
   "source": [
    "m.dump()"
   ]
  },
  {
   "cell_type": "code",
   "execution_count": null,
   "metadata": {},
   "outputs": [
    {
     "name": "stdout",
     "output_type": "stream",
     "text": [
      "dir? w\n",
      "     ### \n",
      "    #...#\n",
      "   ##.#.#\n",
      "  #...#.#\n",
      "  #. ##.#\n",
      "  #.#...#\n",
      "  #.#.## \n",
      "  #. .#  \n",
      " ##. .#  \n",
      "#... .#  \n",
      "#.   .#  \n",
      "#.   .#  \n",
      "#.###.#  \n",
      "#.. #.#  \n",
      " ## #.#  \n",
      "    D.#  \n",
      "     #   \n",
      "dir? s\n",
      "     ### \n",
      "    #...#\n",
      "   ##.#.#\n",
      "  #...#.#\n",
      "  #. ##.#\n",
      "  #.#...#\n",
      "  #.#.## \n",
      "  #. .#  \n",
      " ##. .#  \n",
      "#... .#  \n",
      "#.   .#  \n",
      "#.   .#  \n",
      "#.###.#  \n",
      "#.. #.#  \n",
      " ## #.#  \n",
      "    D.#  \n",
      "    ##   \n",
      "dir? w\n",
      "     ### \n",
      "    #...#\n",
      "   ##.#.#\n",
      "  #...#.#\n",
      "  #. ##.#\n",
      "  #.#...#\n",
      "  #.#.## \n",
      "  #. .#  \n",
      " ##. .#  \n",
      "#... .#  \n",
      "#.   .#  \n",
      "#.   .#  \n",
      "#.###.#  \n",
      "#.. #.#  \n",
      " ## #.#  \n",
      "   D..#  \n",
      "    ##   \n",
      "dir? s\n",
      "     ### \n",
      "    #...#\n",
      "   ##.#.#\n",
      "  #...#.#\n",
      "  #. ##.#\n",
      "  #.#...#\n",
      "  #.#.## \n",
      "  #. .#  \n",
      " ##. .#  \n",
      "#... .#  \n",
      "#.   .#  \n",
      "#.   .#  \n",
      "#.###.#  \n",
      "#.. #.#  \n",
      " ## #.#  \n",
      "   ...#  \n",
      "   D##   \n",
      "dir? s\n",
      "     ### \n",
      "    #...#\n",
      "   ##.#.#\n",
      "  #...#.#\n",
      "  #. ##.#\n",
      "  #.#...#\n",
      "  #.#.## \n",
      "  #. .#  \n",
      " ##. .#  \n",
      "#... .#  \n",
      "#.   .#  \n",
      "#.   .#  \n",
      "#.###.#  \n",
      "#.. #.#  \n",
      " ## #.#  \n",
      "   ...#  \n",
      "   .##   \n",
      "   D     \n",
      "dir? e\n",
      "     ### \n",
      "    #...#\n",
      "   ##.#.#\n",
      "  #...#.#\n",
      "  #. ##.#\n",
      "  #.#...#\n",
      "  #.#.## \n",
      "  #. .#  \n",
      " ##. .#  \n",
      "#... .#  \n",
      "#.   .#  \n",
      "#.   .#  \n",
      "#.###.#  \n",
      "#.. #.#  \n",
      " ## #.#  \n",
      "   ...#  \n",
      "   .##   \n",
      "   D#    \n",
      "dir? s\n",
      "     ### \n",
      "    #...#\n",
      "   ##.#.#\n",
      "  #...#.#\n",
      "  #. ##.#\n",
      "  #.#...#\n",
      "  #.#.## \n",
      "  #. .#  \n",
      " ##. .#  \n",
      "#... .#  \n",
      "#.   .#  \n",
      "#.   .#  \n",
      "#.###.#  \n",
      "#.. #.#  \n",
      " ## #.#  \n",
      "   ...#  \n",
      "   .##   \n",
      "   D#    \n",
      "   #     \n",
      "dir? w\n",
      "     ### \n",
      "    #...#\n",
      "   ##.#.#\n",
      "  #...#.#\n",
      "  #. ##.#\n",
      "  #.#...#\n",
      "  #.#.## \n",
      "  #. .#  \n",
      " ##. .#  \n",
      "#... .#  \n",
      "#.   .#  \n",
      "#.   .#  \n",
      "#.###.#  \n",
      "#.. #.#  \n",
      " ## #.#  \n",
      "   ...#  \n",
      "   .##   \n",
      "  D.#    \n",
      "   #     \n",
      "dir? s\n",
      "     ### \n",
      "    #...#\n",
      "   ##.#.#\n",
      "  #...#.#\n",
      "  #. ##.#\n",
      "  #.#...#\n",
      "  #.#.## \n",
      "  #. .#  \n",
      " ##. .#  \n",
      "#... .#  \n",
      "#.   .#  \n",
      "#.   .#  \n",
      "#.###.#  \n",
      "#.. #.#  \n",
      " ## #.#  \n",
      "   ...#  \n",
      "   .##   \n",
      "  D.#    \n",
      "  ##     \n",
      "dir? w\n",
      "     ### \n",
      "    #...#\n",
      "   ##.#.#\n",
      "  #...#.#\n",
      "  #. ##.#\n",
      "  #.#...#\n",
      "  #.#.## \n",
      "  #. .#  \n",
      " ##. .#  \n",
      "#... .#  \n",
      "#.   .#  \n",
      "#.   .#  \n",
      "#.###.#  \n",
      "#.. #.#  \n",
      " ## #.#  \n",
      "   ...#  \n",
      "   .##   \n",
      " D..#    \n",
      "  ##     \n",
      "dir? s\n",
      "     ### \n",
      "    #...#\n",
      "   ##.#.#\n",
      "  #...#.#\n",
      "  #. ##.#\n",
      "  #.#...#\n",
      "  #.#.## \n",
      "  #. .#  \n",
      " ##. .#  \n",
      "#... .#  \n",
      "#.   .#  \n",
      "#.   .#  \n",
      "#.###.#  \n",
      "#.. #.#  \n",
      " ## #.#  \n",
      "   ...#  \n",
      "   .##   \n",
      " ...#    \n",
      " D##     \n",
      "dir? s\n",
      "     ### \n",
      "    #...#\n",
      "   ##.#.#\n",
      "  #...#.#\n",
      "  #. ##.#\n",
      "  #.#...#\n",
      "  #.#.## \n",
      "  #. .#  \n",
      " ##. .#  \n",
      "#... .#  \n",
      "#.   .#  \n",
      "#.   .#  \n",
      "#.###.#  \n",
      "#.. #.#  \n",
      " ## #.#  \n",
      "   ...#  \n",
      "   .##   \n",
      " ...#    \n",
      " .##     \n",
      " D       \n",
      "dir? e\n",
      "     ### \n",
      "    #...#\n",
      "   ##.#.#\n",
      "  #...#.#\n",
      "  #. ##.#\n",
      "  #.#...#\n",
      "  #.#.## \n",
      "  #. .#  \n",
      " ##. .#  \n",
      "#... .#  \n",
      "#.   .#  \n",
      "#.   .#  \n",
      "#.###.#  \n",
      "#.. #.#  \n",
      " ## #.#  \n",
      "   ...#  \n",
      "   .##   \n",
      " ...#    \n",
      " .##     \n",
      " D#      \n",
      "dir? s\n",
      "     ### \n",
      "    #...#\n",
      "   ##.#.#\n",
      "  #...#.#\n",
      "  #. ##.#\n",
      "  #.#...#\n",
      "  #.#.## \n",
      "  #. .#  \n",
      " ##. .#  \n",
      "#... .#  \n",
      "#.   .#  \n",
      "#.   .#  \n",
      "#.###.#  \n",
      "#.. #.#  \n",
      " ## #.#  \n",
      "   ...#  \n",
      "   .##   \n",
      " ...#    \n",
      " .##     \n",
      " .#      \n",
      " D       \n",
      "dir? e\n",
      "     ### \n",
      "    #...#\n",
      "   ##.#.#\n",
      "  #...#.#\n",
      "  #. ##.#\n",
      "  #.#...#\n",
      "  #.#.## \n",
      "  #. .#  \n",
      " ##. .#  \n",
      "#... .#  \n",
      "#.   .#  \n",
      "#.   .#  \n",
      "#.###.#  \n",
      "#.. #.#  \n",
      " ## #.#  \n",
      "   ...#  \n",
      "   .##   \n",
      " ...#    \n",
      " .##     \n",
      " .#      \n",
      " D#      \n",
      "dir? s\n",
      "     ### \n",
      "    #...#\n",
      "   ##.#.#\n",
      "  #...#.#\n",
      "  #. ##.#\n",
      "  #.#...#\n",
      "  #.#.## \n",
      "  #. .#  \n",
      " ##. .#  \n",
      "#... .#  \n",
      "#.   .#  \n",
      "#.   .#  \n",
      "#.###.#  \n",
      "#.. #.#  \n",
      " ## #.#  \n",
      "   ...#  \n",
      "   .##   \n",
      " ...#    \n",
      " .##     \n",
      " .#      \n",
      " .#      \n",
      " D       \n",
      "dir? e\n",
      "     ### \n",
      "    #...#\n",
      "   ##.#.#\n",
      "  #...#.#\n",
      "  #. ##.#\n",
      "  #.#...#\n",
      "  #.#.## \n",
      "  #. .#  \n",
      " ##. .#  \n",
      "#... .#  \n",
      "#.   .#  \n",
      "#.   .#  \n",
      "#.###.#  \n",
      "#.. #.#  \n",
      " ## #.#  \n",
      "   ...#  \n",
      "   .##   \n",
      " ...#    \n",
      " .##     \n",
      " .#      \n",
      " .#      \n",
      " .D      \n",
      "dir? e\n",
      "     ### \n",
      "    #...#\n",
      "   ##.#.#\n",
      "  #...#.#\n",
      "  #. ##.#\n",
      "  #.#...#\n",
      "  #.#.## \n",
      "  #. .#  \n",
      " ##. .#  \n",
      "#... .#  \n",
      "#.   .#  \n",
      "#.   .#  \n",
      "#.###.#  \n",
      "#.. #.#  \n",
      " ## #.#  \n",
      "   ...#  \n",
      "   .##   \n",
      " ...#    \n",
      " .##     \n",
      " .#      \n",
      " .#      \n",
      " ..D     \n",
      "dir? n\n",
      "     ### \n",
      "    #...#\n",
      "   ##.#.#\n",
      "  #...#.#\n",
      "  #. ##.#\n",
      "  #.#...#\n",
      "  #.#.## \n",
      "  #. .#  \n",
      " ##. .#  \n",
      "#... .#  \n",
      "#.   .#  \n",
      "#.   .#  \n",
      "#.###.#  \n",
      "#.. #.#  \n",
      " ## #.#  \n",
      "   ...#  \n",
      "   .##   \n",
      " ...#    \n",
      " .##     \n",
      " .#      \n",
      " .#D     \n",
      " ...     \n",
      "dir? n\n",
      "     ### \n",
      "    #...#\n",
      "   ##.#.#\n",
      "  #...#.#\n",
      "  #. ##.#\n",
      "  #.#...#\n",
      "  #.#.## \n",
      "  #. .#  \n",
      " ##. .#  \n",
      "#... .#  \n",
      "#.   .#  \n",
      "#.   .#  \n",
      "#.###.#  \n",
      "#.. #.#  \n",
      " ## #.#  \n",
      "   ...#  \n",
      "   .##   \n",
      " ...#    \n",
      " .##     \n",
      " .#D     \n",
      " .#.     \n",
      " ...     \n",
      "dir? e\n",
      "     ### \n",
      "    #...#\n",
      "   ##.#.#\n",
      "  #...#.#\n",
      "  #. ##.#\n",
      "  #.#...#\n",
      "  #.#.## \n",
      "  #. .#  \n",
      " ##. .#  \n",
      "#... .#  \n",
      "#.   .#  \n",
      "#.   .#  \n",
      "#.###.#  \n",
      "#.. #.#  \n",
      " ## #.#  \n",
      "   ...#  \n",
      "   .##   \n",
      " ...#    \n",
      " .##     \n",
      " .#.D    \n",
      " .#.     \n",
      " ...     \n",
      "dir? n\n",
      "     ### \n",
      "    #...#\n",
      "   ##.#.#\n",
      "  #...#.#\n",
      "  #. ##.#\n",
      "  #.#...#\n",
      "  #.#.## \n",
      "  #. .#  \n",
      " ##. .#  \n",
      "#... .#  \n",
      "#.   .#  \n",
      "#.   .#  \n",
      "#.###.#  \n",
      "#.. #.#  \n",
      " ## #.#  \n",
      "   ...#  \n",
      "   .##   \n",
      " ...#    \n",
      " .###    \n",
      " .#.D    \n",
      " .#.     \n",
      " ...     \n",
      "dir? e\n",
      "     ### \n",
      "    #...#\n",
      "   ##.#.#\n",
      "  #...#.#\n",
      "  #. ##.#\n",
      "  #.#...#\n",
      "  #.#.## \n",
      "  #. .#  \n",
      " ##. .#  \n",
      "#... .#  \n",
      "#.   .#  \n",
      "#.   .#  \n",
      "#.###.#  \n",
      "#.. #.#  \n",
      " ## #.#  \n",
      "   ...#  \n",
      "   .##   \n",
      " ...#    \n",
      " .###    \n",
      " .#..D   \n",
      " .#.     \n",
      " ...     \n",
      "dir? n\n",
      "     ### \n",
      "    #...#\n",
      "   ##.#.#\n",
      "  #...#.#\n",
      "  #. ##.#\n",
      "  #.#...#\n",
      "  #.#.## \n",
      "  #. .#  \n",
      " ##. .#  \n",
      "#... .#  \n",
      "#.   .#  \n",
      "#.   .#  \n",
      "#.###.#  \n",
      "#.. #.#  \n",
      " ## #.#  \n",
      "   ...#  \n",
      "   .##   \n",
      " ...#    \n",
      " .####   \n",
      " .#..D   \n",
      " .#.     \n",
      " ...     \n",
      "dir? e\n",
      "     ### \n",
      "    #...#\n",
      "   ##.#.#\n",
      "  #...#.#\n",
      "  #. ##.#\n",
      "  #.#...#\n",
      "  #.#.## \n",
      "  #. .#  \n",
      " ##. .#  \n",
      "#... .#  \n",
      "#.   .#  \n",
      "#.   .#  \n",
      "#.###.#  \n",
      "#.. #.#  \n",
      " ## #.#  \n",
      "   ...#  \n",
      "   .##   \n",
      " ...#    \n",
      " .####   \n",
      " .#...D  \n",
      " .#.     \n",
      " ...     \n",
      "dir? n\n",
      "     ### \n",
      "    #...#\n",
      "   ##.#.#\n",
      "  #...#.#\n",
      "  #. ##.#\n",
      "  #.#...#\n",
      "  #.#.## \n",
      "  #. .#  \n",
      " ##. .#  \n",
      "#... .#  \n",
      "#.   .#  \n",
      "#.   .#  \n",
      "#.###.#  \n",
      "#.. #.#  \n",
      " ## #.#  \n",
      "   ...#  \n",
      "   .##   \n",
      " ...#    \n",
      " .#####  \n",
      " .#...D  \n",
      " .#.     \n",
      " ...     \n",
      "dir? e\n",
      "     ### \n",
      "    #...#\n",
      "   ##.#.#\n",
      "  #...#.#\n",
      "  #. ##.#\n",
      "  #.#...#\n",
      "  #.#.## \n",
      "  #. .#  \n",
      " ##. .#  \n",
      "#... .#  \n",
      "#.   .#  \n",
      "#.   .#  \n",
      "#.###.#  \n",
      "#.. #.#  \n",
      " ## #.#  \n",
      "   ...#  \n",
      "   .##   \n",
      " ...#    \n",
      " .#####  \n",
      " .#....D \n",
      " .#.     \n",
      " ...     \n",
      "dir? n\n",
      "     ### \n",
      "    #...#\n",
      "   ##.#.#\n",
      "  #...#.#\n",
      "  #. ##.#\n",
      "  #.#...#\n",
      "  #.#.## \n",
      "  #. .#  \n",
      " ##. .#  \n",
      "#... .#  \n",
      "#.   .#  \n",
      "#.   .#  \n",
      "#.###.#  \n",
      "#.. #.#  \n",
      " ## #.#  \n",
      "   ...#  \n",
      "   .##   \n",
      " ...#    \n",
      " .#####D \n",
      " .#..... \n",
      " .#.     \n",
      " ...     \n",
      "dir? n\n",
      "     ### \n",
      "    #...#\n",
      "   ##.#.#\n",
      "  #...#.#\n",
      "  #. ##.#\n",
      "  #.#...#\n",
      "  #.#.## \n",
      "  #. .#  \n",
      " ##. .#  \n",
      "#... .#  \n",
      "#.   .#  \n",
      "#.   .#  \n",
      "#.###.#  \n",
      "#.. #.#  \n",
      " ## #.#  \n",
      "   ...#  \n",
      "   .##   \n",
      " ...#  D \n",
      " .#####. \n",
      " .#..... \n",
      " .#.     \n",
      " ...     \n",
      "dir? w\n",
      "     ### \n",
      "    #...#\n",
      "   ##.#.#\n",
      "  #...#.#\n",
      "  #. ##.#\n",
      "  #.#...#\n",
      "  #.#.## \n",
      "  #. .#  \n",
      " ##. .#  \n",
      "#... .#  \n",
      "#.   .#  \n",
      "#.   .#  \n",
      "#.###.#  \n",
      "#.. #.#  \n",
      " ## #.#  \n",
      "   ...#  \n",
      "   .##   \n",
      " ...# D. \n",
      " .#####. \n",
      " .#..... \n",
      " .#.     \n",
      " ...     \n",
      "dir? w\n",
      "     ### \n",
      "    #...#\n",
      "   ##.#.#\n",
      "  #...#.#\n",
      "  #. ##.#\n",
      "  #.#...#\n",
      "  #.#.## \n",
      "  #. .#  \n",
      " ##. .#  \n",
      "#... .#  \n",
      "#.   .#  \n",
      "#.   .#  \n",
      "#.###.#  \n",
      "#.. #.#  \n",
      " ## #.#  \n",
      "   ...#  \n",
      "   .##   \n",
      " ...#D.. \n",
      " .#####. \n",
      " .#..... \n",
      " .#.     \n",
      " ...     \n",
      "dir? e\n",
      "     ### \n",
      "    #...#\n",
      "   ##.#.#\n",
      "  #...#.#\n",
      "  #. ##.#\n",
      "  #.#...#\n",
      "  #.#.## \n",
      "  #. .#  \n",
      " ##. .#  \n",
      "#... .#  \n",
      "#.   .#  \n",
      "#.   .#  \n",
      "#.###.#  \n",
      "#.. #.#  \n",
      " ## #.#  \n",
      "   ...#  \n",
      "   .##   \n",
      " ...#.D. \n",
      " .#####. \n",
      " .#..... \n",
      " .#.     \n",
      " ...     \n",
      "dir? n\n",
      "     ### \n",
      "    #...#\n",
      "   ##.#.#\n",
      "  #...#.#\n",
      "  #. ##.#\n",
      "  #.#...#\n",
      "  #.#.## \n",
      "  #. .#  \n",
      " ##. .#  \n",
      "#... .#  \n",
      "#.   .#  \n",
      "#.   .#  \n",
      "#.###.#  \n",
      "#.. #.#  \n",
      " ## #.#  \n",
      "   ...#  \n",
      "   .###  \n",
      " ...#.D. \n",
      " .#####. \n",
      " .#..... \n",
      " .#.     \n",
      " ...     \n",
      "dir? e\n",
      "     ### \n",
      "    #...#\n",
      "   ##.#.#\n",
      "  #...#.#\n",
      "  #. ##.#\n",
      "  #.#...#\n",
      "  #.#.## \n",
      "  #. .#  \n",
      " ##. .#  \n",
      "#... .#  \n",
      "#.   .#  \n",
      "#.   .#  \n",
      "#.###.#  \n",
      "#.. #.#  \n",
      " ## #.#  \n",
      "   ...#  \n",
      "   .###  \n",
      " ...#..D \n",
      " .#####. \n",
      " .#..... \n",
      " .#.     \n",
      " ...     \n",
      "dir? n\n",
      "     ### \n",
      "    #...#\n",
      "   ##.#.#\n",
      "  #...#.#\n",
      "  #. ##.#\n",
      "  #.#...#\n",
      "  #.#.## \n",
      "  #. .#  \n",
      " ##. .#  \n",
      "#... .#  \n",
      "#.   .#  \n",
      "#.   .#  \n",
      "#.###.#  \n",
      "#.. #.#  \n",
      " ## #.#  \n",
      "   ...#  \n",
      "   .###D \n",
      " ...#... \n",
      " .#####. \n",
      " .#..... \n",
      " .#.     \n",
      " ...     \n",
      "dir? n\n",
      "     ### \n",
      "    #...#\n",
      "   ##.#.#\n",
      "  #...#.#\n",
      "  #. ##.#\n",
      "  #.#...#\n",
      "  #.#.## \n",
      "  #. .#  \n",
      " ##. .#  \n",
      "#... .#  \n",
      "#.   .#  \n",
      "#.   .#  \n",
      "#.###.#  \n",
      "#.. #.#  \n",
      " ## #.#  \n",
      "   ...#D \n",
      "   .###. \n",
      " ...#... \n",
      " .#####. \n",
      " .#..... \n",
      " .#.     \n",
      " ...     \n",
      "dir? n\n",
      "     ### \n",
      "    #...#\n",
      "   ##.#.#\n",
      "  #...#.#\n",
      "  #. ##.#\n",
      "  #.#...#\n",
      "  #.#.## \n",
      "  #. .#  \n",
      " ##. .#  \n",
      "#... .#  \n",
      "#.   .#  \n",
      "#.   .#  \n",
      "#.###.#  \n",
      "#.. #.#  \n",
      " ## #.## \n",
      "   ...#D \n",
      "   .###. \n",
      " ...#... \n",
      " .#####. \n",
      " .#..... \n",
      " .#.     \n",
      " ...     \n",
      "dir? e\n",
      "     ### \n",
      "    #...#\n",
      "   ##.#.#\n",
      "  #...#.#\n",
      "  #. ##.#\n",
      "  #.#...#\n",
      "  #.#.## \n",
      "  #. .#  \n",
      " ##. .#  \n",
      "#... .#  \n",
      "#.   .#  \n",
      "#.   .#  \n",
      "#.###.#  \n",
      "#.. #.#  \n",
      " ## #.## \n",
      "   ...#.D\n",
      "   .###. \n",
      " ...#... \n",
      " .#####. \n",
      " .#..... \n",
      " .#.     \n",
      " ...     \n",
      "dir? n\n",
      "     ### \n",
      "    #...#\n",
      "   ##.#.#\n",
      "  #...#.#\n",
      "  #. ##.#\n",
      "  #.#...#\n",
      "  #.#.## \n",
      "  #. .#  \n",
      " ##. .#  \n",
      "#... .#  \n",
      "#.   .#  \n",
      "#.   .#  \n",
      "#.###.#  \n",
      "#.. #.#  \n",
      " ## #.###\n",
      "   ...#.D\n",
      "   .###. \n",
      " ...#... \n",
      " .#####. \n",
      " .#..... \n",
      " .#.     \n",
      " ...     \n"
     ]
    },
    {
     "name": "stdout",
     "output_type": "stream",
     "text": [
      "dir? e\n",
      "     ###  \n",
      "    #...# \n",
      "   ##.#.# \n",
      "  #...#.# \n",
      "  #. ##.# \n",
      "  #.#...# \n",
      "  #.#.##  \n",
      "  #. .#   \n",
      " ##. .#   \n",
      "#... .#   \n",
      "#.   .#   \n",
      "#.   .#   \n",
      "#.###.#   \n",
      "#.. #.#   \n",
      " ## #.### \n",
      "   ...#..D\n",
      "   .###.  \n",
      " ...#...  \n",
      " .#####.  \n",
      " .#.....  \n",
      " .#.      \n",
      " ...      \n",
      "dir? n\n",
      "     ###  \n",
      "    #...# \n",
      "   ##.#.# \n",
      "  #...#.# \n",
      "  #. ##.# \n",
      "  #.#...# \n",
      "  #.#.##  \n",
      "  #. .#   \n",
      " ##. .#   \n",
      "#... .#   \n",
      "#.   .#   \n",
      "#.   .#   \n",
      "#.###.#   \n",
      "#.. #.#   \n",
      " ## #.####\n",
      "   ...#..D\n",
      "   .###.  \n",
      " ...#...  \n",
      " .#####.  \n",
      " .#.....  \n",
      " .#.      \n",
      " ...      \n",
      "dir? e\n",
      "     ###   \n",
      "    #...#  \n",
      "   ##.#.#  \n",
      "  #...#.#  \n",
      "  #. ##.#  \n",
      "  #.#...#  \n",
      "  #.#.##   \n",
      "  #. .#    \n",
      " ##. .#    \n",
      "#... .#    \n",
      "#.   .#    \n",
      "#.   .#    \n",
      "#.###.#    \n",
      "#.. #.#    \n",
      " ## #.#### \n",
      "   ...#...D\n",
      "   .###.   \n",
      " ...#...   \n",
      " .#####.   \n",
      " .#.....   \n",
      " .#.       \n",
      " ...       \n",
      "dir? n\n",
      "     ###   \n",
      "    #...#  \n",
      "   ##.#.#  \n",
      "  #...#.#  \n",
      "  #. ##.#  \n",
      "  #.#...#  \n",
      "  #.#.##   \n",
      "  #. .#    \n",
      " ##. .#    \n",
      "#... .#    \n",
      "#.   .#    \n",
      "#.   .#    \n",
      "#.###.#    \n",
      "#.. #.#    \n",
      " ## #.#####\n",
      "   ...#...D\n",
      "   .###.   \n",
      " ...#...   \n",
      " .#####.   \n",
      " .#.....   \n",
      " .#.       \n",
      " ...       \n",
      "dir? e\n",
      "     ###    \n",
      "    #...#   \n",
      "   ##.#.#   \n",
      "  #...#.#   \n",
      "  #. ##.#   \n",
      "  #.#...#   \n",
      "  #.#.##    \n",
      "  #. .#     \n",
      " ##. .#     \n",
      "#... .#     \n",
      "#.   .#     \n",
      "#.   .#     \n",
      "#.###.#     \n",
      "#.. #.#     \n",
      " ## #.##### \n",
      "   ...#....D\n",
      "   .###.    \n",
      " ...#...    \n",
      " .#####.    \n",
      " .#.....    \n",
      " .#.        \n",
      " ...        \n",
      "dir? n\n",
      "     ###    \n",
      "    #...#   \n",
      "   ##.#.#   \n",
      "  #...#.#   \n",
      "  #. ##.#   \n",
      "  #.#...#   \n",
      "  #.#.##    \n",
      "  #. .#     \n",
      " ##. .#     \n",
      "#... .#     \n",
      "#.   .#     \n",
      "#.   .#     \n",
      "#.###.#     \n",
      "#.. #.#     \n",
      " ## #.######\n",
      "   ...#....D\n",
      "   .###.    \n",
      " ...#...    \n",
      " .#####.    \n",
      " .#.....    \n",
      " .#.        \n",
      " ...        \n",
      "dir? e\n",
      "     ###     \n",
      "    #...#    \n",
      "   ##.#.#    \n",
      "  #...#.#    \n",
      "  #. ##.#    \n",
      "  #.#...#    \n",
      "  #.#.##     \n",
      "  #. .#      \n",
      " ##. .#      \n",
      "#... .#      \n",
      "#.   .#      \n",
      "#.   .#      \n",
      "#.###.#      \n",
      "#.. #.#      \n",
      " ## #.###### \n",
      "   ...#.....D\n",
      "   .###.     \n",
      " ...#...     \n",
      " .#####.     \n",
      " .#.....     \n",
      " .#.         \n",
      " ...         \n",
      "dir? n\n",
      "     ###     \n",
      "    #...#    \n",
      "   ##.#.#    \n",
      "  #...#.#    \n",
      "  #. ##.#    \n",
      "  #.#...#    \n",
      "  #.#.##     \n",
      "  #. .#      \n",
      " ##. .#      \n",
      "#... .#      \n",
      "#.   .#      \n",
      "#.   .#      \n",
      "#.###.#      \n",
      "#.. #.#      \n",
      " ## #.#######\n",
      "   ...#.....D\n",
      "   .###.     \n",
      " ...#...     \n",
      " .#####.     \n",
      " .#.....     \n",
      " .#.         \n",
      " ...         \n",
      "dir? e\n",
      "     ###      \n",
      "    #...#     \n",
      "   ##.#.#     \n",
      "  #...#.#     \n",
      "  #. ##.#     \n",
      "  #.#...#     \n",
      "  #.#.##      \n",
      "  #. .#       \n",
      " ##. .#       \n",
      "#... .#       \n",
      "#.   .#       \n",
      "#.   .#       \n",
      "#.###.#       \n",
      "#.. #.#       \n",
      " ## #.####### \n",
      "   ...#......D\n",
      "   .###.      \n",
      " ...#...      \n",
      " .#####.      \n",
      " .#.....      \n",
      " .#.          \n",
      " ...          \n",
      "dir? n\n",
      "     ###      \n",
      "    #...#     \n",
      "   ##.#.#     \n",
      "  #...#.#     \n",
      "  #. ##.#     \n",
      "  #.#...#     \n",
      "  #.#.##      \n",
      "  #. .#       \n",
      " ##. .#       \n",
      "#... .#       \n",
      "#.   .#       \n",
      "#.   .#       \n",
      "#.###.#       \n",
      "#.. #.#       \n",
      " ## #.########\n",
      "   ...#......D\n",
      "   .###.      \n",
      " ...#...      \n",
      " .#####.      \n",
      " .#.....      \n",
      " .#.          \n",
      " ...          \n",
      "dir? e\n",
      "     ###       \n",
      "    #...#      \n",
      "   ##.#.#      \n",
      "  #...#.#      \n",
      "  #. ##.#      \n",
      "  #.#...#      \n",
      "  #.#.##       \n",
      "  #. .#        \n",
      " ##. .#        \n",
      "#... .#        \n",
      "#.   .#        \n",
      "#.   .#        \n",
      "#.###.#        \n",
      "#.. #.#        \n",
      " ## #.######## \n",
      "   ...#.......D\n",
      "   .###.       \n",
      " ...#...       \n",
      " .#####.       \n",
      " .#.....       \n",
      " .#.           \n",
      " ...           \n",
      "dir? n\n",
      "     ###       \n",
      "    #...#      \n",
      "   ##.#.#      \n",
      "  #...#.#      \n",
      "  #. ##.#      \n",
      "  #.#...#      \n",
      "  #.#.##       \n",
      "  #. .#        \n",
      " ##. .#        \n",
      "#... .#        \n",
      "#.   .#        \n",
      "#.   .#        \n",
      "#.###.#        \n",
      "#.. #.#        \n",
      " ## #.#########\n",
      "   ...#.......D\n",
      "   .###.       \n",
      " ...#...       \n",
      " .#####.       \n",
      " .#.....       \n",
      " .#.           \n",
      " ...           \n",
      "dir? e\n",
      "     ###        \n",
      "    #...#       \n",
      "   ##.#.#       \n",
      "  #...#.#       \n",
      "  #. ##.#       \n",
      "  #.#...#       \n",
      "  #.#.##        \n",
      "  #. .#         \n",
      " ##. .#         \n",
      "#... .#         \n",
      "#.   .#         \n",
      "#.   .#         \n",
      "#.###.#         \n",
      "#.. #.#         \n",
      " ## #.######### \n",
      "   ...#........D\n",
      "   .###.        \n",
      " ...#...        \n",
      " .#####.        \n",
      " .#.....        \n",
      " .#.            \n",
      " ...            \n",
      "dir? n\n",
      "     ###        \n",
      "    #...#       \n",
      "   ##.#.#       \n",
      "  #...#.#       \n",
      "  #. ##.#       \n",
      "  #.#...#       \n",
      "  #.#.##        \n",
      "  #. .#         \n",
      " ##. .#         \n",
      "#... .#         \n",
      "#.   .#         \n",
      "#.   .#         \n",
      "#.###.#         \n",
      "#.. #.#         \n",
      " ## #.#########D\n",
      "   ...#.........\n",
      "   .###.        \n",
      " ...#...        \n",
      " .#####.        \n",
      " .#.....        \n",
      " .#.            \n",
      " ...            \n",
      "dir? n\n",
      "     ###        \n",
      "    #...#       \n",
      "   ##.#.#       \n",
      "  #...#.#       \n",
      "  #. ##.#       \n",
      "  #.#...#       \n",
      "  #.#.##        \n",
      "  #. .#         \n",
      " ##. .#         \n",
      "#... .#         \n",
      "#.   .#         \n",
      "#.   .#         \n",
      "#.###.#         \n",
      "#.. #.#        D\n",
      " ## #.#########.\n",
      "   ...#.........\n",
      "   .###.        \n",
      " ...#...        \n",
      " .#####.        \n",
      " .#.....        \n",
      " .#.            \n",
      " ...            \n",
      "dir? w\n",
      "     ###        \n",
      "    #...#       \n",
      "   ##.#.#       \n",
      "  #...#.#       \n",
      "  #. ##.#       \n",
      "  #.#...#       \n",
      "  #.#.##        \n",
      "  #. .#         \n",
      " ##. .#         \n",
      "#... .#         \n",
      "#.   .#         \n",
      "#.   .#         \n",
      "#.###.#         \n",
      "#.. #.#       #D\n",
      " ## #.#########.\n",
      "   ...#.........\n",
      "   .###.        \n",
      " ...#...        \n",
      " .#####.        \n",
      " .#.....        \n",
      " .#.            \n",
      " ...            \n",
      "dir? n\n",
      "     ###        \n",
      "    #...#       \n",
      "   ##.#.#       \n",
      "  #...#.#       \n",
      "  #. ##.#       \n",
      "  #.#...#       \n",
      "  #.#.##        \n",
      "  #. .#         \n",
      " ##. .#         \n",
      "#... .#         \n",
      "#.   .#         \n",
      "#.   .#         \n",
      "#.###.#        #\n",
      "#.. #.#       #D\n",
      " ## #.#########.\n",
      "   ...#.........\n",
      "   .###.        \n",
      " ...#...        \n",
      " .#####.        \n",
      " .#.....        \n",
      " .#.            \n",
      " ...            \n",
      "dir? r\n",
      "oops\n",
      "dir? e\n",
      "     ###         \n",
      "    #...#        \n",
      "   ##.#.#        \n",
      "  #...#.#        \n",
      "  #. ##.#        \n",
      "  #.#...#        \n",
      "  #.#.##         \n",
      "  #. .#          \n",
      " ##. .#          \n",
      "#... .#          \n",
      "#.   .#          \n",
      "#.   .#          \n",
      "#.###.#        # \n",
      "#.. #.#       #.D\n",
      " ## #.#########. \n",
      "   ...#......... \n",
      "   .###.         \n",
      " ...#...         \n",
      " .#####.         \n",
      " .#.....         \n",
      " .#.             \n",
      " ...             \n",
      "dir? n\n",
      "     ###         \n",
      "    #...#        \n",
      "   ##.#.#        \n",
      "  #...#.#        \n",
      "  #. ##.#        \n",
      "  #.#...#        \n",
      "  #.#.##         \n",
      "  #. .#          \n",
      " ##. .#          \n",
      "#... .#          \n",
      "#.   .#          \n",
      "#.   .#          \n",
      "#.###.#        ##\n",
      "#.. #.#       #.D\n",
      " ## #.#########. \n",
      "   ...#......... \n",
      "   .###.         \n",
      " ...#...         \n",
      " .#####.         \n",
      " .#.....         \n",
      " .#.             \n",
      " ...             \n",
      "dir? e\n",
      "     ###          \n",
      "    #...#         \n",
      "   ##.#.#         \n",
      "  #...#.#         \n",
      "  #. ##.#         \n",
      "  #.#...#         \n",
      "  #.#.##          \n",
      "  #. .#           \n",
      " ##. .#           \n",
      "#... .#           \n",
      "#.   .#           \n",
      "#.   .#           \n",
      "#.###.#        ## \n",
      "#.. #.#       #..D\n",
      " ## #.#########.  \n",
      "   ...#.........  \n",
      "   .###.          \n",
      " ...#...          \n",
      " .#####.          \n",
      " .#.....          \n",
      " .#.              \n",
      " ...              \n",
      "dir? n\n",
      "     ###          \n",
      "    #...#         \n",
      "   ##.#.#         \n",
      "  #...#.#         \n",
      "  #. ##.#         \n",
      "  #.#...#         \n",
      "  #.#.##          \n",
      "  #. .#           \n",
      " ##. .#           \n",
      "#... .#           \n",
      "#.   .#           \n",
      "#.   .#           \n",
      "#.###.#        ###\n",
      "#.. #.#       #..D\n",
      " ## #.#########.  \n",
      "   ...#.........  \n",
      "   .###.          \n",
      " ...#...          \n",
      " .#####.          \n",
      " .#.....          \n",
      " .#.              \n",
      " ...              \n",
      "dir? n\n",
      "     ###          \n",
      "    #...#         \n",
      "   ##.#.#         \n",
      "  #...#.#         \n",
      "  #. ##.#         \n",
      "  #.#...#         \n",
      "  #.#.##          \n",
      "  #. .#           \n",
      " ##. .#           \n",
      "#... .#           \n",
      "#.   .#           \n",
      "#.   .#           \n",
      "#.###.#        ###\n",
      "#.. #.#       #..D\n",
      " ## #.#########.  \n",
      "   ...#.........  \n",
      "   .###.          \n",
      " ...#...          \n",
      " .#####.          \n",
      " .#.....          \n",
      " .#.              \n",
      " ...              \n",
      "dir? e\n",
      "     ###           \n",
      "    #...#          \n",
      "   ##.#.#          \n",
      "  #...#.#          \n",
      "  #. ##.#          \n",
      "  #.#...#          \n",
      "  #.#.##           \n",
      "  #. .#            \n",
      " ##. .#            \n",
      "#... .#            \n",
      "#.   .#            \n",
      "#.   .#            \n",
      "#.###.#        ### \n",
      "#.. #.#       #...D\n",
      " ## #.#########.   \n",
      "   ...#.........   \n",
      "   .###.           \n",
      " ...#...           \n",
      " .#####.           \n",
      " .#.....           \n",
      " .#.               \n",
      " ...               \n",
      "dir? n\n",
      "     ###           \n",
      "    #...#          \n",
      "   ##.#.#          \n",
      "  #...#.#          \n",
      "  #. ##.#          \n",
      "  #.#...#          \n",
      "  #.#.##           \n",
      "  #. .#            \n",
      " ##. .#            \n",
      "#... .#            \n",
      "#.   .#            \n",
      "#.   .#            \n",
      "#.###.#        ####\n",
      "#.. #.#       #...D\n",
      " ## #.#########.   \n",
      "   ...#.........   \n",
      "   .###.           \n",
      " ...#...           \n",
      " .#####.           \n",
      " .#.....           \n",
      " .#.               \n",
      " ...               \n"
     ]
    },
    {
     "name": "stdout",
     "output_type": "stream",
     "text": [
      "dir? e\n",
      "     ###            \n",
      "    #...#           \n",
      "   ##.#.#           \n",
      "  #...#.#           \n",
      "  #. ##.#           \n",
      "  #.#...#           \n",
      "  #.#.##            \n",
      "  #. .#             \n",
      " ##. .#             \n",
      "#... .#             \n",
      "#.   .#             \n",
      "#.   .#             \n",
      "#.###.#        #### \n",
      "#.. #.#       #....D\n",
      " ## #.#########.    \n",
      "   ...#.........    \n",
      "   .###.            \n",
      " ...#...            \n",
      " .#####.            \n",
      " .#.....            \n",
      " .#.                \n",
      " ...                \n",
      "dir? n\n",
      "     ###            \n",
      "    #...#           \n",
      "   ##.#.#           \n",
      "  #...#.#           \n",
      "  #. ##.#           \n",
      "  #.#...#           \n",
      "  #.#.##            \n",
      "  #. .#             \n",
      " ##. .#             \n",
      "#... .#             \n",
      "#.   .#             \n",
      "#.   .#             \n",
      "#.###.#        #####\n",
      "#.. #.#       #....D\n",
      " ## #.#########.    \n",
      "   ...#.........    \n",
      "   .###.            \n",
      " ...#...            \n",
      " .#####.            \n",
      " .#.....            \n",
      " .#.                \n",
      " ...                \n",
      "dir? e\n",
      "     ###             \n",
      "    #...#            \n",
      "   ##.#.#            \n",
      "  #...#.#            \n",
      "  #. ##.#            \n",
      "  #.#...#            \n",
      "  #.#.##             \n",
      "  #. .#              \n",
      " ##. .#              \n",
      "#... .#              \n",
      "#.   .#              \n",
      "#.   .#              \n",
      "#.###.#        ##### \n",
      "#.. #.#       #.....D\n",
      " ## #.#########.     \n",
      "   ...#.........     \n",
      "   .###.             \n",
      " ...#...             \n",
      " .#####.             \n",
      " .#.....             \n",
      " .#.                 \n",
      " ...                 \n",
      "dir? n\n",
      "     ###             \n",
      "    #...#            \n",
      "   ##.#.#            \n",
      "  #...#.#            \n",
      "  #. ##.#            \n",
      "  #.#...#            \n",
      "  #.#.##             \n",
      "  #. .#              \n",
      " ##. .#              \n",
      "#... .#              \n",
      "#.   .#              \n",
      "#.   .#              \n",
      "#.###.#        ######\n",
      "#.. #.#       #.....D\n",
      " ## #.#########.     \n",
      "   ...#.........     \n",
      "   .###.             \n",
      " ...#...             \n",
      " .#####.             \n",
      " .#.....             \n",
      " .#.                 \n",
      " ...                 \n",
      "dir? e\n",
      "     ###              \n",
      "    #...#             \n",
      "   ##.#.#             \n",
      "  #...#.#             \n",
      "  #. ##.#             \n",
      "  #.#...#             \n",
      "  #.#.##              \n",
      "  #. .#               \n",
      " ##. .#               \n",
      "#... .#               \n",
      "#.   .#               \n",
      "#.   .#               \n",
      "#.###.#        ###### \n",
      "#.. #.#       #......D\n",
      " ## #.#########.      \n",
      "   ...#.........      \n",
      "   .###.              \n",
      " ...#...              \n",
      " .#####.              \n",
      " .#.....              \n",
      " .#.                  \n",
      " ...                  \n",
      "dir? n\n",
      "     ###              \n",
      "    #...#             \n",
      "   ##.#.#             \n",
      "  #...#.#             \n",
      "  #. ##.#             \n",
      "  #.#...#             \n",
      "  #.#.##              \n",
      "  #. .#               \n",
      " ##. .#               \n",
      "#... .#               \n",
      "#.   .#               \n",
      "#.   .#               \n",
      "#.###.#        ######D\n",
      "#.. #.#       #.......\n",
      " ## #.#########.      \n",
      "   ...#.........      \n",
      "   .###.              \n",
      " ...#...              \n",
      " .#####.              \n",
      " .#.....              \n",
      " .#.                  \n",
      " ...                  \n",
      "dir? n\n",
      "     ###              \n",
      "    #...#             \n",
      "   ##.#.#             \n",
      "  #...#.#             \n",
      "  #. ##.#             \n",
      "  #.#...#             \n",
      "  #.#.##              \n",
      "  #. .#               \n",
      " ##. .#               \n",
      "#... .#               \n",
      "#.   .#               \n",
      "#.   .#              D\n",
      "#.###.#        ######.\n",
      "#.. #.#       #.......\n",
      " ## #.#########.      \n",
      "   ...#.........      \n",
      "   .###.              \n",
      " ...#...              \n",
      " .#####.              \n",
      " .#.....              \n",
      " .#.                  \n",
      " ...                  \n",
      "dir? w\n",
      "     ###              \n",
      "    #...#             \n",
      "   ##.#.#             \n",
      "  #...#.#             \n",
      "  #. ##.#             \n",
      "  #.#...#             \n",
      "  #.#.##              \n",
      "  #. .#               \n",
      " ##. .#               \n",
      "#... .#               \n",
      "#.   .#               \n",
      "#.   .#             D.\n",
      "#.###.#        ######.\n",
      "#.. #.#       #.......\n",
      " ## #.#########.      \n",
      "   ...#.........      \n",
      "   .###.              \n",
      " ...#...              \n",
      " .#####.              \n",
      " .#.....              \n",
      " .#.                  \n",
      " ...                  \n",
      "dir? w\n",
      "     ###              \n",
      "    #...#             \n",
      "   ##.#.#             \n",
      "  #...#.#             \n",
      "  #. ##.#             \n",
      "  #.#...#             \n",
      "  #.#.##              \n",
      "  #. .#               \n",
      " ##. .#               \n",
      "#... .#               \n",
      "#.   .#               \n",
      "#.   .#            D..\n",
      "#.###.#        ######.\n",
      "#.. #.#       #.......\n",
      " ## #.#########.      \n",
      "   ...#.........      \n",
      "   .###.              \n",
      " ...#...              \n",
      " .#####.              \n",
      " .#.....              \n",
      " .#.                  \n",
      " ...                  \n",
      "dir? w\n",
      "     ###              \n",
      "    #...#             \n",
      "   ##.#.#             \n",
      "  #...#.#             \n",
      "  #. ##.#             \n",
      "  #.#...#             \n",
      "  #.#.##              \n",
      "  #. .#               \n",
      " ##. .#               \n",
      "#... .#               \n",
      "#.   .#               \n",
      "#.   .#           #D..\n",
      "#.###.#        ######.\n",
      "#.. #.#       #.......\n",
      " ## #.#########.      \n",
      "   ...#.........      \n",
      "   .###.              \n",
      " ...#...              \n",
      " .#####.              \n",
      " .#.....              \n",
      " .#.                  \n",
      " ...                  \n",
      "dir? n\n",
      "     ###              \n",
      "    #...#             \n",
      "   ##.#.#             \n",
      "  #...#.#             \n",
      "  #. ##.#             \n",
      "  #.#...#             \n",
      "  #.#.##              \n",
      "  #. .#               \n",
      " ##. .#               \n",
      "#... .#               \n",
      "#.   .#            D  \n",
      "#.   .#           #...\n",
      "#.###.#        ######.\n",
      "#.. #.#       #.......\n",
      " ## #.#########.      \n",
      "   ...#.........      \n",
      "   .###.              \n",
      " ...#...              \n",
      " .#####.              \n",
      " .#.....              \n",
      " .#.                  \n",
      " ...                  \n",
      "dir? w\n",
      "     ###              \n",
      "    #...#             \n",
      "   ##.#.#             \n",
      "  #...#.#             \n",
      "  #. ##.#             \n",
      "  #.#...#             \n",
      "  #.#.##              \n",
      "  #. .#               \n",
      " ##. .#               \n",
      "#... .#               \n",
      "#.   .#           #D  \n",
      "#.   .#           #...\n",
      "#.###.#        ######.\n",
      "#.. #.#       #.......\n",
      " ## #.#########.      \n",
      "   ...#.........      \n",
      "   .###.              \n",
      " ...#...              \n",
      " .#####.              \n",
      " .#.....              \n",
      " .#.                  \n",
      " ...                  \n",
      "dir? n\n",
      "     ###              \n",
      "    #...#             \n",
      "   ##.#.#             \n",
      "  #...#.#             \n",
      "  #. ##.#             \n",
      "  #.#...#             \n",
      "  #.#.##              \n",
      "  #. .#               \n",
      " ##. .#               \n",
      "#... .#            D  \n",
      "#.   .#           #.  \n",
      "#.   .#           #...\n",
      "#.###.#        ######.\n",
      "#.. #.#       #.......\n",
      " ## #.#########.      \n",
      "   ...#.........      \n",
      "   .###.              \n",
      " ...#...              \n",
      " .#####.              \n",
      " .#.....              \n",
      " .#.                  \n",
      " ...                  \n",
      "dir? w\n",
      "     ###              \n",
      "    #...#             \n",
      "   ##.#.#             \n",
      "  #...#.#             \n",
      "  #. ##.#             \n",
      "  #.#...#             \n",
      "  #.#.##              \n",
      "  #. .#               \n",
      " ##. .#               \n",
      "#... .#           #D  \n",
      "#.   .#           #.  \n",
      "#.   .#           #...\n",
      "#.###.#        ######.\n",
      "#.. #.#       #.......\n",
      " ## #.#########.      \n",
      "   ...#.........      \n",
      "   .###.              \n",
      " ...#...              \n",
      " .#####.              \n",
      " .#.....              \n",
      " .#.                  \n",
      " ...                  \n",
      "dir? n\n",
      "     ###              \n",
      "    #...#             \n",
      "   ##.#.#             \n",
      "  #...#.#             \n",
      "  #. ##.#             \n",
      "  #.#...#             \n",
      "  #.#.##              \n",
      "  #. .#               \n",
      " ##. .#            #  \n",
      "#... .#           #D  \n",
      "#.   .#           #.  \n",
      "#.   .#           #...\n",
      "#.###.#        ######.\n",
      "#.. #.#       #.......\n",
      " ## #.#########.      \n",
      "   ...#.........      \n",
      "   .###.              \n",
      " ...#...              \n",
      " .#####.              \n",
      " .#.....              \n",
      " .#.                  \n",
      " ...                  \n",
      "dir? e\n",
      "     ###              \n",
      "    #...#             \n",
      "   ##.#.#             \n",
      "  #...#.#             \n",
      "  #. ##.#             \n",
      "  #.#...#             \n",
      "  #.#.##              \n",
      "  #. .#               \n",
      " ##. .#            #  \n",
      "#... .#           #.D \n",
      "#.   .#           #.  \n",
      "#.   .#           #...\n",
      "#.###.#        ######.\n",
      "#.. #.#       #.......\n",
      " ## #.#########.      \n",
      "   ...#.........      \n",
      "   .###.              \n",
      " ...#...              \n",
      " .#####.              \n",
      " .#.....              \n",
      " .#.                  \n",
      " ...                  \n",
      "dir? n\n",
      "     ###              \n",
      "    #...#             \n",
      "   ##.#.#             \n",
      "  #...#.#             \n",
      "  #. ##.#             \n",
      "  #.#...#             \n",
      "  #.#.##              \n",
      "  #. .#               \n",
      " ##. .#            ## \n",
      "#... .#           #.D \n",
      "#.   .#           #.  \n",
      "#.   .#           #...\n",
      "#.###.#        ######.\n",
      "#.. #.#       #.......\n",
      " ## #.#########.      \n",
      "   ...#.........      \n",
      "   .###.              \n",
      " ...#...              \n",
      " .#####.              \n",
      " .#.....              \n",
      " .#.                  \n",
      " ...                  \n"
     ]
    },
    {
     "name": "stdout",
     "output_type": "stream",
     "text": [
      "dir? e\n",
      "     ###              \n",
      "    #...#             \n",
      "   ##.#.#             \n",
      "  #...#.#             \n",
      "  #. ##.#             \n",
      "  #.#...#             \n",
      "  #.#.##              \n",
      "  #. .#               \n",
      " ##. .#            ## \n",
      "#... .#           #..D\n",
      "#.   .#           #.  \n",
      "#.   .#           #...\n",
      "#.###.#        ######.\n",
      "#.. #.#       #.......\n",
      " ## #.#########.      \n",
      "   ...#.........      \n",
      "   .###.              \n",
      " ...#...              \n",
      " .#####.              \n",
      " .#.....              \n",
      " .#.                  \n",
      " ...                  \n",
      "dir? n\n",
      "     ###              \n",
      "    #...#             \n",
      "   ##.#.#             \n",
      "  #...#.#             \n",
      "  #. ##.#             \n",
      "  #.#...#             \n",
      "  #.#.##              \n",
      "  #. .#               \n",
      " ##. .#            ##D\n",
      "#... .#           #...\n",
      "#.   .#           #.  \n",
      "#.   .#           #...\n",
      "#.###.#        ######.\n",
      "#.. #.#       #.......\n",
      " ## #.#########.      \n",
      "   ...#.........      \n",
      "   .###.              \n",
      " ...#...              \n",
      " .#####.              \n",
      " .#.....              \n",
      " .#.                  \n",
      " ...                  \n",
      "dir? n\n",
      "     ###              \n",
      "    #...#             \n",
      "   ##.#.#             \n",
      "  #...#.#             \n",
      "  #. ##.#             \n",
      "  #.#...#             \n",
      "  #.#.##              \n",
      "  #. .#              D\n",
      " ##. .#            ##.\n",
      "#... .#           #...\n",
      "#.   .#           #.  \n",
      "#.   .#           #...\n",
      "#.###.#        ######.\n",
      "#.. #.#       #.......\n",
      " ## #.#########.      \n",
      "   ...#.........      \n",
      "   .###.              \n",
      " ...#...              \n",
      " .#####.              \n",
      " .#.....              \n",
      " .#.                  \n",
      " ...                  \n",
      "dir? n\n",
      "     ###              \n",
      "    #...#             \n",
      "   ##.#.#             \n",
      "  #...#.#             \n",
      "  #. ##.#             \n",
      "  #.#...#             \n",
      "  #.#.##             #\n",
      "  #. .#              D\n",
      " ##. .#            ##.\n",
      "#... .#           #...\n",
      "#.   .#           #.  \n",
      "#.   .#           #...\n",
      "#.###.#        ######.\n",
      "#.. #.#       #.......\n",
      " ## #.#########.      \n",
      "   ...#.........      \n",
      "   .###.              \n",
      " ...#...              \n",
      " .#####.              \n",
      " .#.....              \n",
      " .#.                  \n",
      " ...                  \n",
      "dir? w\n",
      "     ###              \n",
      "    #...#             \n",
      "   ##.#.#             \n",
      "  #...#.#             \n",
      "  #. ##.#             \n",
      "  #.#...#             \n",
      "  #.#.##             #\n",
      "  #. .#             D.\n",
      " ##. .#            ##.\n",
      "#... .#           #...\n",
      "#.   .#           #.  \n",
      "#.   .#           #...\n",
      "#.###.#        ######.\n",
      "#.. #.#       #.......\n",
      " ## #.#########.      \n",
      "   ...#.........      \n",
      "   .###.              \n",
      " ...#...              \n",
      " .#####.              \n",
      " .#.....              \n",
      " .#.                  \n",
      " ...                  \n",
      "dir? w\n",
      "     ###              \n",
      "    #...#             \n",
      "   ##.#.#             \n",
      "  #...#.#             \n",
      "  #. ##.#             \n",
      "  #.#...#             \n",
      "  #.#.##             #\n",
      "  #. .#            D..\n",
      " ##. .#            ##.\n",
      "#... .#           #...\n",
      "#.   .#           #.  \n",
      "#.   .#           #...\n",
      "#.###.#        ######.\n",
      "#.. #.#       #.......\n",
      " ## #.#########.      \n",
      "   ...#.........      \n",
      "   .###.              \n",
      " ...#...              \n",
      " .#####.              \n",
      " .#.....              \n",
      " .#.                  \n",
      " ...                  \n",
      "dir? w\n",
      "     ###              \n",
      "    #...#             \n",
      "   ##.#.#             \n",
      "  #...#.#             \n",
      "  #. ##.#             \n",
      "  #.#...#             \n",
      "  #.#.##             #\n",
      "  #. .#           #D..\n",
      " ##. .#            ##.\n",
      "#... .#           #...\n",
      "#.   .#           #.  \n",
      "#.   .#           #...\n",
      "#.###.#        ######.\n",
      "#.. #.#       #.......\n",
      " ## #.#########.      \n",
      "   ...#.........      \n",
      "   .###.              \n",
      " ...#...              \n",
      " .#####.              \n",
      " .#.....              \n",
      " .#.                  \n",
      " ...                  \n",
      "dir? n\n",
      "     ###              \n",
      "    #...#             \n",
      "   ##.#.#             \n",
      "  #...#.#             \n",
      "  #. ##.#             \n",
      "  #.#...#             \n",
      "  #.#.##           D #\n",
      "  #. .#           #...\n",
      " ##. .#            ##.\n",
      "#... .#           #...\n",
      "#.   .#           #.  \n",
      "#.   .#           #...\n",
      "#.###.#        ######.\n",
      "#.. #.#       #.......\n",
      " ## #.#########.      \n",
      "   ...#.........      \n",
      "   .###.              \n",
      " ...#...              \n",
      " .#####.              \n",
      " .#.....              \n",
      " .#.                  \n",
      " ...                  \n",
      "dir? w\n",
      "     ###              \n",
      "    #...#             \n",
      "   ##.#.#             \n",
      "  #...#.#             \n",
      "  #. ##.#             \n",
      "  #.#...#             \n",
      "  #.#.##          #D #\n",
      "  #. .#           #...\n",
      " ##. .#            ##.\n",
      "#... .#           #...\n",
      "#.   .#           #.  \n",
      "#.   .#           #...\n",
      "#.###.#        ######.\n",
      "#.. #.#       #.......\n",
      " ## #.#########.      \n",
      "   ...#.........      \n",
      "   .###.              \n",
      " ...#...              \n",
      " .#####.              \n",
      " .#.....              \n",
      " .#.                  \n",
      " ...                  \n",
      "dir? n\n",
      "     ###              \n",
      "    #...#             \n",
      "   ##.#.#             \n",
      "  #...#.#             \n",
      "  #. ##.#             \n",
      "  #.#...#          D  \n",
      "  #.#.##          #. #\n",
      "  #. .#           #...\n",
      " ##. .#            ##.\n",
      "#... .#           #...\n",
      "#.   .#           #.  \n",
      "#.   .#           #...\n",
      "#.###.#        ######.\n",
      "#.. #.#       #.......\n",
      " ## #.#########.      \n",
      "   ...#.........      \n",
      "   .###.              \n",
      " ...#...              \n",
      " .#####.              \n",
      " .#.....              \n",
      " .#.                  \n",
      " ...                  \n",
      "dir? w\n",
      "     ###              \n",
      "    #...#             \n",
      "   ##.#.#             \n",
      "  #...#.#             \n",
      "  #. ##.#             \n",
      "  #.#...#         D.  \n",
      "  #.#.##          #. #\n",
      "  #. .#           #...\n",
      " ##. .#            ##.\n",
      "#... .#           #...\n",
      "#.   .#           #.  \n",
      "#.   .#           #...\n",
      "#.###.#        ######.\n",
      "#.. #.#       #.......\n",
      " ## #.#########.      \n",
      "   ...#.........      \n",
      "   .###.              \n",
      " ...#...              \n",
      " .#####.              \n",
      " .#.....              \n",
      " .#.                  \n",
      " ...                  \n",
      "dir? w\n",
      "     ###              \n",
      "    #...#             \n",
      "   ##.#.#             \n",
      "  #...#.#             \n",
      "  #. ##.#             \n",
      "  #.#...#        D..  \n",
      "  #.#.##          #. #\n",
      "  #. .#           #...\n",
      " ##. .#            ##.\n",
      "#... .#           #...\n",
      "#.   .#           #.  \n",
      "#.   .#           #...\n",
      "#.###.#        ######.\n",
      "#.. #.#       #.......\n",
      " ## #.#########.      \n",
      "   ...#.........      \n",
      "   .###.              \n",
      " ...#...              \n",
      " .#####.              \n",
      " .#.....              \n",
      " .#.                  \n",
      " ...                  \n",
      "dir? s\n",
      "     ###              \n",
      "    #...#             \n",
      "   ##.#.#             \n",
      "  #...#.#             \n",
      "  #. ##.#             \n",
      "  #.#...#        ...  \n",
      "  #.#.##         D#. #\n",
      "  #. .#           #...\n",
      " ##. .#            ##.\n",
      "#... .#           #...\n",
      "#.   .#           #.  \n",
      "#.   .#           #...\n",
      "#.###.#        ######.\n",
      "#.. #.#       #.......\n",
      " ## #.#########.      \n",
      "   ...#.........      \n",
      "   .###.              \n",
      " ...#...              \n",
      " .#####.              \n",
      " .#.....              \n",
      " .#.                  \n",
      " ...                  \n",
      "dir? s\n",
      "     ###              \n",
      "    #...#             \n",
      "   ##.#.#             \n",
      "  #...#.#             \n",
      "  #. ##.#             \n",
      "  #.#...#        ...  \n",
      "  #.#.##         .#. #\n",
      "  #. .#          D#...\n",
      " ##. .#            ##.\n",
      "#... .#           #...\n",
      "#.   .#           #.  \n",
      "#.   .#           #...\n",
      "#.###.#        ######.\n",
      "#.. #.#       #.......\n",
      " ## #.#########.      \n",
      "   ...#.........      \n",
      "   .###.              \n",
      " ...#...              \n",
      " .#####.              \n",
      " .#.....              \n",
      " .#.                  \n",
      " ...                  \n",
      "dir? s\n",
      "     ###              \n",
      "    #...#             \n",
      "   ##.#.#             \n",
      "  #...#.#             \n",
      "  #. ##.#             \n",
      "  #.#...#        ...  \n",
      "  #.#.##         .#. #\n",
      "  #. .#          .#...\n",
      " ##. .#          D ##.\n",
      "#... .#           #...\n",
      "#.   .#           #.  \n",
      "#.   .#           #...\n",
      "#.###.#        ######.\n",
      "#.. #.#       #.......\n",
      " ## #.#########.      \n",
      "   ...#.........      \n",
      "   .###.              \n",
      " ...#...              \n",
      " .#####.              \n",
      " .#.....              \n",
      " .#.                  \n",
      " ...                  \n",
      "dir? e\n",
      "     ###              \n",
      "    #...#             \n",
      "   ##.#.#             \n",
      "  #...#.#             \n",
      "  #. ##.#             \n",
      "  #.#...#        ...  \n",
      "  #.#.##         .#. #\n",
      "  #. .#          .#...\n",
      " ##. .#          D###.\n",
      "#... .#           #...\n",
      "#.   .#           #.  \n",
      "#.   .#           #...\n",
      "#.###.#        ######.\n",
      "#.. #.#       #.......\n",
      " ## #.#########.      \n",
      "   ...#.........      \n",
      "   .###.              \n",
      " ...#...              \n",
      " .#####.              \n",
      " .#.....              \n",
      " .#.                  \n",
      " ...                  \n"
     ]
    },
    {
     "name": "stdout",
     "output_type": "stream",
     "text": [
      "dir? s\n",
      "     ###              \n",
      "    #...#             \n",
      "   ##.#.#             \n",
      "  #...#.#             \n",
      "  #. ##.#             \n",
      "  #.#...#        ...  \n",
      "  #.#.##         .#. #\n",
      "  #. .#          .#...\n",
      " ##. .#          .###.\n",
      "#... .#          D#...\n",
      "#.   .#           #.  \n",
      "#.   .#           #...\n",
      "#.###.#        ######.\n",
      "#.. #.#       #.......\n",
      " ## #.#########.      \n",
      "   ...#.........      \n",
      "   .###.              \n",
      " ...#...              \n",
      " .#####.              \n",
      " .#.....              \n",
      " .#.                  \n",
      " ...                  \n",
      "dir? s\n",
      "     ###              \n",
      "    #...#             \n",
      "   ##.#.#             \n",
      "  #...#.#             \n",
      "  #. ##.#             \n",
      "  #.#...#        ...  \n",
      "  #.#.##         .#. #\n",
      "  #. .#          .#...\n",
      " ##. .#          .###.\n",
      "#... .#          D#...\n",
      "#.   .#          ##.  \n",
      "#.   .#           #...\n",
      "#.###.#        ######.\n",
      "#.. #.#       #.......\n",
      " ## #.#########.      \n",
      "   ...#.........      \n",
      "   .###.              \n",
      " ...#...              \n",
      " .#####.              \n",
      " .#.....              \n",
      " .#.                  \n",
      " ...                  \n",
      "dir? w\n",
      "     ###              \n",
      "    #...#             \n",
      "   ##.#.#             \n",
      "  #...#.#             \n",
      "  #. ##.#             \n",
      "  #.#...#        ...  \n",
      "  #.#.##         .#. #\n",
      "  #. .#          .#...\n",
      " ##. .#          .###.\n",
      "#... .#         D.#...\n",
      "#.   .#          ##.  \n",
      "#.   .#           #...\n",
      "#.###.#        ######.\n",
      "#.. #.#       #.......\n",
      " ## #.#########.      \n",
      "   ...#.........      \n",
      "   .###.              \n",
      " ...#...              \n",
      " .#####.              \n",
      " .#.....              \n",
      " .#.                  \n",
      " ...                  \n",
      "dir? s\n",
      "     ###              \n",
      "    #...#             \n",
      "   ##.#.#             \n",
      "  #...#.#             \n",
      "  #. ##.#             \n",
      "  #.#...#        ...  \n",
      "  #.#.##         .#. #\n",
      "  #. .#          .#...\n",
      " ##. .#          .###.\n",
      "#... .#         D.#...\n",
      "#.   .#         ###.  \n",
      "#.   .#           #...\n",
      "#.###.#        ######.\n",
      "#.. #.#       #.......\n",
      " ## #.#########.      \n",
      "   ...#.........      \n",
      "   .###.              \n",
      " ...#...              \n",
      " .#####.              \n",
      " .#.....              \n",
      " .#.                  \n",
      " ...                  \n",
      "dir? w\n",
      "     ###              \n",
      "    #...#             \n",
      "   ##.#.#             \n",
      "  #...#.#             \n",
      "  #. ##.#             \n",
      "  #.#...#        ...  \n",
      "  #.#.##         .#. #\n",
      "  #. .#          .#...\n",
      " ##. .#          .###.\n",
      "#... .#        D..#...\n",
      "#.   .#         ###.  \n",
      "#.   .#           #...\n",
      "#.###.#        ######.\n",
      "#.. #.#       #.......\n",
      " ## #.#########.      \n",
      "   ...#.........      \n",
      "   .###.              \n",
      " ...#...              \n",
      " .#####.              \n",
      " .#.....              \n",
      " .#.                  \n",
      " ...                  \n",
      "dir? s\n",
      "     ###              \n",
      "    #...#             \n",
      "   ##.#.#             \n",
      "  #...#.#             \n",
      "  #. ##.#             \n",
      "  #.#...#        ...  \n",
      "  #.#.##         .#. #\n",
      "  #. .#          .#...\n",
      " ##. .#          .###.\n",
      "#... .#        ...#...\n",
      "#.   .#        D###.  \n",
      "#.   .#           #...\n",
      "#.###.#        ######.\n",
      "#.. #.#       #.......\n",
      " ## #.#########.      \n",
      "   ...#.........      \n",
      "   .###.              \n",
      " ...#...              \n",
      " .#####.              \n",
      " .#.....              \n",
      " .#.                  \n",
      " ...                  \n",
      "dir? s\n",
      "     ###              \n",
      "    #...#             \n",
      "   ##.#.#             \n",
      "  #...#.#             \n",
      "  #. ##.#             \n",
      "  #.#...#        ...  \n",
      "  #.#.##         .#. #\n",
      "  #. .#          .#...\n",
      " ##. .#          .###.\n",
      "#... .#        ...#...\n",
      "#.   .#        .###.  \n",
      "#.   .#        D  #...\n",
      "#.###.#        ######.\n",
      "#.. #.#       #.......\n",
      " ## #.#########.      \n",
      "   ...#.........      \n",
      "   .###.              \n",
      " ...#...              \n",
      " .#####.              \n",
      " .#.....              \n",
      " .#.                  \n",
      " ...                  \n",
      "dir? e\n",
      "     ###              \n",
      "    #...#             \n",
      "   ##.#.#             \n",
      "  #...#.#             \n",
      "  #. ##.#             \n",
      "  #.#...#        ...  \n",
      "  #.#.##         .#. #\n",
      "  #. .#          .#...\n",
      " ##. .#          .###.\n",
      "#... .#        ...#...\n",
      "#.   .#        .###.  \n",
      "#.   .#        .D #...\n",
      "#.###.#        ######.\n",
      "#.. #.#       #.......\n",
      " ## #.#########.      \n",
      "   ...#.........      \n",
      "   .###.              \n",
      " ...#...              \n",
      " .#####.              \n",
      " .#.....              \n",
      " .#.                  \n",
      " ...                  \n",
      "dir? e\n",
      "     ###              \n",
      "    #...#             \n",
      "   ##.#.#             \n",
      "  #...#.#             \n",
      "  #. ##.#             \n",
      "  #.#...#        ...  \n",
      "  #.#.##         .#. #\n",
      "  #. .#          .#...\n",
      " ##. .#          .###.\n",
      "#... .#        ...#...\n",
      "#.   .#        .###.  \n",
      "#.   .#        ..D#...\n",
      "#.###.#        ######.\n",
      "#.. #.#       #.......\n",
      " ## #.#########.      \n",
      "   ...#.........      \n",
      "   .###.              \n",
      " ...#...              \n",
      " .#####.              \n",
      " .#.....              \n",
      " .#.                  \n",
      " ...                  \n",
      "dir? w\n",
      "     ###              \n",
      "    #...#             \n",
      "   ##.#.#             \n",
      "  #...#.#             \n",
      "  #. ##.#             \n",
      "  #.#...#        ...  \n",
      "  #.#.##         .#. #\n",
      "  #. .#          .#...\n",
      " ##. .#          .###.\n",
      "#... .#        ...#...\n",
      "#.   .#        .###.  \n",
      "#.   .#        .D.#...\n",
      "#.###.#        ######.\n",
      "#.. #.#       #.......\n",
      " ## #.#########.      \n",
      "   ...#.........      \n",
      "   .###.              \n",
      " ...#...              \n",
      " .#####.              \n",
      " .#.....              \n",
      " .#.                  \n",
      " ...                  \n",
      "dir? w\n",
      "     ###              \n",
      "    #...#             \n",
      "   ##.#.#             \n",
      "  #...#.#             \n",
      "  #. ##.#             \n",
      "  #.#...#        ...  \n",
      "  #.#.##         .#. #\n",
      "  #. .#          .#...\n",
      " ##. .#          .###.\n",
      "#... .#        ...#...\n",
      "#.   .#        .###.  \n",
      "#.   .#        D..#...\n",
      "#.###.#        ######.\n",
      "#.. #.#       #.......\n",
      " ## #.#########.      \n",
      "   ...#.........      \n",
      "   .###.              \n",
      " ...#...              \n",
      " .#####.              \n",
      " .#.....              \n",
      " .#.                  \n",
      " ...                  \n",
      "dir? w\n",
      "     ###              \n",
      "    #...#             \n",
      "   ##.#.#             \n",
      "  #...#.#             \n",
      "  #. ##.#             \n",
      "  #.#...#        ...  \n",
      "  #.#.##         .#. #\n",
      "  #. .#          .#...\n",
      " ##. .#          .###.\n",
      "#... .#        ...#...\n",
      "#.   .#        .###.  \n",
      "#.   .#       D...#...\n",
      "#.###.#        ######.\n",
      "#.. #.#       #.......\n",
      " ## #.#########.      \n",
      "   ...#.........      \n",
      "   .###.              \n",
      " ...#...              \n",
      " .#####.              \n",
      " .#.....              \n",
      " .#.                  \n",
      " ...                  \n",
      "dir? s\n",
      "     ###              \n",
      "    #...#             \n",
      "   ##.#.#             \n",
      "  #...#.#             \n",
      "  #. ##.#             \n",
      "  #.#...#        ...  \n",
      "  #.#.##         .#. #\n",
      "  #. .#          .#...\n",
      " ##. .#          .###.\n",
      "#... .#        ...#...\n",
      "#.   .#        .###.  \n",
      "#.   .#       D...#...\n",
      "#.###.#       #######.\n",
      "#.. #.#       #.......\n",
      " ## #.#########.      \n",
      "   ...#.........      \n",
      "   .###.              \n",
      " ...#...              \n",
      " .#####.              \n",
      " .#.....              \n",
      " .#.                  \n",
      " ...                  \n",
      "dir? w\n",
      "     ###              \n",
      "    #...#             \n",
      "   ##.#.#             \n",
      "  #...#.#             \n",
      "  #. ##.#             \n",
      "  #.#...#        ...  \n",
      "  #.#.##         .#. #\n",
      "  #. .#          .#...\n",
      " ##. .#          .###.\n",
      "#... .#        ...#...\n",
      "#.   .#        .###.  \n",
      "#.   .#      D....#...\n",
      "#.###.#       #######.\n",
      "#.. #.#       #.......\n",
      " ## #.#########.      \n",
      "   ...#.........      \n",
      "   .###.              \n",
      " ...#...              \n",
      " .#####.              \n",
      " .#.....              \n",
      " .#.                  \n",
      " ...                  \n",
      "dir? d\n",
      "oops\n",
      "dir? s\n",
      "     ###              \n",
      "    #...#             \n",
      "   ##.#.#             \n",
      "  #...#.#             \n",
      "  #. ##.#             \n",
      "  #.#...#        ...  \n",
      "  #.#.##         .#. #\n",
      "  #. .#          .#...\n",
      " ##. .#          .###.\n",
      "#... .#        ...#...\n",
      "#.   .#        .###.  \n",
      "#.   .#      D....#...\n",
      "#.###.#      ########.\n",
      "#.. #.#       #.......\n",
      " ## #.#########.      \n",
      "   ...#.........      \n",
      "   .###.              \n",
      " ...#...              \n",
      " .#####.              \n",
      " .#.....              \n",
      " .#.                  \n",
      " ...                  \n",
      "dir? w\n",
      "     ###              \n",
      "    #...#             \n",
      "   ##.#.#             \n",
      "  #...#.#             \n",
      "  #. ##.#             \n",
      "  #.#...#        ...  \n",
      "  #.#.##         .#. #\n",
      "  #. .#          .#...\n",
      " ##. .#          .###.\n",
      "#... .#        ...#...\n",
      "#.   .#        .###.  \n",
      "#.   .#     D.....#...\n",
      "#.###.#      ########.\n",
      "#.. #.#       #.......\n",
      " ## #.#########.      \n",
      "   ...#.........      \n",
      "   .###.              \n",
      " ...#...              \n",
      " .#####.              \n",
      " .#.....              \n",
      " .#.                  \n",
      " ...                  \n"
     ]
    },
    {
     "name": "stdout",
     "output_type": "stream",
     "text": [
      "dir? s\n",
      "     ###              \n",
      "    #...#             \n",
      "   ##.#.#             \n",
      "  #...#.#             \n",
      "  #. ##.#             \n",
      "  #.#...#        ...  \n",
      "  #.#.##         .#. #\n",
      "  #. .#          .#...\n",
      " ##. .#          .###.\n",
      "#... .#        ...#...\n",
      "#.   .#        .###.  \n",
      "#.   .#     D.....#...\n",
      "#.###.#     #########.\n",
      "#.. #.#       #.......\n",
      " ## #.#########.      \n",
      "   ...#.........      \n",
      "   .###.              \n",
      " ...#...              \n",
      " .#####.              \n",
      " .#.....              \n",
      " .#.                  \n",
      " ...                  \n",
      "dir? w\n",
      "     ###              \n",
      "    #...#             \n",
      "   ##.#.#             \n",
      "  #...#.#             \n",
      "  #. ##.#             \n",
      "  #.#...#        ...  \n",
      "  #.#.##         .#. #\n",
      "  #. .#          .#...\n",
      " ##. .#          .###.\n",
      "#... .#        ...#...\n",
      "#.   .#        .###.  \n",
      "#.   .#    D......#...\n",
      "#.###.#     #########.\n",
      "#.. #.#       #.......\n",
      " ## #.#########.      \n",
      "   ...#.........      \n",
      "   .###.              \n",
      " ...#...              \n",
      " .#####.              \n",
      " .#.....              \n",
      " .#.                  \n",
      " ...                  \n",
      "dir? s\n",
      "     ###              \n",
      "    #...#             \n",
      "   ##.#.#             \n",
      "  #...#.#             \n",
      "  #. ##.#             \n",
      "  #.#...#        ...  \n",
      "  #.#.##         .#. #\n",
      "  #. .#          .#...\n",
      " ##. .#          .###.\n",
      "#... .#        ...#...\n",
      "#.   .#        .###.  \n",
      "#.   .#    .......#...\n",
      "#.###.#    D#########.\n",
      "#.. #.#       #.......\n",
      " ## #.#########.      \n",
      "   ...#.........      \n",
      "   .###.              \n",
      " ...#...              \n",
      " .#####.              \n",
      " .#.....              \n",
      " .#.                  \n",
      " ...                  \n",
      "dir? s\n",
      "     ###              \n",
      "    #...#             \n",
      "   ##.#.#             \n",
      "  #...#.#             \n",
      "  #. ##.#             \n",
      "  #.#...#        ...  \n",
      "  #.#.##         .#. #\n",
      "  #. .#          .#...\n",
      " ##. .#          .###.\n",
      "#... .#        ...#...\n",
      "#.   .#        .###.  \n",
      "#.   .#    .......#...\n",
      "#.###.#    .#########.\n",
      "#.. #.#    D  #.......\n",
      " ## #.#########.      \n",
      "   ...#.........      \n",
      "   .###.              \n",
      " ...#...              \n",
      " .#####.              \n",
      " .#.....              \n",
      " .#.                  \n",
      " ...                  \n",
      "dir? e\n",
      "     ###              \n",
      "    #...#             \n",
      "   ##.#.#             \n",
      "  #...#.#             \n",
      "  #. ##.#             \n",
      "  #.#...#        ...  \n",
      "  #.#.##         .#. #\n",
      "  #. .#          .#...\n",
      " ##. .#          .###.\n",
      "#... .#        ...#...\n",
      "#.   .#        .###.  \n",
      "#.   .#    .......#...\n",
      "#.###.#    .#########.\n",
      "#.. #.#    .D #.......\n",
      " ## #.#########.      \n",
      "   ...#.........      \n",
      "   .###.              \n",
      " ...#...              \n",
      " .#####.              \n",
      " .#.....              \n",
      " .#.                  \n",
      " ...                  \n",
      "dir? e\n",
      "     ###              \n",
      "    #...#             \n",
      "   ##.#.#             \n",
      "  #...#.#             \n",
      "  #. ##.#             \n",
      "  #.#...#        ...  \n",
      "  #.#.##         .#. #\n",
      "  #. .#          .#...\n",
      " ##. .#          .###.\n",
      "#... .#        ...#...\n",
      "#.   .#        .###.  \n",
      "#.   .#    .......#...\n",
      "#.###.#    .#########.\n",
      "#.. #.#    ..D#.......\n",
      " ## #.#########.      \n",
      "   ...#.........      \n",
      "   .###.              \n",
      " ...#...              \n",
      " .#####.              \n",
      " .#.....              \n",
      " .#.                  \n",
      " ...                  \n",
      "dir? w\n",
      "     ###              \n",
      "    #...#             \n",
      "   ##.#.#             \n",
      "  #...#.#             \n",
      "  #. ##.#             \n",
      "  #.#...#        ...  \n",
      "  #.#.##         .#. #\n",
      "  #. .#          .#...\n",
      " ##. .#          .###.\n",
      "#... .#        ...#...\n",
      "#.   .#        .###.  \n",
      "#.   .#    .......#...\n",
      "#.###.#    .#########.\n",
      "#.. #.#    .D.#.......\n",
      " ## #.#########.      \n",
      "   ...#.........      \n",
      "   .###.              \n",
      " ...#...              \n",
      " .#####.              \n",
      " .#.....              \n",
      " .#.                  \n",
      " ...                  \n",
      "dir? w\n",
      "     ###              \n",
      "    #...#             \n",
      "   ##.#.#             \n",
      "  #...#.#             \n",
      "  #. ##.#             \n",
      "  #.#...#        ...  \n",
      "  #.#.##         .#. #\n",
      "  #. .#          .#...\n",
      " ##. .#          .###.\n",
      "#... .#        ...#...\n",
      "#.   .#        .###.  \n",
      "#.   .#    .......#...\n",
      "#.###.#    .#########.\n",
      "#.. #.#    D..#.......\n",
      " ## #.#########.      \n",
      "   ...#.........      \n",
      "   .###.              \n",
      " ...#...              \n",
      " .#####.              \n",
      " .#.....              \n",
      " .#.                  \n",
      " ...                  \n",
      "dir? w\n",
      "     ###              \n",
      "    #...#             \n",
      "   ##.#.#             \n",
      "  #...#.#             \n",
      "  #. ##.#             \n",
      "  #.#...#        ...  \n",
      "  #.#.##         .#. #\n",
      "  #. .#          .#...\n",
      " ##. .#          .###.\n",
      "#... .#        ...#...\n",
      "#.   .#        .###.  \n",
      "#.   .#    .......#...\n",
      "#.###.#    .#########.\n",
      "#.. #.#   D...#.......\n",
      " ## #.#########.      \n",
      "   ...#.........      \n",
      "   .###.              \n",
      " ...#...              \n",
      " .#####.              \n",
      " .#.....              \n",
      " .#.                  \n",
      " ...                  \n",
      "dir? w\n",
      "     ###              \n",
      "    #...#             \n",
      "   ##.#.#             \n",
      "  #...#.#             \n",
      "  #. ##.#             \n",
      "  #.#...#        ...  \n",
      "  #.#.##         .#. #\n",
      "  #. .#          .#...\n",
      " ##. .#          .###.\n",
      "#... .#        ...#...\n",
      "#.   .#        .###.  \n",
      "#.   .#    .......#...\n",
      "#.###.#    .#########.\n",
      "#.. #.#  D....#.......\n",
      " ## #.#########.      \n",
      "   ...#.........      \n",
      "   .###.              \n",
      " ...#...              \n",
      " .#####.              \n",
      " .#.....              \n",
      " .#.                  \n",
      " ...                  \n",
      "dir? w\n",
      "     ###              \n",
      "    #...#             \n",
      "   ##.#.#             \n",
      "  #...#.#             \n",
      "  #. ##.#             \n",
      "  #.#...#        ...  \n",
      "  #.#.##         .#. #\n",
      "  #. .#          .#...\n",
      " ##. .#          .###.\n",
      "#... .#        ...#...\n",
      "#.   .#        .###.  \n",
      "#.   .#    .......#...\n",
      "#.###.#    .#########.\n",
      "#.. #.# #D....#.......\n",
      " ## #.#########.      \n",
      "   ...#.........      \n",
      "   .###.              \n",
      " ...#...              \n",
      " .#####.              \n",
      " .#.....              \n",
      " .#.                  \n",
      " ...                  \n",
      "dir? n\n",
      "     ###              \n",
      "    #...#             \n",
      "   ##.#.#             \n",
      "  #...#.#             \n",
      "  #. ##.#             \n",
      "  #.#...#        ...  \n",
      "  #.#.##         .#. #\n",
      "  #. .#          .#...\n",
      " ##. .#          .###.\n",
      "#... .#        ...#...\n",
      "#.   .#        .###.  \n",
      "#.   .#    .......#...\n",
      "#.###.#  D .#########.\n",
      "#.. #.# #.....#.......\n",
      " ## #.#########.      \n",
      "   ...#.........      \n",
      "   .###.              \n",
      " ...#...              \n",
      " .#####.              \n",
      " .#.....              \n",
      " .#.                  \n",
      " ...                  \n",
      "dir? w\n",
      "     ###              \n",
      "    #...#             \n",
      "   ##.#.#             \n",
      "  #...#.#             \n",
      "  #. ##.#             \n",
      "  #.#...#        ...  \n",
      "  #.#.##         .#. #\n",
      "  #. .#          .#...\n",
      " ##. .#          .###.\n",
      "#... .#        ...#...\n",
      "#.   .#        .###.  \n",
      "#.   .#    .......#...\n",
      "#.###.# #D .#########.\n",
      "#.. #.# #.....#.......\n",
      " ## #.#########.      \n",
      "   ...#.........      \n",
      "   .###.              \n",
      " ...#...              \n",
      " .#####.              \n",
      " .#.....              \n",
      " .#.                  \n",
      " ...                  \n",
      "dir? n\n",
      "     ###              \n",
      "    #...#             \n",
      "   ##.#.#             \n",
      "  #...#.#             \n",
      "  #. ##.#             \n",
      "  #.#...#        ...  \n",
      "  #.#.##         .#. #\n",
      "  #. .#          .#...\n",
      " ##. .#          .###.\n",
      "#... .#        ...#...\n",
      "#.   .#        .###.  \n",
      "#.   .#  D .......#...\n",
      "#.###.# #. .#########.\n",
      "#.. #.# #.....#.......\n",
      " ## #.#########.      \n",
      "   ...#.........      \n",
      "   .###.              \n",
      " ...#...              \n",
      " .#####.              \n",
      " .#.....              \n",
      " .#.                  \n",
      " ...                  \n",
      "dir? w\n",
      "     ###              \n",
      "    #...#             \n",
      "   ##.#.#             \n",
      "  #...#.#             \n",
      "  #. ##.#             \n",
      "  #.#...#        ...  \n",
      "  #.#.##         .#. #\n",
      "  #. .#          .#...\n",
      " ##. .#          .###.\n",
      "#... .#        ...#...\n",
      "#.   .#        .###.  \n",
      "#.   .# #D .......#...\n",
      "#.###.# #. .#########.\n",
      "#.. #.# #.....#.......\n",
      " ## #.#########.      \n",
      "   ...#.........      \n",
      "   .###.              \n",
      " ...#...              \n",
      " .#####.              \n",
      " .#.....              \n",
      " .#.                  \n",
      " ...                  \n",
      "dir? n\n",
      "     ###              \n",
      "    #...#             \n",
      "   ##.#.#             \n",
      "  #...#.#             \n",
      "  #. ##.#             \n",
      "  #.#...#        ...  \n",
      "  #.#.##         .#. #\n",
      "  #. .#          .#...\n",
      " ##. .#          .###.\n",
      "#... .#        ...#...\n",
      "#.   .#  D     .###.  \n",
      "#.   .# #. .......#...\n",
      "#.###.# #. .#########.\n",
      "#.. #.# #.....#.......\n",
      " ## #.#########.      \n",
      "   ...#.........      \n",
      "   .###.              \n",
      " ...#...              \n",
      " .#####.              \n",
      " .#.....              \n",
      " .#.                  \n",
      " ...                  \n"
     ]
    },
    {
     "name": "stdout",
     "output_type": "stream",
     "text": [
      "dir? w\n",
      "     ###              \n",
      "    #...#             \n",
      "   ##.#.#             \n",
      "  #...#.#             \n",
      "  #. ##.#             \n",
      "  #.#...#        ...  \n",
      "  #.#.##         .#. #\n",
      "  #. .#          .#...\n",
      " ##. .#          .###.\n",
      "#... .#        ...#...\n",
      "#.   .# #D     .###.  \n",
      "#.   .# #. .......#...\n",
      "#.###.# #. .#########.\n",
      "#.. #.# #.....#.......\n",
      " ## #.#########.      \n",
      "   ...#.........      \n",
      "   .###.              \n",
      " ...#...              \n",
      " .#####.              \n",
      " .#.....              \n",
      " .#.                  \n",
      " ...                  \n",
      "dir? n\n",
      "     ###              \n",
      "    #...#             \n",
      "   ##.#.#             \n",
      "  #...#.#             \n",
      "  #. ##.#             \n",
      "  #.#...#        ...  \n",
      "  #.#.##         .#. #\n",
      "  #. .#          .#...\n",
      " ##. .#          .###.\n",
      "#... .#  D     ...#...\n",
      "#.   .# #.     .###.  \n",
      "#.   .# #. .......#...\n",
      "#.###.# #. .#########.\n",
      "#.. #.# #.....#.......\n",
      " ## #.#########.      \n",
      "   ...#.........      \n",
      "   .###.              \n",
      " ...#...              \n",
      " .#####.              \n",
      " .#.....              \n",
      " .#.                  \n",
      " ...                  \n",
      "dir? w\n",
      "     ###              \n",
      "    #...#             \n",
      "   ##.#.#             \n",
      "  #...#.#             \n",
      "  #. ##.#             \n",
      "  #.#...#        ...  \n",
      "  #.#.##         .#. #\n",
      "  #. .#          .#...\n",
      " ##. .#          .###.\n",
      "#... .# #D     ...#...\n",
      "#.   .# #.     .###.  \n",
      "#.   .# #. .......#...\n",
      "#.###.# #. .#########.\n",
      "#.. #.# #.....#.......\n",
      " ## #.#########.      \n",
      "   ...#.........      \n",
      "   .###.              \n",
      " ...#...              \n",
      " .#####.              \n",
      " .#.....              \n",
      " .#.                  \n",
      " ...                  \n",
      "dir? n\n",
      "     ###              \n",
      "    #...#             \n",
      "   ##.#.#             \n",
      "  #...#.#             \n",
      "  #. ##.#             \n",
      "  #.#...#        ...  \n",
      "  #.#.##         .#. #\n",
      "  #. .#          .#...\n",
      " ##. .#  #       .###.\n",
      "#... .# #D     ...#...\n",
      "#.   .# #.     .###.  \n",
      "#.   .# #. .......#...\n",
      "#.###.# #. .#########.\n",
      "#.. #.# #.....#.......\n",
      " ## #.#########.      \n",
      "   ...#.........      \n",
      "   .###.              \n",
      " ...#...              \n",
      " .#####.              \n",
      " .#.....              \n",
      " .#.                  \n",
      " ...                  \n",
      "dir? w\n",
      "     ###              \n",
      "    #...#             \n",
      "   ##.#.#             \n",
      "  #...#.#             \n",
      "  #. ##.#             \n",
      "  #.#...#        ...  \n",
      "  #.#.##         .#. #\n",
      "  #. .#          .#...\n",
      " ##. .#  #       .###.\n",
      "#... .# #D     ...#...\n",
      "#.   .# #.     .###.  \n",
      "#.   .# #. .......#...\n",
      "#.###.# #. .#########.\n",
      "#.. #.# #.....#.......\n",
      " ## #.#########.      \n",
      "   ...#.........      \n",
      "   .###.              \n",
      " ...#...              \n",
      " .#####.              \n",
      " .#.....              \n",
      " .#.                  \n",
      " ...                  \n",
      "dir? e\n",
      "     ###              \n",
      "    #...#             \n",
      "   ##.#.#             \n",
      "  #...#.#             \n",
      "  #. ##.#             \n",
      "  #.#...#        ...  \n",
      "  #.#.##         .#. #\n",
      "  #. .#          .#...\n",
      " ##. .#  #       .###.\n",
      "#... .# #.D    ...#...\n",
      "#.   .# #.     .###.  \n",
      "#.   .# #. .......#...\n",
      "#.###.# #. .#########.\n",
      "#.. #.# #.....#.......\n",
      " ## #.#########.      \n",
      "   ...#.........      \n",
      "   .###.              \n",
      " ...#...              \n",
      " .#####.              \n",
      " .#.....              \n",
      " .#.                  \n",
      " ...                  \n",
      "dir? n\n",
      "     ###              \n",
      "    #...#             \n",
      "   ##.#.#             \n",
      "  #...#.#             \n",
      "  #. ##.#             \n",
      "  #.#...#        ...  \n",
      "  #.#.##         .#. #\n",
      "  #. .#          .#...\n",
      " ##. .#  ##      .###.\n",
      "#... .# #.D    ...#...\n",
      "#.   .# #.     .###.  \n",
      "#.   .# #. .......#...\n",
      "#.###.# #. .#########.\n",
      "#.. #.# #.....#.......\n",
      " ## #.#########.      \n",
      "   ...#.........      \n",
      "   .###.              \n",
      " ...#...              \n",
      " .#####.              \n",
      " .#.....              \n",
      " .#.                  \n",
      " ...                  \n",
      "dir? e\n",
      "     ###              \n",
      "    #...#             \n",
      "   ##.#.#             \n",
      "  #...#.#             \n",
      "  #. ##.#             \n",
      "  #.#...#        ...  \n",
      "  #.#.##         .#. #\n",
      "  #. .#          .#...\n",
      " ##. .#  ##      .###.\n",
      "#... .# #..D   ...#...\n",
      "#.   .# #.     .###.  \n",
      "#.   .# #. .......#...\n",
      "#.###.# #. .#########.\n",
      "#.. #.# #.....#.......\n",
      " ## #.#########.      \n",
      "   ...#.........      \n",
      "   .###.              \n",
      " ...#...              \n",
      " .#####.              \n",
      " .#.....              \n",
      " .#.                  \n",
      " ...                  \n",
      "dir? n\n",
      "     ###              \n",
      "    #...#             \n",
      "   ##.#.#             \n",
      "  #...#.#             \n",
      "  #. ##.#             \n",
      "  #.#...#        ...  \n",
      "  #.#.##         .#. #\n",
      "  #. .#          .#...\n",
      " ##. .#  ##D     .###.\n",
      "#... .# #...   ...#...\n",
      "#.   .# #.     .###.  \n",
      "#.   .# #. .......#...\n",
      "#.###.# #. .#########.\n",
      "#.. #.# #.....#.......\n",
      " ## #.#########.      \n",
      "   ...#.........      \n",
      "   .###.              \n",
      " ...#...              \n",
      " .#####.              \n",
      " .#.....              \n",
      " .#.                  \n",
      " ...                  \n",
      "dir? n\n",
      "     ###              \n",
      "    #...#             \n",
      "   ##.#.#             \n",
      "  #...#.#             \n",
      "  #. ##.#             \n",
      "  #.#...#        ...  \n",
      "  #.#.##         .#. #\n",
      "  #. .#    D     .#...\n",
      " ##. .#  ##.     .###.\n",
      "#... .# #...   ...#...\n",
      "#.   .# #.     .###.  \n",
      "#.   .# #. .......#...\n",
      "#.###.# #. .#########.\n",
      "#.. #.# #.....#.......\n",
      " ## #.#########.      \n",
      "   ...#.........      \n",
      "   .###.              \n",
      " ...#...              \n",
      " .#####.              \n",
      " .#.....              \n",
      " .#.                  \n",
      " ...                  \n",
      "dir? w\n",
      "     ###              \n",
      "    #...#             \n",
      "   ##.#.#             \n",
      "  #...#.#             \n",
      "  #. ##.#             \n",
      "  #.#...#        ...  \n",
      "  #.#.##         .#. #\n",
      "  #. .#   #D     .#...\n",
      " ##. .#  ##.     .###.\n",
      "#... .# #...   ...#...\n",
      "#.   .# #.     .###.  \n",
      "#.   .# #. .......#...\n",
      "#.###.# #. .#########.\n",
      "#.. #.# #.....#.......\n",
      " ## #.#########.      \n",
      "   ...#.........      \n",
      "   .###.              \n",
      " ...#...              \n",
      " .#####.              \n",
      " .#.....              \n",
      " .#.                  \n",
      " ...                  \n",
      "dir? n\n",
      "     ###              \n",
      "    #...#             \n",
      "   ##.#.#             \n",
      "  #...#.#             \n",
      "  #. ##.#             \n",
      "  #.#...#        ...  \n",
      "  #.#.##   D     .#. #\n",
      "  #. .#   #.     .#...\n",
      " ##. .#  ##.     .###.\n",
      "#... .# #...   ...#...\n",
      "#.   .# #.     .###.  \n",
      "#.   .# #. .......#...\n",
      "#.###.# #. .#########.\n",
      "#.. #.# #.....#.......\n",
      " ## #.#########.      \n",
      "   ...#.........      \n",
      "   .###.              \n",
      " ...#...              \n",
      " .#####.              \n",
      " .#.....              \n",
      " .#.                  \n",
      " ...                  \n",
      "dir? w\n",
      "     ###              \n",
      "    #...#             \n",
      "   ##.#.#             \n",
      "  #...#.#             \n",
      "  #. ##.#             \n",
      "  #.#...#        ...  \n",
      "  #.#.##  #D     .#. #\n",
      "  #. .#   #.     .#...\n",
      " ##. .#  ##.     .###.\n",
      "#... .# #...   ...#...\n",
      "#.   .# #.     .###.  \n",
      "#.   .# #. .......#...\n",
      "#.###.# #. .#########.\n",
      "#.. #.# #.....#.......\n",
      " ## #.#########.      \n",
      "   ...#.........      \n",
      "   .###.              \n",
      " ...#...              \n",
      " .#####.              \n",
      " .#.....              \n",
      " .#.                  \n",
      " ...                  \n",
      "dir? n\n",
      "     ###              \n",
      "    #...#             \n",
      "   ##.#.#             \n",
      "  #...#.#             \n",
      "  #. ##.#             \n",
      "  #.#...#  D     ...  \n",
      "  #.#.##  #.     .#. #\n",
      "  #. .#   #.     .#...\n",
      " ##. .#  ##.     .###.\n",
      "#... .# #...   ...#...\n",
      "#.   .# #.     .###.  \n",
      "#.   .# #. .......#...\n",
      "#.###.# #. .#########.\n",
      "#.. #.# #.....#.......\n",
      " ## #.#########.      \n",
      "   ...#.........      \n",
      "   .###.              \n",
      " ...#...              \n",
      " .#####.              \n",
      " .#.....              \n",
      " .#.                  \n",
      " ...                  \n",
      "dir? w\n",
      "     ###              \n",
      "    #...#             \n",
      "   ##.#.#             \n",
      "  #...#.#             \n",
      "  #. ##.#             \n",
      "  #.#...# #D     ...  \n",
      "  #.#.##  #.     .#. #\n",
      "  #. .#   #.     .#...\n",
      " ##. .#  ##.     .###.\n",
      "#... .# #...   ...#...\n",
      "#.   .# #.     .###.  \n",
      "#.   .# #. .......#...\n",
      "#.###.# #. .#########.\n",
      "#.. #.# #.....#.......\n",
      " ## #.#########.      \n",
      "   ...#.........      \n",
      "   .###.              \n",
      " ...#...              \n",
      " .#####.              \n",
      " .#.....              \n",
      " .#.                  \n",
      " ...                  \n",
      "dir? n\n",
      "     ###              \n",
      "    #...#             \n",
      "   ##.#.#             \n",
      "  #...#.#             \n",
      "  #. ##.#  #          \n",
      "  #.#...# #D     ...  \n",
      "  #.#.##  #.     .#. #\n",
      "  #. .#   #.     .#...\n",
      " ##. .#  ##.     .###.\n",
      "#... .# #...   ...#...\n",
      "#.   .# #.     .###.  \n",
      "#.   .# #. .......#...\n",
      "#.###.# #. .#########.\n",
      "#.. #.# #.....#.......\n",
      " ## #.#########.      \n",
      "   ...#.........      \n",
      "   .###.              \n",
      " ...#...              \n",
      " .#####.              \n",
      " .#.....              \n",
      " .#.                  \n",
      " ...                  \n"
     ]
    },
    {
     "name": "stdout",
     "output_type": "stream",
     "text": [
      "dir? e\n",
      "     ###              \n",
      "    #...#             \n",
      "   ##.#.#             \n",
      "  #...#.#             \n",
      "  #. ##.#  #          \n",
      "  #.#...# #.D    ...  \n",
      "  #.#.##  #.     .#. #\n",
      "  #. .#   #.     .#...\n",
      " ##. .#  ##.     .###.\n",
      "#... .# #...   ...#...\n",
      "#.   .# #.     .###.  \n",
      "#.   .# #. .......#...\n",
      "#.###.# #. .#########.\n",
      "#.. #.# #.....#.......\n",
      " ## #.#########.      \n",
      "   ...#.........      \n",
      "   .###.              \n",
      " ...#...              \n",
      " .#####.              \n",
      " .#.....              \n",
      " .#.                  \n",
      " ...                  \n",
      "dir? n\n",
      "     ###              \n",
      "    #...#             \n",
      "   ##.#.#             \n",
      "  #...#.#             \n",
      "  #. ##.#  ##         \n",
      "  #.#...# #.D    ...  \n",
      "  #.#.##  #.     .#. #\n",
      "  #. .#   #.     .#...\n",
      " ##. .#  ##.     .###.\n",
      "#... .# #...   ...#...\n",
      "#.   .# #.     .###.  \n",
      "#.   .# #. .......#...\n",
      "#.###.# #. .#########.\n",
      "#.. #.# #.....#.......\n",
      " ## #.#########.      \n",
      "   ...#.........      \n",
      "   .###.              \n",
      " ...#...              \n",
      " .#####.              \n",
      " .#.....              \n",
      " .#.                  \n",
      " ...                  \n",
      "dir? e\n",
      "     ###              \n",
      "    #...#             \n",
      "   ##.#.#             \n",
      "  #...#.#             \n",
      "  #. ##.#  ##         \n",
      "  #.#...# #..D   ...  \n",
      "  #.#.##  #.     .#. #\n",
      "  #. .#   #.     .#...\n",
      " ##. .#  ##.     .###.\n",
      "#... .# #...   ...#...\n",
      "#.   .# #.     .###.  \n",
      "#.   .# #. .......#...\n",
      "#.###.# #. .#########.\n",
      "#.. #.# #.....#.......\n",
      " ## #.#########.      \n",
      "   ...#.........      \n",
      "   .###.              \n",
      " ...#...              \n",
      " .#####.              \n",
      " .#.....              \n",
      " .#.                  \n",
      " ...                  \n",
      "dir? n\n",
      "     ###              \n",
      "    #...#             \n",
      "   ##.#.#             \n",
      "  #...#.#             \n",
      "  #. ##.#  ##D        \n",
      "  #.#...# #...   ...  \n",
      "  #.#.##  #.     .#. #\n",
      "  #. .#   #.     .#...\n",
      " ##. .#  ##.     .###.\n",
      "#... .# #...   ...#...\n",
      "#.   .# #.     .###.  \n",
      "#.   .# #. .......#...\n",
      "#.###.# #. .#########.\n",
      "#.. #.# #.....#.......\n",
      " ## #.#########.      \n",
      "   ...#.........      \n",
      "   .###.              \n",
      " ...#...              \n",
      " .#####.              \n",
      " .#.....              \n",
      " .#.                  \n",
      " ...                  \n",
      "dir? n\n",
      "     ###              \n",
      "    #...#             \n",
      "   ##.#.#             \n",
      "  #...#.#    D        \n",
      "  #. ##.#  ##.        \n",
      "  #.#...# #...   ...  \n",
      "  #.#.##  #.     .#. #\n",
      "  #. .#   #.     .#...\n",
      " ##. .#  ##.     .###.\n",
      "#... .# #...   ...#...\n",
      "#.   .# #.     .###.  \n",
      "#.   .# #. .......#...\n",
      "#.###.# #. .#########.\n",
      "#.. #.# #.....#.......\n",
      " ## #.#########.      \n",
      "   ...#.........      \n",
      "   .###.              \n",
      " ...#...              \n",
      " .#####.              \n",
      " .#.....              \n",
      " .#.                  \n",
      " ...                  \n",
      "dir? w\n",
      "     ###              \n",
      "    #...#             \n",
      "   ##.#.#             \n",
      "  #...#.#   #D        \n",
      "  #. ##.#  ##.        \n",
      "  #.#...# #...   ...  \n",
      "  #.#.##  #.     .#. #\n",
      "  #. .#   #.     .#...\n",
      " ##. .#  ##.     .###.\n",
      "#... .# #...   ...#...\n",
      "#.   .# #.     .###.  \n",
      "#.   .# #. .......#...\n",
      "#.###.# #. .#########.\n",
      "#.. #.# #.....#.......\n",
      " ## #.#########.      \n",
      "   ...#.........      \n",
      "   .###.              \n",
      " ...#...              \n",
      " .#####.              \n",
      " .#.....              \n",
      " .#.                  \n",
      " ...                  \n",
      "dir? n\n",
      "     ###              \n",
      "    #...#             \n",
      "   ##.#.#    D        \n",
      "  #...#.#   #.        \n",
      "  #. ##.#  ##.        \n",
      "  #.#...# #...   ...  \n",
      "  #.#.##  #.     .#. #\n",
      "  #. .#   #.     .#...\n",
      " ##. .#  ##.     .###.\n",
      "#... .# #...   ...#...\n",
      "#.   .# #.     .###.  \n",
      "#.   .# #. .......#...\n",
      "#.###.# #. .#########.\n",
      "#.. #.# #.....#.......\n",
      " ## #.#########.      \n",
      "   ...#.........      \n",
      "   .###.              \n",
      " ...#...              \n",
      " .#####.              \n",
      " .#.....              \n",
      " .#.                  \n",
      " ...                  \n",
      "dir? w\n",
      "     ###              \n",
      "    #...#             \n",
      "   ##.#.#   #D        \n",
      "  #...#.#   #.        \n",
      "  #. ##.#  ##.        \n",
      "  #.#...# #...   ...  \n",
      "  #.#.##  #.     .#. #\n",
      "  #. .#   #.     .#...\n",
      " ##. .#  ##.     .###.\n",
      "#... .# #...   ...#...\n",
      "#.   .# #.     .###.  \n",
      "#.   .# #. .......#...\n",
      "#.###.# #. .#########.\n",
      "#.. #.# #.....#.......\n",
      " ## #.#########.      \n",
      "   ...#.........      \n",
      "   .###.              \n",
      " ...#...              \n",
      " .#####.              \n",
      " .#.....              \n",
      " .#.                  \n",
      " ...                  \n",
      "dir? n\n",
      "     ###              \n",
      "    #...#    D        \n",
      "   ##.#.#   #.        \n",
      "  #...#.#   #.        \n",
      "  #. ##.#  ##.        \n",
      "  #.#...# #...   ...  \n",
      "  #.#.##  #.     .#. #\n",
      "  #. .#   #.     .#...\n",
      " ##. .#  ##.     .###.\n",
      "#... .# #...   ...#...\n",
      "#.   .# #.     .###.  \n",
      "#.   .# #. .......#...\n",
      "#.###.# #. .#########.\n",
      "#.. #.# #.....#.......\n",
      " ## #.#########.      \n",
      "   ...#.........      \n",
      "   .###.              \n",
      " ...#...              \n",
      " .#####.              \n",
      " .#.....              \n",
      " .#.                  \n",
      " ...                  \n",
      "dir? w\n",
      "     ###              \n",
      "    #...#   #D        \n",
      "   ##.#.#   #.        \n",
      "  #...#.#   #.        \n",
      "  #. ##.#  ##.        \n",
      "  #.#...# #...   ...  \n",
      "  #.#.##  #.     .#. #\n",
      "  #. .#   #.     .#...\n",
      " ##. .#  ##.     .###.\n",
      "#... .# #...   ...#...\n",
      "#.   .# #.     .###.  \n",
      "#.   .# #. .......#...\n",
      "#.###.# #. .#########.\n",
      "#.. #.# #.....#.......\n",
      " ## #.#########.      \n",
      "   ...#.........      \n",
      "   .###.              \n",
      " ...#...              \n",
      " .#####.              \n",
      " .#.....              \n",
      " .#.                  \n",
      " ...                  \n",
      "dir? n\n",
      "     ###     #        \n",
      "    #...#   #D        \n",
      "   ##.#.#   #.        \n",
      "  #...#.#   #.        \n",
      "  #. ##.#  ##.        \n",
      "  #.#...# #...   ...  \n",
      "  #.#.##  #.     .#. #\n",
      "  #. .#   #.     .#...\n",
      " ##. .#  ##.     .###.\n",
      "#... .# #...   ...#...\n",
      "#.   .# #.     .###.  \n",
      "#.   .# #. .......#...\n",
      "#.###.# #. .#########.\n",
      "#.. #.# #.....#.......\n",
      " ## #.#########.      \n",
      "   ...#.........      \n",
      "   .###.              \n",
      " ...#...              \n",
      " .#####.              \n",
      " .#.....              \n",
      " .#.                  \n",
      " ...                  \n",
      "dir? e\n",
      "     ###     #        \n",
      "    #...#   #.D       \n",
      "   ##.#.#   #.        \n",
      "  #...#.#   #.        \n",
      "  #. ##.#  ##.        \n",
      "  #.#...# #...   ...  \n",
      "  #.#.##  #.     .#. #\n",
      "  #. .#   #.     .#...\n",
      " ##. .#  ##.     .###.\n",
      "#... .# #...   ...#...\n",
      "#.   .# #.     .###.  \n",
      "#.   .# #. .......#...\n",
      "#.###.# #. .#########.\n",
      "#.. #.# #.....#.......\n",
      " ## #.#########.      \n",
      "   ...#.........      \n",
      "   .###.              \n",
      " ...#...              \n",
      " .#####.              \n",
      " .#.....              \n",
      " .#.                  \n",
      " ...                  \n",
      "dir? n\n",
      "     ###     ##       \n",
      "    #...#   #.D       \n",
      "   ##.#.#   #.        \n",
      "  #...#.#   #.        \n",
      "  #. ##.#  ##.        \n",
      "  #.#...# #...   ...  \n",
      "  #.#.##  #.     .#. #\n",
      "  #. .#   #.     .#...\n",
      " ##. .#  ##.     .###.\n",
      "#... .# #...   ...#...\n",
      "#.   .# #.     .###.  \n",
      "#.   .# #. .......#...\n",
      "#.###.# #. .#########.\n",
      "#.. #.# #.....#.......\n",
      " ## #.#########.      \n",
      "   ...#.........      \n",
      "   .###.              \n",
      " ...#...              \n",
      " .#####.              \n",
      " .#.....              \n",
      " .#.                  \n",
      " ...                  \n",
      "dir? e\n",
      "     ###     ##       \n",
      "    #...#   #..D      \n",
      "   ##.#.#   #.        \n",
      "  #...#.#   #.        \n",
      "  #. ##.#  ##.        \n",
      "  #.#...# #...   ...  \n",
      "  #.#.##  #.     .#. #\n",
      "  #. .#   #.     .#...\n",
      " ##. .#  ##.     .###.\n",
      "#... .# #...   ...#...\n",
      "#.   .# #.     .###.  \n",
      "#.   .# #. .......#...\n",
      "#.###.# #. .#########.\n",
      "#.. #.# #.....#.......\n",
      " ## #.#########.      \n",
      "   ...#.........      \n",
      "   .###.              \n",
      " ...#...              \n",
      " .#####.              \n",
      " .#.....              \n",
      " .#.                  \n",
      " ...                  \n",
      "dir? n\n",
      "     ###     ##D      \n",
      "    #...#   #...      \n",
      "   ##.#.#   #.        \n",
      "  #...#.#   #.        \n",
      "  #. ##.#  ##.        \n",
      "  #.#...# #...   ...  \n",
      "  #.#.##  #.     .#. #\n",
      "  #. .#   #.     .#...\n",
      " ##. .#  ##.     .###.\n",
      "#... .# #...   ...#...\n",
      "#.   .# #.     .###.  \n",
      "#.   .# #. .......#...\n",
      "#.###.# #. .#########.\n",
      "#.. #.# #.....#.......\n",
      " ## #.#########.      \n",
      "   ...#.........      \n",
      "   .###.              \n",
      " ...#...              \n",
      " .#####.              \n",
      " .#.....              \n",
      " .#.                  \n",
      " ...                  \n",
      "dir? n\n",
      "               D      \n",
      "     ###     ##.      \n",
      "    #...#   #...      \n",
      "   ##.#.#   #.        \n",
      "  #...#.#   #.        \n",
      "  #. ##.#  ##.        \n",
      "  #.#...# #...   ...  \n",
      "  #.#.##  #.     .#. #\n",
      "  #. .#   #.     .#...\n",
      " ##. .#  ##.     .###.\n",
      "#... .# #...   ...#...\n",
      "#.   .# #.     .###.  \n",
      "#.   .# #. .......#...\n",
      "#.###.# #. .#########.\n",
      "#.. #.# #.....#.......\n",
      " ## #.#########.      \n",
      "   ...#.........      \n",
      "   .###.              \n",
      " ...#...              \n",
      " .#####.              \n",
      " .#.....              \n",
      " .#.                  \n",
      " ...                  \n"
     ]
    },
    {
     "name": "stdout",
     "output_type": "stream",
     "text": [
      "dir? w\n",
      "              #D      \n",
      "     ###     ##.      \n",
      "    #...#   #...      \n",
      "   ##.#.#   #.        \n",
      "  #...#.#   #.        \n",
      "  #. ##.#  ##.        \n",
      "  #.#...# #...   ...  \n",
      "  #.#.##  #.     .#. #\n",
      "  #. .#   #.     .#...\n",
      " ##. .#  ##.     .###.\n",
      "#... .# #...   ...#...\n",
      "#.   .# #.     .###.  \n",
      "#.   .# #. .......#...\n",
      "#.###.# #. .#########.\n",
      "#.. #.# #.....#.......\n",
      " ## #.#########.      \n",
      "   ...#.........      \n",
      "   .###.              \n",
      " ...#...              \n",
      " .#####.              \n",
      " .#.....              \n",
      " .#.                  \n",
      " ...                  \n",
      "dir? n\n",
      "               #      \n",
      "              #D      \n",
      "     ###     ##.      \n",
      "    #...#   #...      \n",
      "   ##.#.#   #.        \n",
      "  #...#.#   #.        \n",
      "  #. ##.#  ##.        \n",
      "  #.#...# #...   ...  \n",
      "  #.#.##  #.     .#. #\n",
      "  #. .#   #.     .#...\n",
      " ##. .#  ##.     .###.\n",
      "#... .# #...   ...#...\n",
      "#.   .# #.     .###.  \n",
      "#.   .# #. .......#...\n",
      "#.###.# #. .#########.\n",
      "#.. #.# #.....#.......\n",
      " ## #.#########.      \n",
      "   ...#.........      \n",
      "   .###.              \n",
      " ...#...              \n",
      " .#####.              \n",
      " .#.....              \n",
      " .#.                  \n",
      " ...                  \n",
      "dir? e\n",
      "               #      \n",
      "              #.D     \n",
      "     ###     ##.      \n",
      "    #...#   #...      \n",
      "   ##.#.#   #.        \n",
      "  #...#.#   #.        \n",
      "  #. ##.#  ##.        \n",
      "  #.#...# #...   ...  \n",
      "  #.#.##  #.     .#. #\n",
      "  #. .#   #.     .#...\n",
      " ##. .#  ##.     .###.\n",
      "#... .# #...   ...#...\n",
      "#.   .# #.     .###.  \n",
      "#.   .# #. .......#...\n",
      "#.###.# #. .#########.\n",
      "#.. #.# #.....#.......\n",
      " ## #.#########.      \n",
      "   ...#.........      \n",
      "   .###.              \n",
      " ...#...              \n",
      " .#####.              \n",
      " .#.....              \n",
      " .#.                  \n",
      " ...                  \n"
     ]
    }
   ],
   "source": [
    "while True:\n",
    "    d = input('dir? ')\n",
    "    if d == '':\n",
    "        break\n",
    "    if d not in maze.ezdirs:\n",
    "        print('oops')\n",
    "        continue\n",
    "    m.move(d)\n",
    "    m.dump()"
   ]
  },
  {
   "cell_type": "code",
   "execution_count": 794,
   "metadata": {},
   "outputs": [
    {
     "data": {
      "text/plain": [
       "<module 'maze' from '/home/xtian/scratch/notebooks/advent2019/maze.py'>"
      ]
     },
     "execution_count": 794,
     "metadata": {},
     "output_type": "execute_result"
    }
   ],
   "source": [
    "import importlib\n",
    "importlib.reload(maze)"
   ]
  },
  {
   "cell_type": "code",
   "execution_count": null,
   "metadata": {},
   "outputs": [],
   "source": []
  }
 ],
 "metadata": {
  "kernelspec": {
   "display_name": "Python 3",
   "language": "python",
   "name": "python3"
  },
  "language_info": {
   "codemirror_mode": {
    "name": "ipython",
    "version": 3
   },
   "file_extension": ".py",
   "mimetype": "text/x-python",
   "name": "python",
   "nbconvert_exporter": "python",
   "pygments_lexer": "ipython3",
   "version": "3.7.5rc1"
  }
 },
 "nbformat": 4,
 "nbformat_minor": 2
}
